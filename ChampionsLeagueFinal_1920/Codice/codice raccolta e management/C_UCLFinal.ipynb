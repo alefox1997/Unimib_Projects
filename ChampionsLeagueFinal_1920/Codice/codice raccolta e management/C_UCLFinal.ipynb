{
 "cells": [
  {
   "cell_type": "code",
   "execution_count": null,
   "metadata": {},
   "outputs": [],
   "source": [
    "from kafka import KafkaConsumer\n",
    "from pymongo import MongoClient\n",
    "from json import loads\n",
    "\n",
    "consumer = KafkaConsumer(\n",
    "    'UCLFinal',\n",
    "     bootstrap_servers=['kafka:9092'],\n",
    "     auto_offset_reset='latest',\n",
    "     enable_auto_commit=True,\n",
    "     value_deserializer=lambda x: loads(x.decode('utf-8')))\n",
    "\n",
    "client = MongoClient('mongo', 27017, username='admin', password='DataMan2019!')  #sfruttiamo la macchina virtuale\n",
    "collection = client.UCLFinal.partita\n",
    "## We subscribe to a topic\n",
    "consumer.subscribe([\"UCLFinal\"])    \n",
    "\n",
    "for message in consumer:\n",
    "    message = message.value\n",
    "    collection.insert_one(message)\n",
    "    #print('{} added to {}'.format(message, collection))  #prova a togliere print poi"
   ]
  },
  {
   "cell_type": "code",
   "execution_count": null,
   "metadata": {},
   "outputs": [],
   "source": []
  }
 ],
 "metadata": {
  "kernelspec": {
   "display_name": "Python 3",
   "language": "python",
   "name": "python3"
  },
  "language_info": {
   "codemirror_mode": {
    "name": "ipython",
    "version": 3
   },
   "file_extension": ".py",
   "mimetype": "text/x-python",
   "name": "python",
   "nbconvert_exporter": "python",
   "pygments_lexer": "ipython3",
   "version": "3.7.4"
  }
 },
 "nbformat": 4,
 "nbformat_minor": 4
}
