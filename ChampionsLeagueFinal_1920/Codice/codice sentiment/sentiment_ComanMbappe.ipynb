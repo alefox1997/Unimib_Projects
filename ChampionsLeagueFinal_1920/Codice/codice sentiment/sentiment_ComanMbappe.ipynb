{
 "cells": [
  {
   "cell_type": "code",
   "execution_count": 1,
   "metadata": {},
   "outputs": [],
   "source": [
    "import pymongo\n",
    "import json\n",
    "import datetime\n",
    "import pandas as pd\n",
    "from pprint import pprint\n",
    "from pymongo import MongoClient\n",
    "\n",
    "client = MongoClient('mongo', 27017, username='admin', password='DataMan2019!')\n",
    "\n",
    "db=client.UCLFinal"
   ]
  },
  {
   "cell_type": "code",
   "execution_count": 10,
   "metadata": {},
   "outputs": [],
   "source": [
    "#COMAN/MBAPPE:\n",
    "#impostiamo la ricerca per i nomi dei 2 bomber sopracitati, suddividendo la collezione relativa al match ogni 10 minuti di partita, compreso l'intervallo\n",
    "agg=db.partita.aggregate([\n",
    "   {'$match':{\"$and\":[{\"timestamp\":{\"$gt\":\"2020-08-23 22:51:00\",\"$lte\":\"2020-08-23 23:01:00\"}}, #ultima ricerca della serie\n",
    "    {\"text\":{'$regex': \"[Mm]bapp[eè]\"}}]}},  \n",
    "     {\n",
    "       '$project':\n",
    "         {\n",
    "             'id':'$id',\n",
    "             'user_location':'$user_location',\n",
    "             'language':'$language',\n",
    "             'timestamp':'$timestamp',\n",
    "             'text':'$text',\n",
    "             'hashtags':'$hashtags',\n",
    "             'urls':'$urls',\n",
    "             'user_mentions':'$user_mentions',\n",
    "             'geo':'$geo',\n",
    "             'coordinates':'$coordinates',\n",
    "             'retweet_count':'$retweet_count',\n",
    "             'retweeted':'$retweeted',\n",
    "             'is_a_retweet':'$is_a_retweet',\n",
    "             'user_followers':'$user_followers',\n",
    "             'minuto_partita': '$minuto_partita',\n",
    "             'minuto_effettivo':'$minuto_effettivo'\n",
    "            \n",
    "         }\n",
    "     },\n",
    "       { '$out' :'Mbappè_110120'}   ]    #ultima collezione della serie di collezioni\n",
    "   \n",
    ")\n",
    "\n"
   ]
  },
  {
   "cell_type": "code",
   "execution_count": 67,
   "metadata": {},
   "outputs": [],
   "source": [
    "agg=db.partita.aggregate([\n",
    "   {'$match':{\"$and\":[{\"timestamp\":{\"$gt\":\"2020-08-23 22:51:00\",\"$lte\":\"2020-08-23 23:01:00\"}}, #ultima ricerca per coman\n",
    "    {\"text\":{'$regex': \"[Cc]oman\"}}]}}, \n",
    "     {\n",
    "       '$project':\n",
    "         {\n",
    "             'id':'$id',\n",
    "             'user_location':'$user_location',\n",
    "             'language':'$language',\n",
    "             'timestamp':'$timestamp',\n",
    "             'text':'$text',\n",
    "             'hashtags':'$hashtags',\n",
    "             'urls':'$urls',\n",
    "             'user_mentions':'$user_mentions',\n",
    "             'geo':'$geo',\n",
    "             'coordinates':'$coordinates',\n",
    "             'retweet_count':'$retweet_count',\n",
    "             'retweeted':'$retweeted',\n",
    "             'is_a_retweet':'$is_a_retweet',\n",
    "             'user_followers':'$user_followers',\n",
    "             'minuto_partita': '$minuto_partita',\n",
    "             'minuto_effettivo':'$minuto_effettivo'\n",
    "            }\n",
    "     },\n",
    "       { '$out' :'Coman_110120'}   ]   #ultima collezione per coman\n",
    "\n",
    ")\n"
   ]
  },
  {
   "cell_type": "code",
   "execution_count": null,
   "metadata": {},
   "outputs": [],
   "source": []
  },
  {
   "cell_type": "code",
   "execution_count": null,
   "metadata": {},
   "outputs": [],
   "source": []
  },
  {
   "cell_type": "code",
   "execution_count": 88,
   "metadata": {},
   "outputs": [],
   "source": [
    "data=[\"2020-08-23 21:11:00\",\"2020-08-23 21:21:00\",\"2020-08-23 21:31:00\",\"2020-08-23 21:41:00\",\"2020-08-23 21:51:00\",\"2020-08-23 22:01:00\",\"2020-08-23 22:11:00\",\"2020-08-23 22:21:00\",\"2020-08-23 22:31:00\",\"2020-08-23 22:41:00\",\"2020-08-23 22:51:00\",\"2020-08-23 23:01:00\"]"
   ]
  },
  {
   "cell_type": "code",
   "execution_count": 89,
   "metadata": {},
   "outputs": [],
   "source": [
    "minuti=['0-10','10-20','20-30','30-40','40-intervallo','intervallo','intervallo-52','52-62','62-72','72-82','82-92','recupero-fine'] #si crea la lista dei minutaggi per poi inserirla nel dataset"
   ]
  },
  {
   "cell_type": "code",
   "execution_count": 90,
   "metadata": {},
   "outputs": [],
   "source": [
    "\n",
    "pos=[]\n",
    "neu=[]\n",
    "neg=[]\n",
    "punteggio=[]\n",
    "lb=[]\n",
    "ub=[]\n",
    "stdev=[]\n",
    "confint_score=[]\n",
    "\n",
    " #si creano queste liste vuote che saranno compilate mano a mano dal codice sottostante di sentiment analysis, ed unite per dare forma ad un dataset"
   ]
  },
  {
   "cell_type": "code",
   "execution_count": 102,
   "metadata": {},
   "outputs": [],
   "source": [
    "#SENTIMENT ANALYSIS:\n",
    "\n",
    "collezione = db.Mbappè_110120.find({\"language\":\"en\"})   #inseriamo tutti i subset e compiliamo i dataset, prima per mbappe e poi per coman\n",
    "#si seleziona la lingua inglese per questa analisi\n",
    "import re\n",
    "import math\n",
    "import numpy as np\n",
    "\n",
    "from textblob import TextBlob\n",
    "\n",
    "positive =0 \n",
    "negative =0\n",
    "neutral=0\n",
    "totale=0\n",
    "\n",
    "lista=[]\n",
    "\n",
    "def clean_tweet(tweet): \n",
    "    ''' Utility function to clean tweet text by removing links, special characters using simple regex statements. ''' \n",
    "    return ' '.join(re.sub(\"(@[A-Za-z0-9]+)|([^0-9A-Za-z \\t])|(\\w+://\\S+)\", \" \", tweet).split())\n",
    "\n",
    "def get_tweet_sentiment(tweet):\n",
    "\n",
    "    global positive\n",
    "    global negative\n",
    "    global neutral\n",
    "    global totale\n",
    "    ''' \n",
    "    Utility function to classify sentiment of passed tweet \n",
    "    using textblob's sentiment method \n",
    "    '''\n",
    "    # create TextBlob object of passed tweet text \n",
    "    analysis = TextBlob(clean_tweet(tweet)) \n",
    "    # set sentiment \n",
    "    #print(analysis.sentiment.polarity)\n",
    "    if analysis.sentiment.polarity > 0:\n",
    "        lista.append(analysis.sentiment.polarity)\n",
    "        positive=positive+1\n",
    "        #print(analysis)\n",
    "        totale=totale+analysis.sentiment.polarity\n",
    "        return 'positive'\n",
    "\n",
    "    elif analysis.sentiment.polarity == 0: \n",
    "        neutral=neutral+1\n",
    "        #print(analysis)\n",
    "        return 'neutral'\n",
    "    else: \n",
    "        lista.append(analysis.sentiment.polarity)\n",
    "        negative=negative+1\n",
    "        totale=totale+analysis.sentiment.polarity\n",
    "        #print(analysis)\n",
    "        return 'negative'\n",
    "\n",
    "for tweet in collezione:\n",
    "\n",
    "    get_tweet_sentiment(tweet['text'])\n",
    "    \n",
    "\n",
    "#creo 4 liste da comporre in un dataset finale:\n",
    "\n",
    "punt=totale/(positive+negative)\n",
    "dev=math.sqrt(np.var(lista))\n",
    "lower=punt-1.64*dev/(math.sqrt(positive+negative))  #intervallo della normale\n",
    "upper=punt+1.64*dev/(math.sqrt(positive+negative))\n",
    "confint=(round(lower,3),round(upper,3))\n",
    "\n",
    "pos.append(positive)\n",
    "neu.append(neutral)\n",
    "neg.append(negative)\n",
    "punteggio.append(punt)\n",
    "lb.append(lower)\n",
    "ub.append(upper)\n",
    "stdev.append(dev)\n",
    "confint_score.append(confint)"
   ]
  },
  {
   "cell_type": "code",
   "execution_count": null,
   "metadata": {},
   "outputs": [],
   "source": []
  },
  {
   "cell_type": "code",
   "execution_count": null,
   "metadata": {},
   "outputs": [],
   "source": [
    "Mbappe=pd.DataFrame({'data':data,'minuti':minuti,'positivi':pos,'negativi':neg,'neutrali':neu,'lower_bound':lb,'upper_bound':ub,'stdev':stdev,'punteggio':punteggio,'confint_score':confint_score})\n",
    "Mbappe"
   ]
  },
  {
   "cell_type": "code",
   "execution_count": null,
   "metadata": {},
   "outputs": [],
   "source": [
    "Coman=pd.DataFrame({'data':data,'minuti':minuti,'positivi':pos,'negativi':neg,'neutrali':neu,'lower_bound':lb,'upper_bound':ub,'stdev':stdev,'punteggio':punteggio,'confint-score':confint_score})\n",
    "Coman"
   ]
  },
  {
   "cell_type": "code",
   "execution_count": 217,
   "metadata": {},
   "outputs": [],
   "source": []
  },
  {
   "cell_type": "code",
   "execution_count": null,
   "metadata": {},
   "outputs": [],
   "source": []
  },
  {
   "cell_type": "code",
   "execution_count": 85,
   "metadata": {},
   "outputs": [],
   "source": [
    "Coman[\"lower_bound\"]=round(Coman[\"lower_bound\"],3)\n",
    "Coman[\"upper_bound\"]=round(Coman[\"upper_bound\"],3)\n",
    "Coman[\"sentiment_score\"]=round(Coman[\"punteggio\"],3)\n",
    "Coman[\"stdev\"]=round(Coman[\"stdev\"],3)\n",
    "Coman=Coman.drop(\"punteggio\",axis='columns')"
   ]
  },
  {
   "cell_type": "code",
   "execution_count": null,
   "metadata": {},
   "outputs": [],
   "source": []
  },
  {
   "cell_type": "code",
   "execution_count": 104,
   "metadata": {},
   "outputs": [],
   "source": [
    "Mbappe[\"lower_bound\"]=round(Mbappe[\"lower_bound\"],3)\n",
    "Mbappe[\"upper_bound\"]=round(Mbappe[\"upper_bound\"],3)\n",
    "Mbappe[\"sentiment_score\"]=round(Mbappe[\"punteggio\"],3)\n",
    "Mbappe[\"stdev\"]=round(Mbappe[\"stdev\"],3)\n",
    "Mbappe=Mbappe.drop(\"punteggio\",axis='columns')"
   ]
  },
  {
   "cell_type": "code",
   "execution_count": 87,
   "metadata": {},
   "outputs": [],
   "source": [
    "#esportare dati in tsv\n",
    "Coman.to_csv(\"Coman_def\",sep='\\t',index=False)\n"
   ]
  },
  {
   "cell_type": "code",
   "execution_count": 106,
   "metadata": {},
   "outputs": [],
   "source": [
    "Mbappe.to_csv(\"Mbappe_definitivo\",sep='\\t',index=False)"
   ]
  },
  {
   "cell_type": "code",
   "execution_count": null,
   "metadata": {},
   "outputs": [],
   "source": []
  }
 ],
 "metadata": {
  "kernelspec": {
   "display_name": "Python 3",
   "language": "python",
   "name": "python3"
  },
  "language_info": {
   "codemirror_mode": {
    "name": "ipython",
    "version": 3
   },
   "file_extension": ".py",
   "mimetype": "text/x-python",
   "name": "python",
   "nbconvert_exporter": "python",
   "pygments_lexer": "ipython3",
   "version": "3.7.4"
  }
 },
 "nbformat": 4,
 "nbformat_minor": 4
}
