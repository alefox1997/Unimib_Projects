{
 "cells": [
  {
   "cell_type": "markdown",
   "metadata": {
    "colab_type": "text",
    "id": "xLOuBea6zuA2"
   },
   "source": [
    "# PROGETTO DATAMAN: script relativo allo scraping della cronaca del match PSG-Bayern"
   ]
  },
  {
   "cell_type": "markdown",
   "metadata": {
    "colab_type": "text",
    "id": "MKXDPIp40aES"
   },
   "source": [
    "\n",
    "\n",
    "*   Importazione dei pacchetti\n",
    "\n"
   ]
  },
  {
   "cell_type": "code",
   "execution_count": 1,
   "metadata": {
    "colab": {},
    "colab_type": "code",
    "id": "fApW2Dszzp8z"
   },
   "outputs": [],
   "source": [
    "import numpy as np \n",
    "import pandas as pd\n",
    "import requests \n",
    "from bs4 import BeautifulSoup\n",
    "import json\n",
    "import re"
   ]
  },
  {
   "cell_type": "markdown",
   "metadata": {
    "colab_type": "text",
    "id": "ATRin9bw0gjV"
   },
   "source": [
    "* Varaibilizzazione URL dal sito di Repubblica: [PSG-Bayern](https://www.repubblica.it/sport/live/calcio/europa/champions-league/2019/diretta/psg-bayern%20m.)\n",
    "* Estrazione dati dalla pagina con BeautifulSoup"
   ]
  },
  {
   "cell_type": "code",
   "execution_count": 2,
   "metadata": {
    "colab": {},
    "colab_type": "code",
    "id": "pyXtMQB002gM"
   },
   "outputs": [],
   "source": [
    "url='https://www.repubblica.it/sport/live/calcio/europa/champions-league/2019/diretta/psg-bayern%20m.'\n",
    "res = requests.get(url)\n",
    "soup = BeautifulSoup(res.content, \"lxml\")"
   ]
  },
  {
   "cell_type": "markdown",
   "metadata": {
    "colab_type": "text",
    "id": "lw0vveHT1Pur"
   },
   "source": [
    "* Estrazione della sezione d'interesse dal sito, in formato json"
   ]
  },
  {
   "cell_type": "code",
   "execution_count": 3,
   "metadata": {
    "colab": {},
    "colab_type": "code",
    "id": "kVv8kkxT10D_"
   },
   "outputs": [],
   "source": [
    "data = soup.find(\"script\",{\"type\":\"application/ld+json\"})\n",
    "oJson = json.loads(data.text)"
   ]
  },
  {
   "cell_type": "markdown",
   "metadata": {
    "colab_type": "text",
    "id": "l28ojD652HM8"
   },
   "source": [
    "* Pulizia dell'estratto e disposizione degli eventi in una lista relativamente al minutaggio"
   ]
  },
  {
   "cell_type": "code",
   "execution_count": 4,
   "metadata": {
    "colab": {},
    "colab_type": "code",
    "id": "NAMuSTL22dlz"
   },
   "outputs": [],
   "source": [
    "com=re.compile(r'\\xa0*')\n",
    "text=com.sub('',oJson['articleBody'])"
   ]
  },
  {
   "cell_type": "code",
   "execution_count": 5,
   "metadata": {
    "colab": {},
    "colab_type": "code",
    "id": "l4fxghL22jwI"
   },
   "outputs": [],
   "source": [
    "text_1=re.findall(r'>(.+?)<',text)\n",
    "\n",
    "com1=re.compile(r'<br>|<b>')\n",
    "com3=re.compile(r\"<div>\")\n",
    "ls=[]\n",
    "for i in range(0,len(text_1)):\n",
    "    if com3.search(text_1[i]):\n",
    "        del text_1[i:len(text_1)]\n",
    "        break\n",
    "    ls.append(com1.sub('',text_1[i]))"
   ]
  },
  {
   "cell_type": "code",
   "execution_count": 6,
   "metadata": {
    "colab": {},
    "colab_type": "code",
    "id": "svmDenwO2nr7"
   },
   "outputs": [],
   "source": [
    "com2=re.compile(\"^(?![0-9]+\\'\\:)\")\n",
    "for k in range(0,3):\n",
    "    i=0\n",
    "    while True:\n",
    "        if com2.search(ls[i]):\n",
    "            x=ls.index(ls[i])-1\n",
    "            xx=ls.index(ls[i])+1\n",
    "            ls[x:xx]=[''.join(ls[x:xx])]\n",
    "        i+=1\n",
    "        if (i==(len(ls))) | (i==len(ls)-1):\n",
    "            break"
   ]
  },
  {
   "cell_type": "code",
   "execution_count": 7,
   "metadata": {
    "colab": {},
    "colab_type": "code",
    "id": "Wpvh4pem2sjb"
   },
   "outputs": [],
   "source": [
    "ls=[i for i in ls if re.search(r':', i) is not None]"
   ]
  },
  {
   "cell_type": "code",
   "execution_count": 8,
   "metadata": {
    "colab": {},
    "colab_type": "code",
    "id": "d1cuYOOC2uMh"
   },
   "outputs": [],
   "source": [
    "if re.search(\"(0':)|calcio d'inizio\",ls[len(ls)-1]) is None:\n",
    "    ls.append(\"0': Calcio d'inizio\")"
   ]
  },
  {
   "cell_type": "markdown",
   "metadata": {
    "colab_type": "text",
    "id": "395bLYHY2wcV"
   },
   "source": [
    "* Creazione delle variabili minuto e testo utili alla creazione del dataframe"
   ]
  },
  {
   "cell_type": "code",
   "execution_count": 9,
   "metadata": {
    "colab": {},
    "colab_type": "code",
    "id": "Hl1sLyJR26gC"
   },
   "outputs": [],
   "source": [
    "minuto=[]\n",
    "testo=[]\n",
    "for i in ls:\n",
    "    x=i.split(':')\n",
    "    minuto.append(x[0])\n",
    "    testo.append(x[1])"
   ]
  },
  {
   "cell_type": "code",
   "execution_count": 10,
   "metadata": {
    "colab": {},
    "colab_type": "code",
    "id": "Dty6bUWF29NT"
   },
   "outputs": [],
   "source": [
    "last_min=re.search(\"^9[0-9]\\'\",text)\n",
    "if re.search(\"^9[0-9]\\'\",text) is not None:\n",
    "    minuto.insert(0,last_min.group(0))\n",
    "    testo.insert(0,'Fine partita')"
   ]
  },
  {
   "cell_type": "code",
   "execution_count": 11,
   "metadata": {
    "colab": {},
    "colab_type": "code",
    "id": "dW_PHwPY3CjD"
   },
   "outputs": [],
   "source": [
    "minuto.reverse()\n",
    "testo.reverse()"
   ]
  },
  {
   "cell_type": "code",
   "execution_count": 12,
   "metadata": {
    "colab": {},
    "colab_type": "code",
    "id": "5Bis-4EL3EKv"
   },
   "outputs": [],
   "source": [
    "dataframe=pd.DataFrame({'minuto':minuto,'testo':testo})"
   ]
  },
  {
   "cell_type": "markdown",
   "metadata": {
    "colab_type": "text",
    "id": "HspiN9mP3JI9"
   },
   "source": [
    "* Predisposizione di espressioni regolari utili all'identificazione nel testo di parole chiave riguardanti il relativo commento della cronaca allo scopo di creare le variabili:\n",
    "\n",
    "> * **squadre**: quelle coinvolte nel commento\n",
    "> * **soggetti**: i giocatori menzionati nel commento\n",
    "> * **eventi**: termini che identificano l'evento accaduto nel rispettivo minuto di gioco\n"
   ]
  },
  {
   "cell_type": "code",
   "execution_count": 13,
   "metadata": {
    "colab": {},
    "colab_type": "code",
    "id": "rvzuIBY23FyD"
   },
   "outputs": [],
   "source": [
    "com_psg=re.compile('navas|kehrer|bernat|marquinhos|silva|thiago silva|kimpembe|herrera|paredes|neymar|di mar[ií]a|mbappé|verratti|kurzawa|draxler|choupo-moting|psg')\n",
    "com_bayern=re.compile('neuer|kimmich|davies|alc[aá]ntara|boateng|alaba|gnabry|goretzka|lewandowski|muller|com[ea]n|perisic|tolisso|coutinho|sule|bayern')\n",
    "com_totale=re.compile('navas|kehrer|bernat|marquinhos|silva|thiago silva|thiago|kimpembe|herrera|paredes|neymar|di mar[ií]a|mbappé|verratti|kurzawa|draxler|choupo-moting|neuer|kimmich|davies|alc[aá]ntara|boateng|alaba|gnabry|goretzka|lewandowski|muller|coman|perisic|tolisso|coutinho|sule')"
   ]
  },
  {
   "cell_type": "code",
   "execution_count": 14,
   "metadata": {
    "colab": {},
    "colab_type": "code",
    "id": "1jCZmjgt4cIm"
   },
   "outputs": [],
   "source": [
    "com_inizio=re.compile(\"riparte|calcio d'inizio|ripresa\")\n",
    "com_palo=re.compile(\"palo\")\n",
    "com_pallonetto=re.compile('pallonetto')\n",
    "com_chiusura=re.compile('chiuso|chiusura|chiude')\n",
    "com_var=re.compile('var ')\n",
    "com_contrasto=re.compile('contrasto')\n",
    "com_deviazione=re.compile('deviazione|deviato')\n",
    "com_tiro=re.compile('ci prova|calcia|destro|fuori|girata|calcia|conclusione|sassata|spara|spreca|sinistro|manda il pallone|manda la palla')\n",
    "com_fuorigioco=re.compile('fuorigioco|offside') \n",
    "com_giallo=re.compile('giallo|ammonito|ammonizione')\n",
    "com_traversone=re.compile('traversone')\n",
    "com_mano=re.compile('braccio|mano')\n",
    "com_scivolata=re.compile('scivolata')\n",
    "com_rigore=re.compile('rigore per')\n",
    "com_area_rigore=re.compile('area di rigore')\n",
    "com_muro=re.compile('murato|barriera')\n",
    "com_fuori=re.compile('fuori|sul fondo')\n",
    "com_gol=re.compile('([0-9]+)\\-([0-9]+)|il gol') \n",
    "com_assist=re.compile('assist |serve|lancio')\n",
    "com_gol_null=re.compile('gol annullato')\n",
    "com_pressing=re.compile('pressing|pressa')\n",
    "com_testa=re.compile('testa')\n",
    "com_cooling=re.compile('cooling break')\n",
    "com_rischio=re.compile('rischia|spinta') \n",
    "com_cross=re.compile('cross|crossa')\n",
    "com_corner=re.compile(\"calcio d'angolo|corner|in angolo\")\n",
    "com_fermo=re.compile('gioco fermo|problemi per|rissa|gioco era fermo')\n",
    "com_sostituzioni=re.compile('sostituzione|sostituzioni|cambio|deve uscire')\n",
    "com_punizione=re.compile('punizione|fallo')\n",
    "com_fuori=re.compile('fuori|fallo laterale|out|sul fondo')\n",
    "com_recupero=re.compile('recupero|per altri ([0-9]+)')\n",
    "com_primo_tempo=re.compile('fine primo tempo|finisce il primo tempo')\n",
    "com_parata=re.compile('tra le braccia|parata|pugni|blocca |presa bassa|pugno|presa alta|respinge|respingere|respinto|respinta|in uscita')\n",
    "com_fine=re.compile('fine partita')\n",
    "\n",
    "dizionario={\"calcio d'inizio\":com_inizio,\"pressing\":com_pressing,\"cooling break\":com_cooling,\"traversone\":com_traversone,\"fuori\":com_fuori,\"var\":com_var,'chiusura':com_chiusura,'pallonetto':com_pallonetto,'deviazione':com_deviazione,\n",
    "            'palo':com_palo,'tiro':com_tiro,'fuorigioco':com_fuorigioco,\"scivolata\":com_scivolata,'contrasto':com_contrasto,\"fine primo tempo\":com_primo_tempo,\n",
    "            'cartellino giallo':com_giallo,'colpo di testa':com_testa,'rigore':com_rigore,'area di rigore':com_area_rigore,'gol':com_gol,'assist':com_assist,\n",
    "           'gol annullato':com_gol_null,'muro':com_muro,'gioco pericoloso':com_rischio,'cross':com_cross,'corner':com_corner,'parata':com_parata,\n",
    "           'gioco fermo':com_fermo,'sostituzione':com_sostituzioni,'punizione':com_punizione,'recupero':com_recupero,'fine partita':com_fine,'mano':com_mano}"
   ]
  },
  {
   "cell_type": "code",
   "execution_count": 15,
   "metadata": {
    "colab": {},
    "colab_type": "code",
    "id": "F-TC6LdC4gED"
   },
   "outputs": [],
   "source": [
    "def findall(compiled, string):\n",
    "    lista=[]\n",
    "    while True:\n",
    "        match = compiled.search(string)\n",
    "        if not match:\n",
    "            break\n",
    "        lista.append(match.group(0))\n",
    "        string = string[match.end():]\n",
    "    return lista"
   ]
  },
  {
   "cell_type": "code",
   "execution_count": 16,
   "metadata": {
    "colab": {
     "base_uri": "https://localhost:8080/",
     "height": 374
    },
    "colab_type": "code",
    "id": "YXqX9eAl5mQh",
    "outputId": "ee74919f-85c9-4d58-e71d-90f77759f24a"
   },
   "outputs": [
    {
     "name": "stderr",
     "output_type": "stream",
     "text": [
      "/usr/local/lib/python3.6/dist-packages/ipykernel_launcher.py:69: SettingWithCopyWarning: \n",
      "A value is trying to be set on a copy of a slice from a DataFrame\n",
      "\n",
      "See the caveats in the documentation: https://pandas.pydata.org/pandas-docs/stable/user_guide/indexing.html#returning-a-view-versus-a-copy\n",
      "/usr/local/lib/python3.6/dist-packages/pandas/core/indexing.py:671: SettingWithCopyWarning: \n",
      "A value is trying to be set on a copy of a slice from a DataFrame\n",
      "\n",
      "See the caveats in the documentation: https://pandas.pydata.org/pandas-docs/stable/user_guide/indexing.html#returning-a-view-versus-a-copy\n",
      "  self._setitem_with_indexer(indexer, value)\n",
      "/usr/local/lib/python3.6/dist-packages/ipykernel_launcher.py:52: SettingWithCopyWarning: \n",
      "A value is trying to be set on a copy of a slice from a DataFrame\n",
      "\n",
      "See the caveats in the documentation: https://pandas.pydata.org/pandas-docs/stable/user_guide/indexing.html#returning-a-view-versus-a-copy\n",
      "/usr/local/lib/python3.6/dist-packages/ipykernel_launcher.py:55: SettingWithCopyWarning: \n",
      "A value is trying to be set on a copy of a slice from a DataFrame\n",
      "\n",
      "See the caveats in the documentation: https://pandas.pydata.org/pandas-docs/stable/user_guide/indexing.html#returning-a-view-versus-a-copy\n",
      "/usr/local/lib/python3.6/dist-packages/ipykernel_launcher.py:61: SettingWithCopyWarning: \n",
      "A value is trying to be set on a copy of a slice from a DataFrame\n",
      "\n",
      "See the caveats in the documentation: https://pandas.pydata.org/pandas-docs/stable/user_guide/indexing.html#returning-a-view-versus-a-copy\n"
     ]
    }
   ],
   "source": [
    "dataframe['squadre']=0\n",
    "dataframe['soggetti']=0\n",
    "dataframe['eventi']=0\n",
    "\n",
    "for i in range(0,len(dataframe['testo'])):\n",
    "    frase=dataframe.testo[i].lower()\n",
    "    x=com_psg.search(frase)\n",
    "    y=com_bayern.search(frase)\n",
    "    z=findall(com_totale,frase)\n",
    "    status_x=False\n",
    "    status_y=False\n",
    "    \n",
    "    eventi=[]\n",
    "    for j,k in dizionario.items(): \n",
    "        if k.search(frase):\n",
    "            eventi.append(j)\n",
    "            if j==\"calcio d'inizio\":\n",
    "                if i==0:\n",
    "                    eventi=[]\n",
    "                    eventi.append(\"inizio primo tempo\")\n",
    "                elif (i>0) & (dataframe.eventi[i-1]=='cooling break'):\n",
    "                    eventi=[]\n",
    "                    eventi.append(\"ripresa dal break\")\n",
    "                else:\n",
    "                    eventi.append(\"calcio d'inizio\")\n",
    "                \n",
    "                \n",
    "    if ('rigore' in eventi) & ('area di rigore' in eventi):\n",
    "        eventi.remove('rigore')\n",
    "        eventi.remove('area di rigore')\n",
    "    \n",
    "    if ('var' in eventi) & ('gol' in eventi):\n",
    "        eventi.remove('gol')\n",
    "    \n",
    "    if ('rigore' in eventi) & ('punizione' in eventi):\n",
    "        eventi.remove('punizione')\n",
    "    \n",
    "    if ('fallo' in eventi) & ('fuori' in eventi):\n",
    "        eventi.remove('fallo')\n",
    "    \n",
    "    if ('gol' in eventi) & (re.search('sarebbe',frase) is not None):\n",
    "        eventi=[]\n",
    "    \n",
    "    if (re.search('entra',frase) is not None) & (re.search('esce',frase) is not None):\n",
    "        eventi=[]\n",
    "        eventi.append('sostituzione')\n",
    "    \n",
    "    if re.search('chiuso in angolo|anticipato in angolo',frase) is not None:\n",
    "        eventi.remove('corner')\n",
    "        \n",
    "    if x:\n",
    "        dataframe.squadre[i]='psg'\n",
    "        status_x=True\n",
    "    if y:\n",
    "        dataframe.squadre[i]='bayern'\n",
    "        status_y=True\n",
    "    if status_x & status_y:\n",
    "        dataframe.squadre[i]='psg, bayern'\n",
    "    \n",
    "    if z:\n",
    "        dataframe.soggetti[i]=str(', '.join(list(set(z))))\n",
    "        \n",
    "    if \"fine primo tempo\" in eventi:\n",
    "        eventi=[]\n",
    "        eventi.append('fine primo tempo')\n",
    "        dataframe.soggetti[i]=str('')\n",
    "    \n",
    "    \n",
    "    dataframe.eventi[i]=str(', '.join(eventi))"
   ]
  },
  {
   "cell_type": "markdown",
   "metadata": {
    "colab_type": "text",
    "id": "nF2l_2eE5vuj"
   },
   "source": [
    "* Perfezionamento del dataset a fini di leggibilità e creazione di una variabile **minuto effettivo** utile a scopi futuri"
   ]
  },
  {
   "cell_type": "code",
   "execution_count": 17,
   "metadata": {
    "colab": {},
    "colab_type": "code",
    "id": "0okge33A5p53"
   },
   "outputs": [],
   "source": [
    "for i in dataframe.minuto:\n",
    "    if re.search('45',i) is not None:\n",
    "        index0=dataframe[dataframe.minuto==i].index[0]+1"
   ]
  },
  {
   "cell_type": "code",
   "execution_count": 18,
   "metadata": {
    "colab": {},
    "colab_type": "code",
    "id": "Vbz-c0Lf6MZ-"
   },
   "outputs": [],
   "source": [
    "index1=dataframe[dataframe.eventi=='fine primo tempo'].index[0]+1\n",
    "for i in range(index0,index1):\n",
    "    x=int(dataframe.minuto[i].replace(\"'\",\"\"))-45\n",
    "    dataframe.minuto[i]=\"45' + \"+str(x)+\"'\""
   ]
  },
  {
   "cell_type": "code",
   "execution_count": 19,
   "metadata": {
    "colab": {},
    "colab_type": "code",
    "id": "LXN4s9-N6ODi"
   },
   "outputs": [],
   "source": [
    "index2=dataframe[dataframe.eventi=='recupero'].index\n",
    "index2=index2[index2>70][0]+1\n",
    "index3=len(dataframe)\n",
    "for i in range(index2,index3):\n",
    "    x=int(dataframe.minuto[i].replace(\"'\",\"\"))-90\n",
    "    dataframe.minuto[i]=\"90' + \"+str(x)+\"'\""
   ]
  },
  {
   "cell_type": "code",
   "execution_count": 20,
   "metadata": {
    "colab": {},
    "colab_type": "code",
    "id": "4nrHB6Nh6PsD"
   },
   "outputs": [],
   "source": [
    "compiler=re.compile('^(?P<minuto>\\d+\\')[\\s\\+\\s]*(?P<recupero>\\d\\')*$')\n",
    "lista_1=[]\n",
    "for i in dataframe.minuto:\n",
    "    recupero1=0\n",
    "    recupero2=0\n",
    "    searcher=compiler.search(i)\n",
    "    min_partita=re.search('\\d+',searcher.group('minuto')).group(0)\n",
    "    if searcher.group('recupero') != None:\n",
    "        if dataframe[dataframe.minuto==i].index[0]>50:\n",
    "            recupero2=re.search('\\d',searcher.group('recupero')).group(0)\n",
    "        else:\n",
    "            recupero1=re.search('\\d',searcher.group('recupero')).group(0)\n",
    "    lista_1.append(int(min_partita)+int(recupero1)+int(recupero2))"
   ]
  },
  {
   "cell_type": "code",
   "execution_count": 21,
   "metadata": {
    "colab": {},
    "colab_type": "code",
    "id": "yxi1wkM36Rpw"
   },
   "outputs": [],
   "source": [
    "dataframe.insert(loc=1,column='minuto_effettivo',value=lista_1)"
   ]
  },
  {
   "cell_type": "markdown",
   "metadata": {
    "colab_type": "text",
    "id": "qapG9ekF6Tzh"
   },
   "source": [
    "* Creazione dei un file csv a partire dal dataframe ultimato"
   ]
  },
  {
   "cell_type": "code",
   "execution_count": 22,
   "metadata": {
    "colab": {},
    "colab_type": "code",
    "id": "vlQPw27K6coq"
   },
   "outputs": [],
   "source": [
    "dataframe.to_csv('FinaleCronaca.csv')"
   ]
  }
 ],
 "metadata": {
  "colab": {
   "name": "Finale_Cronaca.ipynb",
   "provenance": []
  },
  "kernelspec": {
   "display_name": "Python 3",
   "language": "python",
   "name": "python3"
  },
  "language_info": {
   "codemirror_mode": {
    "name": "ipython",
    "version": 3
   },
   "file_extension": ".py",
   "mimetype": "text/x-python",
   "name": "python",
   "nbconvert_exporter": "python",
   "pygments_lexer": "ipython3",
   "version": "3.7.4"
  }
 },
 "nbformat": 4,
 "nbformat_minor": 1
}
