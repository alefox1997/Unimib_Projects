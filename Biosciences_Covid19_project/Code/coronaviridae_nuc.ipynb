{
 "metadata": {
  "language_info": {
   "codemirror_mode": {
    "name": "ipython",
    "version": 3
   },
   "file_extension": ".py",
   "mimetype": "text/x-python",
   "name": "python",
   "nbconvert_exporter": "python",
   "pygments_lexer": "ipython3",
   "version": "3.9.5"
  },
  "orig_nbformat": 2,
  "kernelspec": {
   "name": "python395jvsc74a57bd0ce1e901da04acbe50dd99cd0d91cb411cb2166c3507dec81ce620981a8df4741",
   "display_name": "Python 3.9.5 64-bit"
  },
  "metadata": {
   "interpreter": {
    "hash": "ce1e901da04acbe50dd99cd0d91cb411cb2166c3507dec81ce620981a8df4741"
   }
  }
 },
 "nbformat": 4,
 "nbformat_minor": 2,
 "cells": [
  {
   "cell_type": "code",
   "execution_count": 26,
   "metadata": {},
   "outputs": [],
   "source": [
    "import pandas as pd\n",
    "df = pd.read_csv('parenti_totale.csv')"
   ]
  },
  {
   "cell_type": "code",
   "execution_count": 92,
   "metadata": {},
   "outputs": [],
   "source": [
    "import re\n",
    "def extract_aff(total_string):\n",
    "    aff_list = []\n",
    "    aff = re.findall(\"(?s)affil std {(.*?)}\", total_string)\n",
    "    for el in aff:\n",
    "        aff_list.append(el)\n",
    "    if len(aff)>0 :\n",
    "        return aff_list\n",
    "     \n",
    "    aff2 = re.findall(\"(?s)affil str \\\"(.*?)\\\"\", total_string)\n",
    "    for el in aff2:\n",
    "        aff_list.append(el)\n",
    "\n",
    "\n",
    "    aff3 = re.findall(\"(?s)affil \\\"(.*?)\\\"\", total_string)\n",
    "    for el in aff3:\n",
    "        aff_list.append(el)    \n",
    "    \n",
    "    return aff_list\n",
    "\n",
    "def extract_country2(affiliations):\n",
    "            countries = []\n",
    "            for el in affiliations:\n",
    "                country = re.findall(\"(?s)affil \\\"(.*?)\\\"\", el)\n",
    "                for el in country:\n",
    "                    countries.append(el)\n",
    "            if len(countries)>0 :\n",
    "                return countries\n",
    "            else:\n",
    "                 for el in affiliations:\n",
    "                    country = re.findall(\"(?s)affil str \\\"(.*?)\\\"\", el)\n",
    "                    for el in country:\n",
    "                        countries.append(el)\n",
    "            if len(countries)>0 :\n",
    "                return countries            \n",
    "            else:\n",
    "                return affiliations\n",
    "\n",
    "\n",
    "def extract_country(affiliations):\n",
    "            countries = []\n",
    "            for el in affiliations:\n",
    "                country = re.findall(\"(?s)affil str \\\"(.*?)\\\"\", el)\n",
    "                for el in country:\n",
    "                    countries.append(clean_long(el))\n",
    "\n",
    "\n",
    "            if(len(countries)==0):\n",
    "                for el in affiliations:\n",
    "                    country = re.search(\"(?s)country \\\"(.*?)\\\"\", el)\n",
    "                    if(country != None):\n",
    "                        \n",
    "                        countries.append(extract_tra_virgolette(el[int(country.span()[0]):int(country.span()[1])]))\n",
    "                    else:\n",
    "                        countries.append(\"no country\")            \n",
    "            return countries\n",
    "\n",
    "def remove_digits(row):\n",
    "    countries = row['country']\n",
    "    for el in countries:\n",
    "        regex = re.findall(\"\\d\", el)\n",
    "        if regex:\n",
    "            countries.remove(el)\n",
    "    return countries\n",
    " \n",
    "     \n",
    "\n",
    "def extract_first(countries):\n",
    "    if countries:\n",
    "        return countries[0]\n",
    "    else:\n",
    "        return \"empty_list\" \n",
    "\n",
    "def extract_last(countries):\n",
    "    if countries:\n",
    "        return countries[-1]\n",
    "    else:\n",
    "        return \"empty_list\"  \n",
    "def countries_fl(riga):\n",
    "    lista = []\n",
    "    lista.append(riga['first_country'])\n",
    "    lista.append(riga['last_country'])\n",
    "    return lista                      \n",
    "\n",
    "def clean_long(long_string):\n",
    "    if len(long_string)>50:\n",
    "        result = long_string.rsplit(None, 1)[-1]\n",
    "        return result[:-1]        \n",
    "    else:\n",
    "        return long_string\n",
    "\n",
    "def extract_tra_virgolette(stringa):\n",
    "     country = re.search(\"(?s)\\\"(.*?)\\\"\", stringa)\n",
    "     return stringa[int(country.span()[0]+1):int(country.span()[1]-1)]\n",
    "\n",
    "def controllo_uguali(row):\n",
    "    if row['first_country'] == row['last_country']:\n",
    "        return \"uguali\"\n",
    "    else:\n",
    "        return \"diversi\"\n",
    "\n",
    "def len_affiliations(row):\n",
    "    return len(row['country'])\n"
   ]
  },
  {
   "cell_type": "code",
   "execution_count": 93,
   "metadata": {},
   "outputs": [
    {
     "output_type": "execute_result",
     "data": {
      "text/plain": [
       "0        [\\n              affil \"University of Sao Paul...\n",
       "1        [\\n              affil \"University of Sao Paul...\n",
       "2        [\\n              affil \"University of Sao Paul...\n",
       "3        [\\n              affil \"Hebei Normal Universit...\n",
       "4        [\\n              affil \"Hebei Normal Universit...\n",
       "                               ...                        \n",
       "37173    [\\n              affil \"National Veterinary Re...\n",
       "37174    [\\n              affil \"Konkuk University\",\\n ...\n",
       "37175    [\\n              affil \"Konkuk University\",\\n ...\n",
       "37176    [\\n              affil \"Konkuk University\",\\n ...\n",
       "37177    [\\n              affil \"Konkuk University\",\\n ...\n",
       "Name: affiliations, Length: 37178, dtype: object"
      ]
     },
     "metadata": {},
     "execution_count": 93
    }
   ],
   "source": [
    "df['affiliations'] = df.apply(lambda row: extract_aff(row['total_string']),axis=1)\n",
    "df['affiliations']"
   ]
  },
  {
   "cell_type": "code",
   "execution_count": 95,
   "metadata": {},
   "outputs": [
    {
     "output_type": "execute_result",
     "data": {
      "text/plain": [
       "0        University of Sao Paulo, School of Veterinary ...\n",
       "1        University of Sao Paulo, School of Veterinary ...\n",
       "2        University of Sao Paulo, School of Veterinary ...\n",
       "3        Hebei Normal University of Scicine and Technology\n",
       "4        Hebei Normal University of Scicine and Technology\n",
       "                               ...                        \n",
       "37173    National Veterinary Research and Quarantine Se...\n",
       "37174                                    Konkuk University\n",
       "37175                                    Konkuk University\n",
       "37176                                    Konkuk University\n",
       "37177                                    Konkuk University\n",
       "Name: first_affiliation, Length: 37178, dtype: object"
      ]
     },
     "metadata": {},
     "execution_count": 95
    }
   ],
   "source": [
    "df['first_affiliation'] = df.apply(lambda row: extract_first(row['affiliations']),axis=1)\n",
    "df['first_affiliation']"
   ]
  },
  {
   "cell_type": "code",
   "execution_count": 94,
   "metadata": {},
   "outputs": [
    {
     "output_type": "execute_result",
     "data": {
      "text/plain": [
       "0        [University of Sao Paulo, School of Veterinary...\n",
       "1        [University of Sao Paulo, School of Veterinary...\n",
       "2        [University of Sao Paulo, School of Veterinary...\n",
       "3        [Hebei Normal University of Scicine and Techno...\n",
       "4        [Hebei Normal University of Scicine and Techno...\n",
       "                               ...                        \n",
       "37173    [National Veterinary Research and Quarantine S...\n",
       "37174                                  [Konkuk University]\n",
       "37175                                  [Konkuk University]\n",
       "37176                                  [Konkuk University]\n",
       "37177                                  [Konkuk University]\n",
       "Name: affiliations, Length: 37178, dtype: object"
      ]
     },
     "metadata": {},
     "execution_count": 94
    }
   ],
   "source": [
    "df['affiliations'] = df.apply(lambda row: extract_country2(row['affiliations']),axis=1)\n",
    "df['affiliations']"
   ]
  },
  {
   "cell_type": "code",
   "execution_count": 98,
   "metadata": {},
   "outputs": [
    {
     "output_type": "execute_result",
     "data": {
      "text/plain": [
       "One Health Institute & Karen C Drayer Wildlife Health\\n Center, School of Veterinary Medicine, University of California, Davis       1424\n",
       "China Animal Health and Epidemiology Center                                                                                           853\n",
       "The University of Hong Kong                                                                                                           750\n",
       "Istituto Zooprofilattico Sperimentale della Lombardia ed\\n Emilia Romagna                                                             707\n",
       "Harbin Veterinary Research Institute                                                                                                  693\n",
       "                                                                                                                                     ... \n",
       "Southeast Poultry Research Laboratory, US National\\n Poultry Research Center, Agricultural Research Service, USDA                       1\n",
       "Contact:Shuichi Kubota Kyoto Biken Laboratories,\\n Division of Veterinary Microbiology; 24-16 Makishimacho, Uji, Kyoto 611, Japan       1\n",
       "Federal Univesity of Maranhao                                                                                                           1\n",
       "NOF CORPORATION,Saitama Medical University,\\n Director-General of National Institute of Infectious Diseases                             1\n",
       "Faculty of Veterinary Medicine, University of Bari                                                                                      1\n",
       "Name: first_affiliation, Length: 1420, dtype: int64"
      ]
     },
     "metadata": {},
     "execution_count": 98
    }
   ],
   "source": [
    "df['first_affiliation'].value_counts()"
   ]
  },
  {
   "cell_type": "code",
   "execution_count": 31,
   "metadata": {
    "tags": []
   },
   "outputs": [
    {
     "output_type": "execute_result",
     "data": {
      "text/plain": [
       "0             [Brasil]\n",
       "1             [Brasil]\n",
       "2             [Brasil]\n",
       "3              [China]\n",
       "4              [China]\n",
       "             ...      \n",
       "37173    [South Korea]\n",
       "37174    [South Korea]\n",
       "37175    [South Korea]\n",
       "37176    [South Korea]\n",
       "37177    [South Korea]\n",
       "Name: country_clean, Length: 37178, dtype: object"
      ]
     },
     "metadata": {},
     "execution_count": 31
    }
   ],
   "source": [
    "df['country'] = df.apply(lambda row: extract_country(row['affiliations']),axis=1)\n",
    "df['country_clean'] = df.apply(lambda row: remove_digits(row),axis=1)\n",
    "\n",
    "df['country_clean']"
   ]
  },
  {
   "cell_type": "code",
   "execution_count": 32,
   "metadata": {},
   "outputs": [],
   "source": [
    "df['first_country'] = df.apply(lambda row: extract_first(row['country']),axis=1)\n",
    "df['last_country'] = df.apply(lambda row: extract_last(row['country']),axis=1)\n",
    "df['Countries_FL'] = df.apply(lambda row: countries_fl(row),axis=1)\n"
   ]
  },
  {
   "cell_type": "code",
   "execution_count": 93,
   "metadata": {},
   "outputs": [],
   "source": [
    "df['controllo'] = df.apply(lambda row: controllo_uguali(row),axis=1)\n",
    "df['len'] = df.apply(lambda row: len_affiliations(row),axis=1)"
   ]
  },
  {
   "cell_type": "code",
   "execution_count": 35,
   "metadata": {},
   "outputs": [
    {
     "output_type": "execute_result",
     "data": {
      "text/plain": [
       "China                       7183\n",
       "USA                         5059\n",
       "P.R. China                  2271\n",
       "Brazil                      1312\n",
       "Italy                       1280\n",
       "                            ... \n",
       "NOVAVAX INC [US]               1\n",
       "INSTITUT                       1\n",
       "gasperim@uw.edu                1\n",
       "United States of America       1\n",
       "qiongyuhao@cdrewu.edu          1\n",
       "Name: first_country, Length: 356, dtype: int64"
      ]
     },
     "metadata": {},
     "execution_count": 35
    }
   ],
   "source": [
    "df['first_country'].value_counts()"
   ]
  },
  {
   "cell_type": "code",
   "execution_count": 34,
   "metadata": {},
   "outputs": [
    {
     "output_type": "execute_result",
     "data": {
      "text/plain": [
       "       Unnamed: 0  Unnamed: 0.1  \\\n",
       "0               0             0   \n",
       "1               1             1   \n",
       "2               2             2   \n",
       "3               3             3   \n",
       "4               4             4   \n",
       "...           ...           ...   \n",
       "37173         994           994   \n",
       "37174         995           995   \n",
       "37175         996           996   \n",
       "37176         997           997   \n",
       "37177         998           998   \n",
       "\n",
       "                                            total_string  \\\n",
       "0      Seq-entry ::= set {\\n  class nuc-prot,\\n  desc...   \n",
       "1      Seq-entry ::= set {\\n  class nuc-prot,\\n  desc...   \n",
       "2      Seq-entry ::= set {\\n  class nuc-prot,\\n  desc...   \n",
       "3      Seq-entry ::= set {\\n  class pop-set,\\n  descr...   \n",
       "4      Seq-entry ::= set {\\n  class pop-set,\\n  descr...   \n",
       "...                                                  ...   \n",
       "37173  Seq-entry ::= set {\\n  class nuc-prot,\\n  desc...   \n",
       "37174  Seq-entry ::= set {\\n  class nuc-prot,\\n  desc...   \n",
       "37175  Seq-entry ::= set {\\n  class nuc-prot,\\n  desc...   \n",
       "37176  Seq-entry ::= set {\\n  class nuc-prot,\\n  desc...   \n",
       "37177  Seq-entry ::= set {\\n  class nuc-prot,\\n  desc...   \n",
       "\n",
       "                                            affiliations        country  \\\n",
       "0      [\\n              affil \"University of Sao Paul...       [Brasil]   \n",
       "1      [\\n              affil \"University of Sao Paul...       [Brasil]   \n",
       "2      [\\n              affil \"University of Sao Paul...       [Brasil]   \n",
       "3      [\\n              affil \"Hebei Normal Universit...        [China]   \n",
       "4      [\\n              affil \"Hebei Normal Universit...        [China]   \n",
       "...                                                  ...            ...   \n",
       "37173  [\\n              affil \"National Veterinary Re...  [South Korea]   \n",
       "37174  [\\n              affil \"Konkuk University\",\\n ...  [South Korea]   \n",
       "37175  [\\n              affil \"Konkuk University\",\\n ...  [South Korea]   \n",
       "37176  [\\n              affil \"Konkuk University\",\\n ...  [South Korea]   \n",
       "37177  [\\n              affil \"Konkuk University\",\\n ...  [South Korea]   \n",
       "\n",
       "      first_country last_country                Countries_FL controllo  len  \n",
       "0            Brasil       Brasil            [Brasil, Brasil]    uguali    1  \n",
       "1            Brasil       Brasil            [Brasil, Brasil]    uguali    1  \n",
       "2            Brasil       Brasil            [Brasil, Brasil]    uguali    1  \n",
       "3             China        China              [China, China]    uguali    1  \n",
       "4             China        China              [China, China]    uguali    1  \n",
       "...             ...          ...                         ...       ...  ...  \n",
       "37173   South Korea  South Korea  [South Korea, South Korea]    uguali    1  \n",
       "37174   South Korea  South Korea  [South Korea, South Korea]    uguali    1  \n",
       "37175   South Korea  South Korea  [South Korea, South Korea]    uguali    1  \n",
       "37176   South Korea  South Korea  [South Korea, South Korea]    uguali    1  \n",
       "37177   South Korea  South Korea  [South Korea, South Korea]    uguali    1  \n",
       "\n",
       "[37178 rows x 10 columns]"
      ],
      "text/html": "<div>\n<style scoped>\n    .dataframe tbody tr th:only-of-type {\n        vertical-align: middle;\n    }\n\n    .dataframe tbody tr th {\n        vertical-align: top;\n    }\n\n    .dataframe thead th {\n        text-align: right;\n    }\n</style>\n<table border=\"1\" class=\"dataframe\">\n  <thead>\n    <tr style=\"text-align: right;\">\n      <th></th>\n      <th>Unnamed: 0</th>\n      <th>Unnamed: 0.1</th>\n      <th>total_string</th>\n      <th>affiliations</th>\n      <th>country</th>\n      <th>first_country</th>\n      <th>last_country</th>\n      <th>Countries_FL</th>\n      <th>controllo</th>\n      <th>len</th>\n    </tr>\n  </thead>\n  <tbody>\n    <tr>\n      <th>0</th>\n      <td>0</td>\n      <td>0</td>\n      <td>Seq-entry ::= set {\\n  class nuc-prot,\\n  desc...</td>\n      <td>[\\n              affil \"University of Sao Paul...</td>\n      <td>[Brasil]</td>\n      <td>Brasil</td>\n      <td>Brasil</td>\n      <td>[Brasil, Brasil]</td>\n      <td>uguali</td>\n      <td>1</td>\n    </tr>\n    <tr>\n      <th>1</th>\n      <td>1</td>\n      <td>1</td>\n      <td>Seq-entry ::= set {\\n  class nuc-prot,\\n  desc...</td>\n      <td>[\\n              affil \"University of Sao Paul...</td>\n      <td>[Brasil]</td>\n      <td>Brasil</td>\n      <td>Brasil</td>\n      <td>[Brasil, Brasil]</td>\n      <td>uguali</td>\n      <td>1</td>\n    </tr>\n    <tr>\n      <th>2</th>\n      <td>2</td>\n      <td>2</td>\n      <td>Seq-entry ::= set {\\n  class nuc-prot,\\n  desc...</td>\n      <td>[\\n              affil \"University of Sao Paul...</td>\n      <td>[Brasil]</td>\n      <td>Brasil</td>\n      <td>Brasil</td>\n      <td>[Brasil, Brasil]</td>\n      <td>uguali</td>\n      <td>1</td>\n    </tr>\n    <tr>\n      <th>3</th>\n      <td>3</td>\n      <td>3</td>\n      <td>Seq-entry ::= set {\\n  class pop-set,\\n  descr...</td>\n      <td>[\\n              affil \"Hebei Normal Universit...</td>\n      <td>[China]</td>\n      <td>China</td>\n      <td>China</td>\n      <td>[China, China]</td>\n      <td>uguali</td>\n      <td>1</td>\n    </tr>\n    <tr>\n      <th>4</th>\n      <td>4</td>\n      <td>4</td>\n      <td>Seq-entry ::= set {\\n  class pop-set,\\n  descr...</td>\n      <td>[\\n              affil \"Hebei Normal Universit...</td>\n      <td>[China]</td>\n      <td>China</td>\n      <td>China</td>\n      <td>[China, China]</td>\n      <td>uguali</td>\n      <td>1</td>\n    </tr>\n    <tr>\n      <th>...</th>\n      <td>...</td>\n      <td>...</td>\n      <td>...</td>\n      <td>...</td>\n      <td>...</td>\n      <td>...</td>\n      <td>...</td>\n      <td>...</td>\n      <td>...</td>\n      <td>...</td>\n    </tr>\n    <tr>\n      <th>37173</th>\n      <td>994</td>\n      <td>994</td>\n      <td>Seq-entry ::= set {\\n  class nuc-prot,\\n  desc...</td>\n      <td>[\\n              affil \"National Veterinary Re...</td>\n      <td>[South Korea]</td>\n      <td>South Korea</td>\n      <td>South Korea</td>\n      <td>[South Korea, South Korea]</td>\n      <td>uguali</td>\n      <td>1</td>\n    </tr>\n    <tr>\n      <th>37174</th>\n      <td>995</td>\n      <td>995</td>\n      <td>Seq-entry ::= set {\\n  class nuc-prot,\\n  desc...</td>\n      <td>[\\n              affil \"Konkuk University\",\\n ...</td>\n      <td>[South Korea]</td>\n      <td>South Korea</td>\n      <td>South Korea</td>\n      <td>[South Korea, South Korea]</td>\n      <td>uguali</td>\n      <td>1</td>\n    </tr>\n    <tr>\n      <th>37175</th>\n      <td>996</td>\n      <td>996</td>\n      <td>Seq-entry ::= set {\\n  class nuc-prot,\\n  desc...</td>\n      <td>[\\n              affil \"Konkuk University\",\\n ...</td>\n      <td>[South Korea]</td>\n      <td>South Korea</td>\n      <td>South Korea</td>\n      <td>[South Korea, South Korea]</td>\n      <td>uguali</td>\n      <td>1</td>\n    </tr>\n    <tr>\n      <th>37176</th>\n      <td>997</td>\n      <td>997</td>\n      <td>Seq-entry ::= set {\\n  class nuc-prot,\\n  desc...</td>\n      <td>[\\n              affil \"Konkuk University\",\\n ...</td>\n      <td>[South Korea]</td>\n      <td>South Korea</td>\n      <td>South Korea</td>\n      <td>[South Korea, South Korea]</td>\n      <td>uguali</td>\n      <td>1</td>\n    </tr>\n    <tr>\n      <th>37177</th>\n      <td>998</td>\n      <td>998</td>\n      <td>Seq-entry ::= set {\\n  class nuc-prot,\\n  desc...</td>\n      <td>[\\n              affil \"Konkuk University\",\\n ...</td>\n      <td>[South Korea]</td>\n      <td>South Korea</td>\n      <td>South Korea</td>\n      <td>[South Korea, South Korea]</td>\n      <td>uguali</td>\n      <td>1</td>\n    </tr>\n  </tbody>\n</table>\n<p>37178 rows × 10 columns</p>\n</div>"
     },
     "metadata": {},
     "execution_count": 34
    }
   ],
   "source": [
    "df"
   ]
  },
  {
   "cell_type": "code",
   "execution_count": 66,
   "metadata": {},
   "outputs": [
    {
     "output_type": "execute_result",
     "data": {
      "text/plain": [
       "China                                              7183\n",
       "USA                                                5059\n",
       "P.R. China                                         2271\n",
       "Brazil                                             1312\n",
       "Italy                                              1280\n",
       "                                                   ... \n",
       "CONSEJO SUPERIOR DE INVESTIGACIONES CIENTIFICAS       1\n",
       "[JP                                                   1\n",
       "qiongyuhao@cdrewu.edu                                 1\n",
       "Indi                                                  1\n",
       "INSTITUT                                              1\n",
       "Name: first_country, Length: 356, dtype: int64"
      ]
     },
     "metadata": {},
     "execution_count": 66
    }
   ],
   "source": [
    "df['first_country'].value_counts()"
   ]
  },
  {
   "cell_type": "code",
   "execution_count": 99,
   "metadata": {},
   "outputs": [],
   "source": [
    "A = df['first_affiliation'].value_counts()\n",
    "A.to_csv(\"firstaffnolong234.csv\",mode='a')"
   ]
  },
  {
   "cell_type": "code",
   "execution_count": 67,
   "metadata": {},
   "outputs": [
    {
     "output_type": "execute_result",
     "data": {
      "text/plain": [
       "926"
      ]
     },
     "metadata": {},
     "execution_count": 67
    }
   ],
   "source": [
    "import pycountry\n",
    "import time\n",
    "cl=list(pycountry.countries)\n",
    "countries_list=[]\n",
    "count=-1\n",
    "for paese in cl:\n",
    "    count+=1\n",
    "    try:\n",
    "        name=list(pycountry.countries)[count].name\n",
    "        countries_list.append(name)\n",
    "    except AttributeError:\n",
    "        time.sleep(1)\n",
    "    try:\n",
    "        common_name=list(pycountry.countries)[count].common_name\n",
    "        countries_list.append(common_name)\n",
    "    except AttributeError:\n",
    "        time.sleep(1)\n",
    "    try:\n",
    "        official_name=list(pycountry.countries)[count].official_name\n",
    "        countries_list.append(official_name)\n",
    "    except AttributeError:\n",
    "        time.sleep(1)\n",
    "    try:\n",
    "        alpha_2=list(pycountry.countries)[count].alpha_2\n",
    "        countries_list.append(alpha_2)\n",
    "    except AttributeError:\n",
    "        time.sleep(1)\n",
    "    try:\n",
    "        alpha_3=list(pycountry.countries)[count].alpha_3\n",
    "        countries_list.append(alpha_3)\n",
    "    except AttributeError:\n",
    "        time.sleep(1)\n",
    "\n",
    "len(countries_list) #in questa lista ci sono dentro tutti i riferimenti possibili ai paesi"
   ]
  },
  {
   "cell_type": "code",
   "execution_count": 68,
   "metadata": {},
   "outputs": [],
   "source": [
    "countries_list.append('UK') #manca UK, lo aggiungiamo\n",
    "countries_list.append('PR China')\n",
    "countries_list.append('England')\n",
    "countries_list.append('Perù')\n",
    "countries_list.append('México')\n",
    "countries_list.append('España')\n",
    "countries_list.append('United States of America')\n",
    "countries_list.append('Brasil')\n",
    "countries_list.append('Deutschland') \n",
    "countries_list.append('Iran')\n",
    "countries_list.append('Russia')\n",
    "countries_list.append('Republic of Korea')\n",
    "countries_list.append('Italia')\n",
    "countries_list.append('Korea')\n",
    "countries_list.append('UNITED STATES')\n",
    "countries_list.append('SPAIN')\n",
    "countries_list.append('GERMANY')\n",
    "countries_list.append('belgique')"
   ]
  },
  {
   "cell_type": "code",
   "execution_count": 69,
   "metadata": {},
   "outputs": [
    {
     "output_type": "stream",
     "name": "stdout",
     "text": [
      "               name               country          subcountry  geonameid\n0      les Escaldes               Andorra  Escaldes-Engordany    3040051\n1  Andorra la Vella               Andorra    Andorra la Vella    3041563\n2    Umm al Qaywayn  United Arab Emirates      Umm al Qaywayn     290594\n3    Ras al-Khaimah  United Arab Emirates     Raʼs al Khaymah     291074\n4      Khawr Fakkān  United Arab Emirates        Ash Shāriqah     291696\n"
     ]
    }
   ],
   "source": [
    "ustates = [\"AL\", \"AK\", \"AZ\", \"AR\", \"CA\", \"CO\", \"CT\", \"DC\", \"DE\", \"FL\", \"GA\", \n",
    "          \"HI\", \"ID\", \"IL\", \"IN\", \"IA\", \"KS\", \"KY\", \"LA\", \"ME\", \"MD\", \n",
    "          \"MA\", \"MI\", \"MN\", \"MS\", \"MO\", \"MT\", \"NE\", \"NV\", \"NH\", \"NJ\", \n",
    "          \"NM\", \"NY\", \"NC\", \"ND\", \"OH\", \"OK\", \"OR\", \"PA\", \"RI\", \"SC\", \n",
    "          \"SD\", \"TN\", \"TX\", \"UT\", \"VT\", \"VA\", \"WA\", \"WV\", \"WI\", \"WY\",'New York (JBB)','New York (PD)',\"Alaska\", \"Alabama\", \"Arkansas\", \"American Samoa\", \"Arizona\", \"California\", \"Colorado\", \"Connecticut\", \"District \", \"of Columbia\", \"Delaware\", \"Florida\", \"Georgia\", \"Guam\", \"Hawaii\", \"Iowa\", \"Idaho\", \"Illinois\", \"Indiana\", \"Kansas\", \"Kentucky\", \"Louisiana\", \"Massachusetts\", \"Maryland\", \"Maine\", \"Michigan\", \"Minnesota\", \"Missouri\", \"Mississippi\", \"Montana\", \"North Carolina\", \"North Dakota\", \"Nebraska\", \"New Hampshire\", \"New Jersey\", \"New Mexico\", \"Nevada\", \"New York\", \"Ohio\", \"Oklahoma\", \"Oregon\", \"Pennsylvania\", \"Puerto Rico\", \"Rhode Island\", \"South Carolina\", \"South Dakota\", \"Tennessee\", \"Texas\", \"Utah\", \"Virginia\", \"Virgin Islands\", \"Vermont\", \"Washington\", \"Wisconsin\", \"West Virginia\", \"Wyoming\"]\n",
    "\n",
    "city=pd.read_csv(\"https://raw.githubusercontent.com/grammakov/USA-cities-and-states/master/us_cities_states_counties.csv\",delimiter='|')\n",
    "uscity=city['City'].values.tolist()\n",
    "uscity=list(dict.fromkeys(uscity))\n",
    "len(uscity)\n",
    "\n",
    "ustates=ustates+uscity\n",
    "len(ustates)\n",
    "\n",
    "\n",
    "cities=pd.read_csv(\"/parenti_veri/world-cities_csv.csv\",converters={'Affiliations': eval})\n",
    "print(cities.head())\n",
    "\n",
    "chinalist = cities[cities['country']=='China']['name'].tolist()\n",
    "fralist = cities[cities['country']=='France']['name'].tolist()\n",
    "spagnalist = cities[cities['country']=='Spain']['name'].tolist()\n",
    "gerlist = cities[cities['country']=='Germany']['name'].tolist()\n",
    "nedlist = cities[cities['country']=='Netherlands']['name'].tolist()\n",
    "japlist = cities[cities['country']=='Japan']['name'].tolist()\n",
    "italist = cities[cities['country']=='Italy']['name'].tolist()\n",
    "uklist = cities[cities['country']=='United Kingdom']['name'].tolist()"
   ]
  },
  {
   "cell_type": "code",
   "execution_count": 70,
   "metadata": {},
   "outputs": [],
   "source": [
    "p1 = df"
   ]
  },
  {
   "cell_type": "code",
   "execution_count": 71,
   "metadata": {},
   "outputs": [
    {
     "output_type": "execute_result",
     "data": {
      "text/plain": [
       "[('China', [9579, 9584]),\n",
       " ('USA', [6367, 6379]),\n",
       " ('Brazil', [1312, 1305]),\n",
       " ('Italy', [1280, 1275]),\n",
       " ('Thailand', [1058, 1058]),\n",
       " ('Korea', [788, 792]),\n",
       " ('NL', [620, 373]),\n",
       " ('US', [618, 386]),\n",
       " ('Germany', [586, 589]),\n",
       " ('Netherlands', [569, 570]),\n",
       " ('Hong Kong', [538, 541]),\n",
       " ('KR', [490, 490]),\n",
       " ('Japan', [419, 806]),\n",
       " ('Taiwan', [419, 418]),\n",
       " ('France', [414, 475]),\n",
       " ('Malaysia', [389, 389]),\n",
       " ('Egypt', [365, 372]),\n",
       " ('Sweden', [362, 365]),\n",
       " ('Canada', [347, 355]),\n",
       " (\"People's Republic of China\", [342, 342]),\n",
       " ('Australia', [287, 301]),\n",
       " ('UK', [278, 281]),\n",
       " ('Republic of Korea', [266, 266]),\n",
       " ('Iran', [258, 253]),\n",
       " ('India', [252, 249]),\n",
       " ('South Africa', [194, 194]),\n",
       " ('Luxembourg', [183, 226]),\n",
       " ('Slovenia', [158, 158]),\n",
       " ('Viet Nam', [147, 147]),\n",
       " ('Kingdom of Saudi Arabia', [145, 145]),\n",
       " ('Turkey', [141, 139]),\n",
       " ('FR', [138, 138]),\n",
       " ('Russia', [127, 116]),\n",
       " ('Singapore', [123, 121]),\n",
       " ('AND', [118, 118]),\n",
       " ('Saudi Arabia', [110, 108]),\n",
       " ('Uruguay', [106, 106]),\n",
       " ('Poland', [97, 88]),\n",
       " ('CY', [94, 0]),\n",
       " ('Brasil', [92, 84]),\n",
       " ('Finland', [79, 79]),\n",
       " ('GB', [77, 36]),\n",
       " ('JP', [76, 76]),\n",
       " ('Kenya', [74, 74]),\n",
       " ('United Kingdom', [73, 72]),\n",
       " ('Greece', [72, 69]),\n",
       " ('Morocco', [71, 71]),\n",
       " ('United Arab Emirates', [66, 66]),\n",
       " ('Hungary', [64, 63]),\n",
       " ('Portugal', [62, 61]),\n",
       " ('Belgium', [60, 55]),\n",
       " ('Spain', [59, 56]),\n",
       " ('Mexico', [55, 55]),\n",
       " ('LA', [54, 54]),\n",
       " ('Ghana', [53, 53]),\n",
       " ('Vietnam', [51, 51]),\n",
       " ('CA', [47, 0]),\n",
       " ('Chile', [40, 40]),\n",
       " ('CN', [39, 39]),\n",
       " ('Iraq', [38, 38]),\n",
       " ('Islamic Republic of Iran', [37, 37]),\n",
       " ('Croatia', [36, 36]),\n",
       " ('Austria', [36, 34]),\n",
       " ('SG', [33, 33]),\n",
       " ('Argentina', [29, 29]),\n",
       " ('Jordan', [27, 27]),\n",
       " ('ID', [26, 26]),\n",
       " ('Israel', [24, 28]),\n",
       " ('SA', [24, 24]),\n",
       " ('Gabon', [21, 21]),\n",
       " ('ES', [21, 21]),\n",
       " ('Nigeria', [17, 17]),\n",
       " ('Ireland', [16, 16]),\n",
       " ('TW', [16, 0]),\n",
       " ('Madagascar', [14, 14]),\n",
       " ('Sudan', [14, 14]),\n",
       " ('CUB', [14, 4]),\n",
       " ('CO', [13, 13]),\n",
       " ('BV', [13, 13]),\n",
       " ('Indonesia', [12, 12]),\n",
       " ('Pakistan', [12, 12]),\n",
       " ('Switzerland', [10, 23]),\n",
       " ('New Zealand', [10, 10]),\n",
       " ('Czech Republic', [10, 10]),\n",
       " ('Serbia', [10, 10]),\n",
       " ('Denmark', [10, 6]),\n",
       " ('CH', [9, 0]),\n",
       " ('Tunisia', [8, 8]),\n",
       " ('IT', [7, 0]),\n",
       " ('Philippines', [6, 9]),\n",
       " ('Peru', [6, 6]),\n",
       " ('Costa Rica', [4, 4]),\n",
       " ('Italia', [4, 4]),\n",
       " ('Slovakia', [4, 4]),\n",
       " ('Saint Kitts and Nevis', [4, 4]),\n",
       " ('Korea, Republic of', [3, 3]),\n",
       " ('Bangladesh', [3, 3]),\n",
       " ('England', [3, 3]),\n",
       " ('Ukraine', [2, 2]),\n",
       " ('Colombia', [2, 2]),\n",
       " ('Cuba', [1, 10]),\n",
       " ('United States of America', [1, 1]),\n",
       " ('Ecuador', [1, 1]),\n",
       " ('PR China', [1, 1]),\n",
       " ('Algeria', [1, 1]),\n",
       " ('DE', [1, 1]),\n",
       " ('United States', [1, 0]),\n",
       " ('MA', [0, 7])]"
      ]
     },
     "metadata": {},
     "execution_count": 71
    }
   ],
   "source": [
    "#PROVIAMO A TENERE SEPRATI I VALORI DI INVESTIMENTO E AUTORE PRINCIPALE\n",
    "\n",
    "diz_cov_country={}\n",
    "id_nonaz=[]\n",
    "\n",
    "for index,row in p1.iterrows():\n",
    "    inout=0 #per scovare gli indici che non hanno paese ma solo laboratorio\n",
    "    count=-1\n",
    "    for el in row['Countries_FL']:\n",
    "        count+=1\n",
    "        if row['Countries_FL'][count] in countries_list:\n",
    "            inout+=1\n",
    "            if row['Countries_FL'][count] in diz_cov_country:\n",
    "                diz_cov_country[row['Countries_FL'][count]][count]+=1\n",
    "            else:\n",
    "                diz_cov_country[row['Countries_FL'][count]]=[0,0]\n",
    "                diz_cov_country[row['Countries_FL'][count]][count]+=1\n",
    "        elif row['Countries_FL'][count] in ustates:\n",
    "            inout+=1\n",
    "            if 'USA' in diz_cov_country:\n",
    "                diz_cov_country['USA'][count]+=1\n",
    "            else:\n",
    "                diz_cov_country['USA']=[0,0]\n",
    "                diz_cov_country['USA'][count]+=1\n",
    "                \n",
    "        elif row['Countries_FL'][count] in chinalist:\n",
    "                    inout+=1\n",
    "                    if 'China' in diz_cov_country:\n",
    "                        diz_cov_country['China'][count]+=1\n",
    "                    else:\n",
    "                        diz_cov_country['China']=[0,0]\n",
    "                        diz_cov_country['China'][count]+=1\n",
    "                \n",
    "        elif row['Countries_FL'][count] in fralist:\n",
    "                    inout+=1\n",
    "                    if 'France' in diz_cov_country:\n",
    "                        diz_cov_country['France'][count]+=1\n",
    "                    else:\n",
    "                        diz_cov_country['France']=[0,0]\n",
    "                        diz_cov_country['France'][count]+=1\n",
    "                \n",
    "        elif row['Countries_FL'][count] in spagnalist:\n",
    "                    inout+=1\n",
    "                    if 'Spain' in diz_cov_country:\n",
    "                        diz_cov_country['Spain'][count]+=1\n",
    "                    else:\n",
    "                        diz_cov_country['Spain']=[0,0]\n",
    "                        diz_cov_country['Spain'][count]+=1\n",
    "                    \n",
    "        elif row['Countries_FL'][count] in gerlist:\n",
    "                    inout+=1\n",
    "                    if 'Germany' in diz_cov_country:\n",
    "                        diz_cov_country['Germany'][count]+=1\n",
    "                    else:\n",
    "                        diz_cov_country['Germany']=[0,0]\n",
    "                        diz_cov_country['Germany'][count]+=1\n",
    "                        \n",
    "        elif row['Countries_FL'][count] in nedlist:\n",
    "                    inout+=1\n",
    "                    if 'Netherlands' in diz_cov_country:\n",
    "                        diz_cov_country['Netherlands'][count]+=1\n",
    "                    else:\n",
    "                        diz_cov_country['Netherlands']=[0,0]\n",
    "                        diz_cov_country['Netherlands'][count]+=1\n",
    "                        \n",
    "        elif row['Countries_FL'][count] in japlist:\n",
    "                    inout+=1\n",
    "                    if 'Japan' in diz_cov_country:\n",
    "                        diz_cov_country['Japan'][count]+=1\n",
    "                    else:\n",
    "                        diz_cov_country['Japan']=[0,0]\n",
    "                        diz_cov_country['Japan'][count]+=1\n",
    "                        \n",
    "                        \n",
    "        elif row['Countries_FL'][count] in italist:\n",
    "                    inout+=1\n",
    "                    if 'Italy' in diz_cov_country:\n",
    "                        diz_cov_country['Italy'][count]+=1\n",
    "                    else:\n",
    "                        diz_cov_country['Italy']=[0,0]\n",
    "                        diz_cov_country['Italy'][count]+=1\n",
    "                        \n",
    "                        \n",
    "        elif row['Countries_FL'][count] in uklist:\n",
    "                    inout+=1\n",
    "                    if 'United Kingdom' in diz_cov_country:\n",
    "                        diz_cov_country['United Kingdom'][count]+=1\n",
    "                    else:\n",
    "                        diz_cov_country['United Kingdom']=[0,0]\n",
    "                        diz_cov_country['United Kingdom'][count]+=1\n",
    "                \n",
    "                \n",
    "\n",
    "                \n",
    "                \n",
    "                \n",
    "        else:\n",
    "            spl= row['Countries_FL'][count].split(\" \")\n",
    "            for elemento in spl:\n",
    "                if elemento in countries_list:\n",
    "                    inout+=1\n",
    "                    if elemento in diz_cov_country:\n",
    "                        diz_cov_country[elemento][count]+=1\n",
    "                    else:\n",
    "                        diz_cov_country[elemento]=[0,0]\n",
    "                        diz_cov_country[elemento][count]+=1\n",
    "                        \n",
    "                elif elemento in ustates:\n",
    "                    inout+=1\n",
    "                    if 'USA' in diz_cov_country:\n",
    "                        diz_cov_country['USA'][count]+=1\n",
    "                    else:\n",
    "                        diz_cov_country['USA']=[0,0]\n",
    "                        diz_cov_country['USA'][count]+=1\n",
    "                        \n",
    "                elif elemento in chinalist:\n",
    "                    inout+=1\n",
    "                    if 'China' in diz_cov_country:\n",
    "                        diz_cov_country['China'][count]+=1\n",
    "                    else:\n",
    "                        diz_cov_country['China']=[0,0]\n",
    "                        diz_cov_country['China'][count]+=1\n",
    "                \n",
    "                elif elemento in fralist:\n",
    "                    inout+=1\n",
    "                    if 'France' in diz_cov_country:\n",
    "                        diz_cov_country['France'][count]+=1\n",
    "                    else:\n",
    "                        diz_cov_country['France']=[0,0]\n",
    "                        diz_cov_country['France'][count]+=1\n",
    "                \n",
    "                elif elemento in spagnalist:\n",
    "                    inout+=1\n",
    "                    if 'Spain' in diz_cov_country:\n",
    "                        diz_cov_country['Spain'][count]+=1\n",
    "                    else:\n",
    "                        diz_cov_country['Spain']=[0,0]\n",
    "                        diz_cov_country['Spain'][count]+=1\n",
    "                    \n",
    "                elif elemento in gerlist:\n",
    "                    inout+=1\n",
    "                    if 'Germany' in diz_cov_country:\n",
    "                        diz_cov_country['Germany'][count]+=1\n",
    "                    else:\n",
    "                        diz_cov_country['Germany']=[0,0]\n",
    "                        diz_cov_country['Germany'][count]+=1\n",
    "                        \n",
    "                elif elemento in nedlist:\n",
    "                    inout+=1\n",
    "                    if 'Netherlands' in diz_cov_country:\n",
    "                        diz_cov_country['Netherlands'][count]+=1\n",
    "                    else:\n",
    "                        diz_cov_country['Netherlands']=[0,0]\n",
    "                        diz_cov_country['Netherlands'][count]+=1\n",
    "                        \n",
    "                elif elemento in japlist:\n",
    "                    inout+=1\n",
    "                    if 'Japan' in diz_cov_country:\n",
    "                        diz_cov_country['Japan'][count]+=1\n",
    "                    else:\n",
    "                        diz_cov_country['Japan']=[0,0]\n",
    "                        diz_cov_country['Japan'][count]+=1\n",
    "                        \n",
    "                        \n",
    "                elif elemento in italist:\n",
    "                    inout+=1\n",
    "                    if 'Italy' in diz_cov_country:\n",
    "                        diz_cov_country['Italy'][count]+=1\n",
    "                    else:\n",
    "                        diz_cov_country['Italy']=[0,0]\n",
    "                        diz_cov_country['Italy'][count]+=1\n",
    "                        \n",
    "                        \n",
    "                elif elemento in uklist:\n",
    "                    inout+=1\n",
    "                    if 'United Kingdom' in diz_cov_country:\n",
    "                        diz_cov_country['United Kingdom'][count]+=1\n",
    "                    else:\n",
    "                        diz_cov_country['United Kingdom']=[0,0]\n",
    "                        diz_cov_country['United Kingdom'][count]+=1\n",
    "                \n",
    "                \n",
    "\n",
    "                \n",
    "                \n",
    "                else:\n",
    "                    try:\n",
    "                        dop=str(spl[0]+' '+spl[1])\n",
    "                        if dop in countries_list:\n",
    "                            inout+=1\n",
    "                            if dop in diz_cov_country:\n",
    "                                diz_cov_country[dop][count]+=1\n",
    "                            else:\n",
    "                                diz_cov_country[dop]=[0,0]\n",
    "                                diz_cov_country[dop][count]+=1\n",
    "                            \n",
    "                    except IndexError:\n",
    "                        inout+=0\n",
    "                        \n",
    "    if inout < 2:\n",
    "        id_nonaz.append(index)\n",
    "\n",
    "#round dei valori float per eccesso:\n",
    "#for key in diz_cov_country:\n",
    "#    diz_cov_country[key]=int(np.ceil(diz_cov_country[key]))   \n",
    "\n",
    "#ordinamento del dizionario   \n",
    "sort_diz=sorted(diz_cov_country.items(),key=lambda item: item[1], reverse=True)\n",
    "sort_diz      "
   ]
  },
  {
   "cell_type": "code",
   "execution_count": 72,
   "metadata": {},
   "outputs": [
    {
     "output_type": "execute_result",
     "data": {
      "text/plain": [
       "{'United States': [6367, 6379, 618, 386],\n",
       " 'Japan': [76, 76],\n",
       " 'Netherlands': [620, 373],\n",
       " 'Andorra': [118, 118],\n",
       " 'Singapore': [33, 33],\n",
       " 'China': [39, 39],\n",
       " 'Morocco': [0, 7],\n",
       " 'United Kingdom': [77, 36],\n",
       " 'France': [138, 138],\n",
       " 'Canada': [47, 0],\n",
       " 'Cyprus': [94, 0],\n",
       " 'Cuba': [14, 4],\n",
       " 'Taiwan, Province of China': [16, 0],\n",
       " 'Colombia': [13, 13],\n",
       " \"Lao People's Democratic Republic\": [54, 54],\n",
       " 'Bouvet Island': [13, 13],\n",
       " 'Italy': [7, 0],\n",
       " 'Switzerland': [9, 0],\n",
       " 'Germany': [1, 1],\n",
       " 'Indonesia': [26, 26],\n",
       " 'Saudi Arabia': [24, 24],\n",
       " 'Spain': [21, 21],\n",
       " 'Korea, Republic of': [490, 490]}"
      ]
     },
     "metadata": {},
     "execution_count": 72
    }
   ],
   "source": [
    "count=0\n",
    "diz_aus={}\n",
    "for key in diz_cov_country:\n",
    "    \n",
    "    if len(key) == 2:\n",
    "        try:\n",
    "            country = pycountry.countries.get(alpha_2=key)\n",
    "            name=country.name\n",
    "            if name in diz_aus:\n",
    "                diz_aus[name]+=diz_cov_country[key]\n",
    "            if name not in diz_aus:\n",
    "                diz_aus[name]=diz_cov_country[key]\n",
    "\n",
    "        except AttributeError:\n",
    "            count+=1\n",
    "            \n",
    "    if len(key) == 3:\n",
    "        try:\n",
    "            country = pycountry.countries.get(alpha_3=key)\n",
    "            name=country.name\n",
    "            if name in diz_aus:\n",
    "                diz_aus[name]+=diz_cov_country[key]\n",
    "            if name not in diz_aus:\n",
    "                diz_aus[name]=diz_cov_country[key]\n",
    "                \n",
    "        except AttributeError:\n",
    "            count+=1\n",
    "\n",
    " \n",
    "diz_aus "
   ]
  },
  {
   "cell_type": "code",
   "execution_count": 73,
   "metadata": {},
   "outputs": [
    {
     "output_type": "execute_result",
     "data": {
      "text/plain": [
       "{'United States': [6985, 6765],\n",
       " 'Japan': [76, 76],\n",
       " 'Netherlands': [620, 373],\n",
       " 'Andorra': [118, 118],\n",
       " 'Singapore': [33, 33],\n",
       " 'China': [39, 39],\n",
       " 'Morocco': [0, 7],\n",
       " 'United Kingdom': [77, 36],\n",
       " 'France': [138, 138],\n",
       " 'Canada': [47, 0],\n",
       " 'Cyprus': [94, 0],\n",
       " 'Cuba': [14, 4],\n",
       " 'Taiwan, Province of China': [16, 0],\n",
       " 'Colombia': [13, 13],\n",
       " \"Lao People's Democratic Republic\": [54, 54],\n",
       " 'Bouvet Island': [13, 13],\n",
       " 'Italy': [7, 0],\n",
       " 'Switzerland': [9, 0],\n",
       " 'Germany': [1, 1],\n",
       " 'Indonesia': [26, 26],\n",
       " 'Saudi Arabia': [24, 24],\n",
       " 'Spain': [21, 21],\n",
       " 'Korea, Republic of': [490, 490]}"
      ]
     },
     "metadata": {},
     "execution_count": 73
    }
   ],
   "source": [
    "for key in diz_aus:\n",
    "    count=-1\n",
    "    pari=0\n",
    "    disp=0\n",
    "    if len(diz_aus[key]) > 2:\n",
    "        for el in diz_aus[key]:\n",
    "            count+=1\n",
    "            if count==0 or count==2:\n",
    "                pari+=diz_aus[key][count]\n",
    "            if count==1 or count==3:\n",
    "                disp+=diz_aus[key][count]\n",
    "        diz_aus[key]=[pari,disp]\n",
    "diz_aus"
   ]
  },
  {
   "cell_type": "code",
   "execution_count": 74,
   "metadata": {},
   "outputs": [
    {
     "output_type": "stream",
     "name": "stdout",
     "text": [
      "[]\n"
     ]
    }
   ],
   "source": [
    "dup=list(diz_cov_country.keys())\n",
    "import collections\n",
    "print([item for item, count in collections.Counter(dup).items() if count > 1])"
   ]
  },
  {
   "cell_type": "code",
   "execution_count": 129,
   "metadata": {},
   "outputs": [
    {
     "output_type": "execute_result",
     "data": {
      "text/plain": [
       "{'Brasil': [92, 84],\n",
       " 'China': [9618, 9623],\n",
       " 'Canada': [394, 355],\n",
       " 'Egypt': [365, 372],\n",
       " 'India': [252, 249],\n",
       " 'France': [552, 613],\n",
       " 'Korea': [788, 792],\n",
       " 'USA': [6985, 6765],\n",
       " 'United Kingdom': [150, 108],\n",
       " 'Gabon': [21, 21],\n",
       " 'Uruguay': [106, 106],\n",
       " 'Thailand': [1058, 1058],\n",
       " 'Republic of Korea': [266, 266],\n",
       " 'Iran': [258, 253],\n",
       " 'New Zealand': [10, 10],\n",
       " 'Turkey': [141, 139],\n",
       " 'Chile': [40, 40],\n",
       " 'Czech Republic': [10, 10],\n",
       " 'Germany': [587, 590],\n",
       " \"People's Republic of China\": [342, 342],\n",
       " 'Malaysia': [389, 389],\n",
       " 'United States of America': [1, 1],\n",
       " 'Italy': [1287, 1275],\n",
       " 'Taiwan': [419, 418],\n",
       " 'Brazil': [1312, 1305],\n",
       " 'UK': [278, 281],\n",
       " 'US': [618, 386],\n",
       " 'Luxembourg': [183, 226],\n",
       " 'Slovenia': [158, 158],\n",
       " 'Spain': [80, 77],\n",
       " 'Argentina': [29, 29],\n",
       " 'Israel': [24, 28],\n",
       " 'Netherlands': [1189, 943],\n",
       " 'JP': [76, 76],\n",
       " 'NL': [620, 373],\n",
       " 'AND': [118, 118],\n",
       " 'SG': [33, 33],\n",
       " 'CN': [39, 39],\n",
       " 'Greece': [72, 69],\n",
       " 'Sweden': [362, 365],\n",
       " 'Russia': [127, 116],\n",
       " 'Japan': [495, 882],\n",
       " 'MA': [0, 7],\n",
       " 'Ireland': [16, 16],\n",
       " 'GB': [77, 36],\n",
       " 'FR': [138, 138],\n",
       " 'Tunisia': [8, 8],\n",
       " 'Hong Kong': [538, 541],\n",
       " 'CA': [47, 0],\n",
       " 'CY': [94, 0],\n",
       " 'Australia': [287, 301],\n",
       " 'Islamic Republic of Iran': [37, 37],\n",
       " 'CUB': [14, 4],\n",
       " 'Cuba': [15, 14],\n",
       " 'TW': [16, 0],\n",
       " 'CO': [13, 13],\n",
       " 'Singapore': [156, 154],\n",
       " 'Korea, Republic of': [493, 493],\n",
       " 'Switzerland': [19, 23],\n",
       " 'Poland': [97, 88],\n",
       " 'LA': [54, 54],\n",
       " 'Hungary': [64, 63],\n",
       " 'South Africa': [194, 194],\n",
       " 'Kingdom of Saudi Arabia': [145, 145],\n",
       " 'Costa Rica': [4, 4],\n",
       " 'Indonesia': [38, 38],\n",
       " 'Denmark': [10, 6],\n",
       " 'Mexico': [55, 55],\n",
       " 'United Arab Emirates': [66, 66],\n",
       " 'Morocco': [71, 78],\n",
       " 'Austria': [36, 34],\n",
       " 'Belgium': [60, 55],\n",
       " 'Italia': [4, 4],\n",
       " 'Portugal': [62, 61],\n",
       " 'United States': [6986, 6765],\n",
       " 'Ghana': [53, 53],\n",
       " 'Saudi Arabia': [134, 132],\n",
       " 'Finland': [79, 79],\n",
       " 'Kenya': [74, 74],\n",
       " 'Ecuador': [1, 1],\n",
       " 'Philippines': [6, 9],\n",
       " 'Croatia': [36, 36],\n",
       " 'Ukraine': [2, 2],\n",
       " 'Madagascar': [14, 14],\n",
       " 'Pakistan': [12, 12],\n",
       " 'BV': [13, 13],\n",
       " 'IT': [7, 0],\n",
       " 'Peru': [6, 6],\n",
       " 'Iraq': [38, 38],\n",
       " 'Vietnam': [51, 51],\n",
       " 'PR China': [1, 1],\n",
       " 'Slovakia': [4, 4],\n",
       " 'Viet Nam': [147, 147],\n",
       " 'Sudan': [14, 14],\n",
       " 'CH': [9, 0],\n",
       " 'Saint Kitts and Nevis': [4, 4],\n",
       " 'Colombia': [15, 15],\n",
       " 'Bangladesh': [3, 3],\n",
       " 'Algeria': [1, 1],\n",
       " 'Serbia': [10, 10],\n",
       " 'Nigeria': [17, 17],\n",
       " 'Jordan': [27, 27],\n",
       " 'DE': [1, 1],\n",
       " 'England': [3, 3],\n",
       " 'ID': [26, 26],\n",
       " 'SA': [24, 24],\n",
       " 'ES': [21, 21],\n",
       " 'KR': [490, 490]}"
      ]
     },
     "metadata": {},
     "execution_count": 129
    }
   ],
   "source": [
    "for key in diz_aus:\n",
    "    for chiave in diz_cov_country:\n",
    "        if key == chiave:\n",
    "            diz_cov_country[chiave]+=diz_aus[key]\n",
    "sort_diz_fin=sorted(diz_cov_country.items(),key=lambda item: item[0], reverse=True)\n",
    "\n",
    "for key in diz_cov_country:\n",
    "    count=-1\n",
    "    pari=0\n",
    "    disp=0\n",
    "    if len(diz_cov_country[key]) > 2:\n",
    "        for el in diz_cov_country[key]:\n",
    "            count+=1\n",
    "            if count==0 or count==2:\n",
    "                pari+=diz_cov_country[key][count]\n",
    "            if count==1 or count==3:\n",
    "                disp+=diz_cov_country[key][count]\n",
    "        diz_cov_country[key]=[pari,disp]\n",
    "diz_cov_country"
   ]
  },
  {
   "cell_type": "code",
   "execution_count": 75,
   "metadata": {},
   "outputs": [
    {
     "output_type": "execute_result",
     "data": {
      "text/plain": [
       "[('China', [9579, 9584]),\n",
       " ('USA', [6367, 6379, 618, 386]),\n",
       " ('Brazil', [1312, 1305]),\n",
       " ('Italy', [1280, 1275]),\n",
       " ('Thailand', [1058, 1058]),\n",
       " ('Korea', [788, 792]),\n",
       " ('NL', [620, 373]),\n",
       " ('US', [618, 386]),\n",
       " ('Germany', [586, 589]),\n",
       " ('Netherlands', [569, 570]),\n",
       " ('Hong Kong', [538, 541]),\n",
       " ('KR', [490, 490]),\n",
       " ('Japan', [419, 806]),\n",
       " ('Taiwan', [419, 418]),\n",
       " ('France', [414, 475]),\n",
       " ('Malaysia', [389, 389]),\n",
       " ('Egypt', [365, 372]),\n",
       " ('Sweden', [362, 365]),\n",
       " ('Canada', [347, 355]),\n",
       " (\"People's Republic of China\", [342, 342]),\n",
       " ('Australia', [287, 301]),\n",
       " ('UK', [278, 281]),\n",
       " ('Republic of Korea', [266, 266]),\n",
       " ('Iran', [258, 253]),\n",
       " ('India', [252, 249]),\n",
       " ('South Africa', [194, 194]),\n",
       " ('Luxembourg', [183, 226]),\n",
       " ('Slovenia', [158, 158]),\n",
       " ('Viet Nam', [147, 147]),\n",
       " ('Kingdom of Saudi Arabia', [145, 145]),\n",
       " ('Turkey', [141, 139]),\n",
       " ('FR', [138, 138]),\n",
       " ('Russia', [127, 116]),\n",
       " ('Singapore', [123, 121]),\n",
       " ('AND', [118, 118]),\n",
       " ('Saudi Arabia', [110, 108]),\n",
       " ('Uruguay', [106, 106]),\n",
       " ('Poland', [97, 88]),\n",
       " ('CY', [94, 0]),\n",
       " ('Brasil', [92, 84]),\n",
       " ('Finland', [79, 79]),\n",
       " ('GB', [77, 36]),\n",
       " ('JP', [76, 76]),\n",
       " ('Kenya', [74, 74]),\n",
       " ('United Kingdom', [73, 72]),\n",
       " ('Greece', [72, 69]),\n",
       " ('Morocco', [71, 71]),\n",
       " ('United Arab Emirates', [66, 66]),\n",
       " ('Hungary', [64, 63]),\n",
       " ('Portugal', [62, 61]),\n",
       " ('Belgium', [60, 55]),\n",
       " ('Spain', [59, 56]),\n",
       " ('Mexico', [55, 55]),\n",
       " ('LA', [54, 54]),\n",
       " ('Ghana', [53, 53]),\n",
       " ('Vietnam', [51, 51]),\n",
       " ('CA', [47, 0]),\n",
       " ('Chile', [40, 40]),\n",
       " ('CN', [39, 39]),\n",
       " ('Iraq', [38, 38]),\n",
       " ('Islamic Republic of Iran', [37, 37]),\n",
       " ('Croatia', [36, 36]),\n",
       " ('Austria', [36, 34]),\n",
       " ('SG', [33, 33]),\n",
       " ('Argentina', [29, 29]),\n",
       " ('Jordan', [27, 27]),\n",
       " ('ID', [26, 26]),\n",
       " ('Israel', [24, 28]),\n",
       " ('SA', [24, 24]),\n",
       " ('Gabon', [21, 21]),\n",
       " ('ES', [21, 21]),\n",
       " ('Nigeria', [17, 17]),\n",
       " ('Ireland', [16, 16]),\n",
       " ('TW', [16, 0]),\n",
       " ('Madagascar', [14, 14]),\n",
       " ('Sudan', [14, 14]),\n",
       " ('CUB', [14, 4]),\n",
       " ('CO', [13, 13]),\n",
       " ('BV', [13, 13]),\n",
       " ('Indonesia', [12, 12]),\n",
       " ('Pakistan', [12, 12]),\n",
       " ('Switzerland', [10, 23]),\n",
       " ('New Zealand', [10, 10]),\n",
       " ('Czech Republic', [10, 10]),\n",
       " ('Serbia', [10, 10]),\n",
       " ('Denmark', [10, 6]),\n",
       " ('CH', [9, 0]),\n",
       " ('Tunisia', [8, 8]),\n",
       " ('IT', [7, 0]),\n",
       " ('Philippines', [6, 9]),\n",
       " ('Peru', [6, 6]),\n",
       " ('Costa Rica', [4, 4]),\n",
       " ('Italia', [4, 4]),\n",
       " ('Slovakia', [4, 4]),\n",
       " ('Saint Kitts and Nevis', [4, 4]),\n",
       " ('Korea, Republic of', [3, 3]),\n",
       " ('Bangladesh', [3, 3]),\n",
       " ('England', [3, 3]),\n",
       " ('Ukraine', [2, 2]),\n",
       " ('Colombia', [2, 2]),\n",
       " ('Cuba', [1, 10]),\n",
       " ('United States of America', [1, 1]),\n",
       " ('Ecuador', [1, 1]),\n",
       " ('PR China', [1, 1]),\n",
       " ('Algeria', [1, 1]),\n",
       " ('DE', [1, 1]),\n",
       " ('United States', [1, 0]),\n",
       " ('MA', [0, 7])]"
      ]
     },
     "metadata": {},
     "execution_count": 75
    }
   ],
   "source": [
    "sorted(diz_cov_country.items(),key=lambda item: item[1], reverse=True)"
   ]
  },
  {
   "cell_type": "code",
   "execution_count": 77,
   "metadata": {},
   "outputs": [],
   "source": [
    "diz_cov_country['UnitedStates2']=diz_cov_country['United States']+diz_cov_country['United States of America']+diz_cov_country['USA']+diz_cov_country['US']\n",
    "diz_cov_country['China2']=diz_cov_country['China'] + diz_cov_country['PR China'] + diz_cov_country['Hong Kong'] + diz_cov_country[\"People's Republic of China\"] + diz_cov_country['Taiwan']\n",
    "diz_cov_country['Italy2']=diz_cov_country['Italy'] + diz_cov_country['Italia'] + diz_cov_country['IT']\n",
    "diz_cov_country['Netherlands2']=diz_cov_country['Netherlands'] + diz_cov_country['NL'] \n",
    "diz_cov_country['France2']=diz_cov_country['France'] + diz_cov_country['FR'] \n",
    "diz_cov_country['UnitedKingdom2']=diz_cov_country['UK'] + diz_cov_country['United Kingdom'] + diz_cov_country['England']\n",
    "diz_cov_country['Brazil2']=diz_cov_country['Brazil'] + diz_cov_country['Brasil']\n",
    "diz_cov_country['Iran2']=diz_cov_country['Islamic Republic of Iran']  + diz_cov_country['Iran']\n",
    "diz_cov_country['SaudiArabia2']=diz_cov_country['Saudi Arabia'] + diz_cov_country['Kingdom of Saudi Arabia']\n",
    "diz_cov_country['Korea2']=diz_cov_country['Republic of Korea'] + diz_cov_country['Korea']+ diz_cov_country['KR']"
   ]
  },
  {
   "cell_type": "code",
   "execution_count": 78,
   "metadata": {},
   "outputs": [
    {
     "output_type": "execute_result",
     "data": {
      "text/plain": [
       "89"
      ]
     },
     "metadata": {},
     "execution_count": 78
    }
   ],
   "source": [
    "USA=['United States','United States of America','UNITED STATES','USA','US']\n",
    "CHINA=['China','PR China','Hong Kong',\"People's Republic of China\",'Taiwan']\n",
    "ITALIA=['Italy','Italia','IT']\n",
    "NL=['Netherlands','NL']\n",
    "FRANCE=['France','FR']\n",
    "UK=['United Kingdom of Great Britain and Northern Ireland','United Kingdom','England', 'UK']\n",
    "GERMANIA=['Germany','GERMANY','Deutschland']\n",
    "BRASILE=['Brazil','Brasil']\n",
    "IRAN=['Islamic Republic of Iran','Iran']\n",
    "ARABIA_SAUDITA=['Saudi Arabia','Kingdom of Saudi Arabia']\n",
    "KOREA=['Republic of Korea','Korea','KR']\n",
    "\n",
    "#eliminazione chiavi vecchie non utili\n",
    "for key, value in list(diz_cov_country.items()):\n",
    "    if key in USA or key in CHINA or key in ITALIA or key in UK or key in GERMANIA or key in BRASILE or key in IRAN or key in ARABIA_SAUDITA or key in KOREA or key in NL or key in FRANCE: #poi gestisci manualmente UK\n",
    "        del(diz_cov_country[key])\n",
    "len(diz_cov_country)"
   ]
  },
  {
   "cell_type": "code",
   "execution_count": 79,
   "metadata": {},
   "outputs": [],
   "source": [
    "diz_cov_country['United States'] = diz_cov_country.pop('UnitedStates2')\n",
    "diz_cov_country['China'] = diz_cov_country.pop('China2')\n",
    "diz_cov_country['Italy'] = diz_cov_country.pop('Italy2')\n",
    "diz_cov_country['United Kingdom'] = diz_cov_country.pop('UnitedKingdom2')\n",
    "diz_cov_country['Brazil'] = diz_cov_country.pop('Brazil2')\n",
    "diz_cov_country['Iran'] = diz_cov_country.pop('Iran2')\n",
    "diz_cov_country['Saudi Arabia'] = diz_cov_country.pop('SaudiArabia2')\n",
    "diz_cov_country['Korea'] = diz_cov_country.pop('Korea2')\n",
    "diz_cov_country['Netherlands'] = diz_cov_country.pop('Netherlands2')\n",
    "diz_cov_country['France'] = diz_cov_country.pop('France2')"
   ]
  },
  {
   "cell_type": "code",
   "execution_count": 80,
   "metadata": {},
   "outputs": [
    {
     "output_type": "execute_result",
     "data": {
      "text/plain": [
       "[('China', [9579, 9584, 1, 1, 538, 541, 342, 342, 419, 418]),\n",
       " ('Brazil', [1312, 1305, 92, 84]),\n",
       " ('Italy', [1280, 1275, 4, 4, 7, 0]),\n",
       " ('Thailand', [1058, 1058]),\n",
       " ('Netherlands', [569, 570, 620, 373]),\n",
       " ('Japan', [419, 806]),\n",
       " ('France', [414, 475, 138, 138]),\n",
       " ('Malaysia', [389, 389]),\n",
       " ('Egypt', [365, 372]),\n",
       " ('Sweden', [362, 365]),\n",
       " ('Canada', [347, 355]),\n",
       " ('Australia', [287, 301]),\n",
       " ('United Kingdom', [278, 281, 73, 72, 3, 3]),\n",
       " ('Korea', [266, 266, 788, 792, 490, 490]),\n",
       " ('India', [252, 249]),\n",
       " ('South Africa', [194, 194]),\n",
       " ('Luxembourg', [183, 226]),\n",
       " ('Slovenia', [158, 158]),\n",
       " ('Viet Nam', [147, 147]),\n",
       " ('Turkey', [141, 139]),\n",
       " ('Russia', [127, 116]),\n",
       " ('Singapore', [123, 121]),\n",
       " ('AND', [118, 118]),\n",
       " ('Saudi Arabia', [110, 108, 145, 145]),\n",
       " ('Uruguay', [106, 106]),\n",
       " ('Poland', [97, 88]),\n",
       " ('CY', [94, 0]),\n",
       " ('Finland', [79, 79]),\n",
       " ('GB', [77, 36]),\n",
       " ('JP', [76, 76]),\n",
       " ('Kenya', [74, 74]),\n",
       " ('Greece', [72, 69]),\n",
       " ('Morocco', [71, 71]),\n",
       " ('United Arab Emirates', [66, 66]),\n",
       " ('Hungary', [64, 63]),\n",
       " ('Portugal', [62, 61]),\n",
       " ('Belgium', [60, 55]),\n",
       " ('Spain', [59, 56]),\n",
       " ('Mexico', [55, 55]),\n",
       " ('LA', [54, 54]),\n",
       " ('Ghana', [53, 53]),\n",
       " ('Vietnam', [51, 51]),\n",
       " ('CA', [47, 0]),\n",
       " ('Chile', [40, 40]),\n",
       " ('CN', [39, 39]),\n",
       " ('Iraq', [38, 38]),\n",
       " ('Iran', [37, 37, 258, 253]),\n",
       " ('Croatia', [36, 36]),\n",
       " ('Austria', [36, 34]),\n",
       " ('SG', [33, 33]),\n",
       " ('Argentina', [29, 29]),\n",
       " ('Jordan', [27, 27]),\n",
       " ('ID', [26, 26]),\n",
       " ('Israel', [24, 28]),\n",
       " ('SA', [24, 24]),\n",
       " ('Gabon', [21, 21]),\n",
       " ('ES', [21, 21]),\n",
       " ('Nigeria', [17, 17]),\n",
       " ('Ireland', [16, 16]),\n",
       " ('TW', [16, 0]),\n",
       " ('Madagascar', [14, 14]),\n",
       " ('Sudan', [14, 14]),\n",
       " ('CUB', [14, 4]),\n",
       " ('CO', [13, 13]),\n",
       " ('BV', [13, 13]),\n",
       " ('Indonesia', [12, 12]),\n",
       " ('Pakistan', [12, 12]),\n",
       " ('Switzerland', [10, 23]),\n",
       " ('New Zealand', [10, 10]),\n",
       " ('Czech Republic', [10, 10]),\n",
       " ('Serbia', [10, 10]),\n",
       " ('Denmark', [10, 6]),\n",
       " ('CH', [9, 0]),\n",
       " ('Tunisia', [8, 8]),\n",
       " ('Philippines', [6, 9]),\n",
       " ('Peru', [6, 6]),\n",
       " ('Costa Rica', [4, 4]),\n",
       " ('Slovakia', [4, 4]),\n",
       " ('Saint Kitts and Nevis', [4, 4]),\n",
       " ('Korea, Republic of', [3, 3]),\n",
       " ('Bangladesh', [3, 3]),\n",
       " ('Ukraine', [2, 2]),\n",
       " ('Colombia', [2, 2]),\n",
       " ('Cuba', [1, 10]),\n",
       " ('Ecuador', [1, 1]),\n",
       " ('Algeria', [1, 1]),\n",
       " ('DE', [1, 1]),\n",
       " ('United States', [1, 0, 1, 1, 6367, 6379, 618, 386, 618, 386]),\n",
       " ('MA', [0, 7])]"
      ]
     },
     "metadata": {},
     "execution_count": 80
    }
   ],
   "source": [
    "sorted_diz_fin=sorted(diz_cov_country.items(),key=lambda item: item[1], reverse=True)\n",
    "sorted_diz_fin"
   ]
  },
  {
   "cell_type": "code",
   "execution_count": 81,
   "metadata": {},
   "outputs": [
    {
     "output_type": "execute_result",
     "data": {
      "text/plain": [
       "{'Canada': [347, 355],\n",
       " 'Egypt': [365, 372],\n",
       " 'India': [252, 249],\n",
       " 'Gabon': [21, 21],\n",
       " 'Uruguay': [106, 106],\n",
       " 'Thailand': [1058, 1058],\n",
       " 'New Zealand': [10, 10],\n",
       " 'Turkey': [141, 139],\n",
       " 'Chile': [40, 40],\n",
       " 'Czech Republic': [10, 10],\n",
       " 'Malaysia': [389, 389],\n",
       " 'Luxembourg': [183, 226],\n",
       " 'Slovenia': [158, 158],\n",
       " 'Spain': [59, 56],\n",
       " 'Argentina': [29, 29],\n",
       " 'Israel': [24, 28],\n",
       " 'JP': [76, 76],\n",
       " 'AND': [118, 118],\n",
       " 'SG': [33, 33],\n",
       " 'CN': [39, 39],\n",
       " 'Greece': [72, 69],\n",
       " 'Sweden': [362, 365],\n",
       " 'Russia': [127, 116],\n",
       " 'Japan': [419, 806],\n",
       " 'MA': [0, 7],\n",
       " 'Ireland': [16, 16],\n",
       " 'GB': [77, 36],\n",
       " 'Tunisia': [8, 8],\n",
       " 'CA': [47, 0],\n",
       " 'CY': [94, 0],\n",
       " 'Australia': [287, 301],\n",
       " 'CUB': [14, 4],\n",
       " 'Cuba': [1, 10],\n",
       " 'TW': [16, 0],\n",
       " 'CO': [13, 13],\n",
       " 'Singapore': [123, 121],\n",
       " 'Korea, Republic of': [3, 3],\n",
       " 'Switzerland': [10, 23],\n",
       " 'Poland': [97, 88],\n",
       " 'LA': [54, 54],\n",
       " 'Hungary': [64, 63],\n",
       " 'South Africa': [194, 194],\n",
       " 'Costa Rica': [4, 4],\n",
       " 'Indonesia': [12, 12],\n",
       " 'Denmark': [10, 6],\n",
       " 'Mexico': [55, 55],\n",
       " 'United Arab Emirates': [66, 66],\n",
       " 'Morocco': [71, 71],\n",
       " 'Austria': [36, 34],\n",
       " 'Belgium': [60, 55],\n",
       " 'Portugal': [62, 61],\n",
       " 'Ghana': [53, 53],\n",
       " 'Finland': [79, 79],\n",
       " 'Kenya': [74, 74],\n",
       " 'Ecuador': [1, 1],\n",
       " 'Philippines': [6, 9],\n",
       " 'Croatia': [36, 36],\n",
       " 'Ukraine': [2, 2],\n",
       " 'Madagascar': [14, 14],\n",
       " 'Pakistan': [12, 12],\n",
       " 'BV': [13, 13],\n",
       " 'Peru': [6, 6],\n",
       " 'Iraq': [38, 38],\n",
       " 'Vietnam': [51, 51],\n",
       " 'Slovakia': [4, 4],\n",
       " 'Viet Nam': [147, 147],\n",
       " 'Sudan': [14, 14],\n",
       " 'CH': [9, 0],\n",
       " 'Saint Kitts and Nevis': [4, 4],\n",
       " 'Colombia': [2, 2],\n",
       " 'Bangladesh': [3, 3],\n",
       " 'Algeria': [1, 1],\n",
       " 'Serbia': [10, 10],\n",
       " 'Nigeria': [17, 17],\n",
       " 'Jordan': [27, 27],\n",
       " 'DE': [1, 1],\n",
       " 'ID': [26, 26],\n",
       " 'SA': [24, 24],\n",
       " 'ES': [21, 21],\n",
       " 'United States': [7605, 7152],\n",
       " 'China': [10879, 10886],\n",
       " 'Italy': [1291, 1279],\n",
       " 'United Kingdom': [354, 356],\n",
       " 'Brazil': [1404, 1389],\n",
       " 'Iran': [295, 290],\n",
       " 'Saudi Arabia': [255, 253],\n",
       " 'Korea': [1544, 1548],\n",
       " 'Netherlands': [1189, 943],\n",
       " 'France': [552, 613]}"
      ]
     },
     "metadata": {},
     "execution_count": 81
    }
   ],
   "source": [
    "#ultimo filtro\n",
    "#sistemazione dizionario ausiliario\n",
    "for key in diz_cov_country:\n",
    "    count=-1\n",
    "    pari=0\n",
    "    disp=0\n",
    "    if len(diz_cov_country[key]) > 2:\n",
    "        for el in diz_cov_country[key]:\n",
    "            count+=1\n",
    "            if count==0 or count==2 or count==4 or count==6 or count==8:\n",
    "                pari+=diz_cov_country[key][count]\n",
    "            if count==1 or count==3 or count==5 or count==7 or count==9:\n",
    "                disp+=diz_cov_country[key][count]\n",
    "        diz_cov_country[key]=[pari,disp]\n",
    "diz_cov_country"
   ]
  },
  {
   "cell_type": "code",
   "execution_count": 82,
   "metadata": {},
   "outputs": [
    {
     "output_type": "execute_result",
     "data": {
      "text/plain": [
       "           Country  Principal_Author  Funding_country    Sum\n",
       "0            China             10879            10886  21765\n",
       "1    United States              7605             7152  14757\n",
       "2            Korea              1544             1548   3092\n",
       "3           Brazil              1404             1389   2793\n",
       "4            Italy              1291             1279   2570\n",
       "5      Netherlands              1189              943   2132\n",
       "6         Thailand              1058             1058   2116\n",
       "7            Japan               419              806   1225\n",
       "8           France               552              613   1165\n",
       "9         Malaysia               389              389    778\n",
       "10           Egypt               365              372    737\n",
       "11          Sweden               362              365    727\n",
       "12  United Kingdom               354              356    710\n",
       "13          Canada               347              355    702\n",
       "14       Australia               287              301    588\n",
       "15            Iran               295              290    585\n",
       "16    Saudi Arabia               255              253    508\n",
       "17           India               252              249    501\n",
       "18      Luxembourg               183              226    409\n",
       "19    South Africa               194              194    388"
      ],
      "text/html": "<div>\n<style scoped>\n    .dataframe tbody tr th:only-of-type {\n        vertical-align: middle;\n    }\n\n    .dataframe tbody tr th {\n        vertical-align: top;\n    }\n\n    .dataframe thead th {\n        text-align: right;\n    }\n</style>\n<table border=\"1\" class=\"dataframe\">\n  <thead>\n    <tr style=\"text-align: right;\">\n      <th></th>\n      <th>Country</th>\n      <th>Principal_Author</th>\n      <th>Funding_country</th>\n      <th>Sum</th>\n    </tr>\n  </thead>\n  <tbody>\n    <tr>\n      <th>0</th>\n      <td>China</td>\n      <td>10879</td>\n      <td>10886</td>\n      <td>21765</td>\n    </tr>\n    <tr>\n      <th>1</th>\n      <td>United States</td>\n      <td>7605</td>\n      <td>7152</td>\n      <td>14757</td>\n    </tr>\n    <tr>\n      <th>2</th>\n      <td>Korea</td>\n      <td>1544</td>\n      <td>1548</td>\n      <td>3092</td>\n    </tr>\n    <tr>\n      <th>3</th>\n      <td>Brazil</td>\n      <td>1404</td>\n      <td>1389</td>\n      <td>2793</td>\n    </tr>\n    <tr>\n      <th>4</th>\n      <td>Italy</td>\n      <td>1291</td>\n      <td>1279</td>\n      <td>2570</td>\n    </tr>\n    <tr>\n      <th>5</th>\n      <td>Netherlands</td>\n      <td>1189</td>\n      <td>943</td>\n      <td>2132</td>\n    </tr>\n    <tr>\n      <th>6</th>\n      <td>Thailand</td>\n      <td>1058</td>\n      <td>1058</td>\n      <td>2116</td>\n    </tr>\n    <tr>\n      <th>7</th>\n      <td>Japan</td>\n      <td>419</td>\n      <td>806</td>\n      <td>1225</td>\n    </tr>\n    <tr>\n      <th>8</th>\n      <td>France</td>\n      <td>552</td>\n      <td>613</td>\n      <td>1165</td>\n    </tr>\n    <tr>\n      <th>9</th>\n      <td>Malaysia</td>\n      <td>389</td>\n      <td>389</td>\n      <td>778</td>\n    </tr>\n    <tr>\n      <th>10</th>\n      <td>Egypt</td>\n      <td>365</td>\n      <td>372</td>\n      <td>737</td>\n    </tr>\n    <tr>\n      <th>11</th>\n      <td>Sweden</td>\n      <td>362</td>\n      <td>365</td>\n      <td>727</td>\n    </tr>\n    <tr>\n      <th>12</th>\n      <td>United Kingdom</td>\n      <td>354</td>\n      <td>356</td>\n      <td>710</td>\n    </tr>\n    <tr>\n      <th>13</th>\n      <td>Canada</td>\n      <td>347</td>\n      <td>355</td>\n      <td>702</td>\n    </tr>\n    <tr>\n      <th>14</th>\n      <td>Australia</td>\n      <td>287</td>\n      <td>301</td>\n      <td>588</td>\n    </tr>\n    <tr>\n      <th>15</th>\n      <td>Iran</td>\n      <td>295</td>\n      <td>290</td>\n      <td>585</td>\n    </tr>\n    <tr>\n      <th>16</th>\n      <td>Saudi Arabia</td>\n      <td>255</td>\n      <td>253</td>\n      <td>508</td>\n    </tr>\n    <tr>\n      <th>17</th>\n      <td>India</td>\n      <td>252</td>\n      <td>249</td>\n      <td>501</td>\n    </tr>\n    <tr>\n      <th>18</th>\n      <td>Luxembourg</td>\n      <td>183</td>\n      <td>226</td>\n      <td>409</td>\n    </tr>\n    <tr>\n      <th>19</th>\n      <td>South Africa</td>\n      <td>194</td>\n      <td>194</td>\n      <td>388</td>\n    </tr>\n  </tbody>\n</table>\n</div>"
     },
     "metadata": {},
     "execution_count": 82
    }
   ],
   "source": [
    "listone=list(diz_cov_country.values())\n",
    "chiavi=list(diz_cov_country.keys())\n",
    "pa=[]\n",
    "fun=[]\n",
    "som=[]\n",
    "listone\n",
    "for li in listone:\n",
    "    somma=0\n",
    "    count=-1\n",
    "    for el in li:\n",
    "        count+=1\n",
    "        if count==0:\n",
    "            pa.append(el)\n",
    "            somma+=el\n",
    "        if count==1:\n",
    "            fun.append(el)\n",
    "            somma+=el\n",
    "    som.append(somma)\n",
    "\n",
    "\n",
    "countrycov_pub=pd.DataFrame(list(zip(chiavi,pa,fun,som)),columns=['Country','Principal_Author','Funding_country','Sum'])\n",
    "countrycov_pub=countrycov_pub.sort_values(by=['Sum'],ascending=False).reset_index() \n",
    "countrycov_pub=countrycov_pub.drop('index',axis=1)\n",
    "countrycov_pub=countrycov_pub[0:20]\n",
    "\n",
    "\n",
    "#taglia india, brasile, iran, korea\n",
    "#countrycov_pub=countrycov_pub.drop([4,8,10,14,17],axis=0).reset_index()\n",
    "#countrycov_pub=countrycov_pub.drop('index',axis=1)\n",
    "countrycov_pub"
   ]
  },
  {
   "cell_type": "code",
   "execution_count": 146,
   "metadata": {},
   "outputs": [],
   "source": [
    "countrycov_pub.to_csv(\"paesi_vicini.csv\")"
   ]
  },
  {
   "cell_type": "code",
   "execution_count": 144,
   "metadata": {},
   "outputs": [
    {
     "output_type": "execute_result",
     "data": {
      "text/plain": [
       "                                                                                                                                                                                                                                                                                                                                                                                                                                                                                                                                                                                                                                                                                                                                                                                                                                                                                                                                                                                                                                                                                                                                                                                                                                                                                                                                                                                                                                                                                                                                                                                                                                                                                                                                                                                                                                                                                                                                                                                                                                                                                                                                                                                                                                                                                                                                                                                                                                                                                                                                                                                                                                                                                                                                                                                                                                                                                                                                                                                                                                                                                                                                                                                                                                                                                                                                                                                                                                                                                                                                                                                                                                                                                                                                                                                                                                                                                                                                                                                                                                                                                                                                                                                                                                                                                                                                                                                                                                                                                                                                                                                                                                                                                                                                                                                                                                                                                                                                                                                                                                                                                                                                                                                                                                                                                                                                                                                                                                                                                                                                                                                                                                                                                                                                                                                                                                                                                                                                                                                                                                                                                                                                                                                                                                                                                                                                                                                                                                                                                                                                                                                                                                                                                                                                                                                                                                                                                                                                                                                                                                                                                                                                                                                                                                                                                                                                                                                                                                                                                                                                                                                                                                                                                                                                                                                                                                                                                                                                                                                                                                                                                                                                                                                                                                                                                                                                                                                                                                                                                                                                                                                                                                                                                                                                                                                                                                                                                                                                                                                                                                                                                                                                                                                                                                                                                                                                                                                                                                                                                                                                                                                                                                                                                                                                                                                                                                                                                                                                                                                                                                                                                                                                                                                                                                                                                                                                                                                                                                                                                                                                                                                                                                                                                                                                                                                                                                                                                                                                                                                                                                                                                                                                                                                                                                                                                                                                                                                                                                                                                                                                                                                                                                                                                                                                                                                                                                                                                                                                                                                                                                                                                                                                                                                                                                                                                                                                                                                                                                                                                                                                                                                                                                                                                                                                                                                                                                                                                                                                                                                                                                                                                                                                                                                                                                                                                                                                                                                                                                                                                                                                                                                                                                                                                                                                                                                                                                                                                                                                                                                                                                                                                                                                                                                                                                                                                                                                                                                                                                                                                                                                                                                                                                                                                                                                                                                                                                                                                                                                                                                                                                                                                                                                                                                                                                                                                                                                                                                                                                                                                                                                                                                                                                                                                                                                                                                                                                                                                                                                                                                                                                                                                                                                                                                                                                                                                                                                                                                                                                                                                                                                                                                                                                                                                                                                                                                                                                                                                                                                                                                                                                                                                                                                                                                                                                                                                                                                                                                                                                                                                                                                                                                                                                                                                                                                                                                                                                                                                                                                                                                                                                                                                                                                                                                                                                                                                                                                                                                                                                                                                                                                                                                                                                                                                                                                                                                                                                                                                                                                                                                                                                                                                                                                                                                                                                                                                                                                                                                                                                                                                                                                                                                                                                                                                                                                                                                                                                                                                                                                                                                                                                                                                                                                                                                                                                                                                                                                                                                                                                                                                                                                                                                                                                                                                                                                                                                   1\n",
       "Name: first_aff, Length: 8790, dtype: int64"
      ]
     },
     "metadata": {},
     "execution_count": 144
    }
   ],
   "source": [
    "# passo a lavoro su affiliations e centri di ricerca\n",
    "\n",
    "df['first_aff'] = df.apply(lambda row: extract_first(row['affiliations']),axis=1)\n",
    "df['first_aff'].value_counts()"
   ]
  },
  {
   "cell_type": "code",
   "execution_count": 145,
   "metadata": {},
   "outputs": [],
   "source": [
    "A = df['first_aff'].value_counts()\n",
    "A.to_csv(\"aff.csv\",mode='a')"
   ]
  },
  {
   "cell_type": "code",
   "execution_count": 30,
   "metadata": {},
   "outputs": [],
   "source": [
    "test = df\n",
    "test = test.drop(['total_string'], axis=1)\n",
    "test = test.drop(['affiliations'], axis=1)\n",
    "\n",
    "test.to_csv(\"testfirstlat.csv\")"
   ]
  },
  {
   "cell_type": "code",
   "execution_count": 44,
   "metadata": {},
   "outputs": [],
   "source": [
    "def extract_date(total_string):\n",
    "    date = re.findall(\"(?s)date(.*?)}\", total_string) \n",
    "    return extract_year(date)\n",
    "def fill_date(row):\n",
    "    if not row['date']:\n",
    "        date = re.findall(\"(?s)date(.*?)}\", row['total_string']) \n",
    "        row['date'] = date\n",
    "    else:\n",
    "        row['date'] = row['date']\n",
    "\n",
    "    return row['date']              \n",
    "def extract_year(dates):\n",
    "    years =[]\n",
    "    for date in dates:\n",
    "        year = re.findall(\"(?s)name \\\"(.*?)\\\"\", date)\n",
    "        years.append(year)\n",
    "    return years\n",
    "def clean_empty(dates):\n",
    "    new_list = list(filter(None, dates))\n",
    "    return new_list\n",
    " \n",
    "def first_date(date):\n",
    "    if date:\n",
    "        data0 = str(date[0])\n",
    "        data = data0[2:-2]\n",
    "\n",
    "        if len(data) == 4:\n",
    "            return data\n",
    "        else:\n",
    "            return data[-4:]       \n",
    "    else:\n",
    "        return \"no_data\"\n",
    "def check_wrongformat(first_date):\n",
    "     \n",
    "     fd = first_date[2:-2]\n",
    "     x = re.search('([0-9][0-9][0-9][0-9]-[0-9][0-9]-[0-9][0-9])',fd)\n",
    "     if x:\n",
    "        return first_date[2:-2]\n",
    "     else:\n",
    "         return \"wrong format\""
   ]
  },
  {
   "cell_type": "code",
   "execution_count": 45,
   "metadata": {},
   "outputs": [],
   "source": [
    "df['clean_date'] = df.apply(lambda row: clean_empty(row['date']),axis=1)"
   ]
  },
  {
   "cell_type": "code",
   "execution_count": 46,
   "metadata": {
    "tags": []
   },
   "outputs": [],
   "source": [
    "df['first_date'] = df.apply(lambda row: first_date(row['clean_date']),axis=1)"
   ]
  },
  {
   "cell_type": "code",
   "execution_count": 47,
   "metadata": {},
   "outputs": [
    {
     "output_type": "execute_result",
     "data": {
      "text/plain": [
       "0        2018\n",
       "1        2018\n",
       "2        2018\n",
       "3        2018\n",
       "4        2018\n",
       "         ... \n",
       "37173    1986\n",
       "37174    2004\n",
       "37175    2003\n",
       "37176    2003\n",
       "37177    2003\n",
       "Name: first_date, Length: 37178, dtype: object"
      ]
     },
     "metadata": {},
     "execution_count": 47
    }
   ],
   "source": [
    "df['first_date']"
   ]
  },
  {
   "cell_type": "code",
   "execution_count": 53,
   "metadata": {},
   "outputs": [],
   "source": [
    "def extract_taxname(total_string):\n",
    "    taxname = re.findall(\"(?s)taxname \\\"(.*?)\\\"\", total_string) \n",
    "    return taxname\n",
    "\n",
    "def first_taxname(date):\n",
    "    if date:\n",
    "        return str(date[0])\n",
    "    else:\n",
    "        return \"no_taxname\"    "
   ]
  },
  {
   "cell_type": "code",
   "execution_count": 54,
   "metadata": {},
   "outputs": [
    {
     "output_type": "execute_result",
     "data": {
      "text/plain": [
       "0                     Alphacoronavirus 1\n",
       "1                     Alphacoronavirus 1\n",
       "2                     Alphacoronavirus 1\n",
       "3        Porcine epidemic diarrhea virus\n",
       "4        Porcine epidemic diarrhea virus\n",
       "                      ...               \n",
       "37173        Infectious bronchitis virus\n",
       "37174        Infectious bronchitis virus\n",
       "37175        Infectious bronchitis virus\n",
       "37176        Infectious bronchitis virus\n",
       "37177        Infectious bronchitis virus\n",
       "Name: first_taxname, Length: 37178, dtype: object"
      ]
     },
     "metadata": {},
     "execution_count": 54
    }
   ],
   "source": [
    "df['first_taxname'] = df.apply(lambda row: first_taxname(row['taxname']),axis=1)\n",
    "\n",
    "df['first_taxname']"
   ]
  },
  {
   "cell_type": "code",
   "execution_count": 55,
   "metadata": {},
   "outputs": [
    {
     "output_type": "execute_result",
     "data": {
      "text/plain": [
       "Infectious bronchitis virus                           8165\n",
       "Porcine epidemic diarrhea virus                       5349\n",
       "synthetic construct                                   2239\n",
       "Feline coronavirus                                    2190\n",
       "no_taxname                                            1804\n",
       "                                                      ... \n",
       "Coronavirus RCoV/RMU10_3052/Apo_fla/GER/2010             1\n",
       "Bat coronavirus (BtCoV/A970/2005)                        1\n",
       "Betacoronavirus BtCoV/Rhi_hip/Slo48/SLO/2009             1\n",
       "Miniopterus schreibersii bat coronavirus 1-related       1\n",
       "Bat coronavirus M.dau/Germany/D8.32/2007                 1\n",
       "Name: first_taxname, Length: 1284, dtype: int64"
      ]
     },
     "metadata": {},
     "execution_count": 55
    }
   ],
   "source": [
    "df['first_taxname'].value_counts()"
   ]
  },
  {
   "cell_type": "code",
   "execution_count": 60,
   "metadata": {},
   "outputs": [
    {
     "output_type": "execute_result",
     "data": {
      "text/plain": [
       "       Unnamed: 0  Unnamed: 0.1  \\\n",
       "0               0             0   \n",
       "1               1             1   \n",
       "2               2             2   \n",
       "3               3             3   \n",
       "4               4             4   \n",
       "...           ...           ...   \n",
       "37173         994           994   \n",
       "37174         995           995   \n",
       "37175         996           996   \n",
       "37176         997           997   \n",
       "37177         998           998   \n",
       "\n",
       "                                            total_string  \\\n",
       "0      Seq-entry ::= set {\\n  class nuc-prot,\\n  desc...   \n",
       "1      Seq-entry ::= set {\\n  class nuc-prot,\\n  desc...   \n",
       "2      Seq-entry ::= set {\\n  class nuc-prot,\\n  desc...   \n",
       "3      Seq-entry ::= set {\\n  class pop-set,\\n  descr...   \n",
       "4      Seq-entry ::= set {\\n  class pop-set,\\n  descr...   \n",
       "...                                                  ...   \n",
       "37173  Seq-entry ::= set {\\n  class nuc-prot,\\n  desc...   \n",
       "37174  Seq-entry ::= set {\\n  class nuc-prot,\\n  desc...   \n",
       "37175  Seq-entry ::= set {\\n  class nuc-prot,\\n  desc...   \n",
       "37176  Seq-entry ::= set {\\n  class nuc-prot,\\n  desc...   \n",
       "37177  Seq-entry ::= set {\\n  class nuc-prot,\\n  desc...   \n",
       "\n",
       "                                                    date  \\\n",
       "0                               [[2018], [], [], [], []]   \n",
       "1                               [[2018], [], [], [], []]   \n",
       "2                               [[2018], [], [], [], []]   \n",
       "3      [[], [], [24-Jun-2018], [], [], [], [], [], []...   \n",
       "4      [[], [], [24-Jun-2018], [], [], [], [], [], []...   \n",
       "...                                                  ...   \n",
       "37173  [[1986], [], [], [], [], [], [], [], [], [], [...   \n",
       "37174  [[06-Dec-2004], [], [], [], [], [], [], [], []...   \n",
       "37175  [[07-Nov-2003], [], [], [], [], [], [], [], []...   \n",
       "37176  [[31-Oct-2003], [], [], [], [], [], [], [], []...   \n",
       "37177  [[31-Oct-2003], [], [], [], [], [], [], [], []...   \n",
       "\n",
       "                            full_date first_date  \\\n",
       "0                          [soloanno]       2018   \n",
       "1                          [soloanno]       2018   \n",
       "2                          [soloanno]       2018   \n",
       "3      [[24-Jun-2018], [06-Aug-2018]]       2018   \n",
       "4      [[24-Jun-2018], [06-Aug-2018]]       2018   \n",
       "...                               ...        ...   \n",
       "37173                      [soloanno]       1986   \n",
       "37174                 [[06-Dec-2004]]       2004   \n",
       "37175                 [[07-Nov-2003]]       2003   \n",
       "37176                 [[31-Oct-2003]]       2003   \n",
       "37177                 [[31-Oct-2003]]       2003   \n",
       "\n",
       "                           clean_date  \\\n",
       "0                            [[2018]]   \n",
       "1                            [[2018]]   \n",
       "2                            [[2018]]   \n",
       "3      [[24-Jun-2018], [06-Aug-2018]]   \n",
       "4      [[24-Jun-2018], [06-Aug-2018]]   \n",
       "...                               ...   \n",
       "37173                        [[1986]]   \n",
       "37174                 [[06-Dec-2004]]   \n",
       "37175                 [[07-Nov-2003]]   \n",
       "37176                 [[31-Oct-2003]]   \n",
       "37177                 [[31-Oct-2003]]   \n",
       "\n",
       "                                                 taxname  \\\n",
       "0                                   [Alphacoronavirus 1]   \n",
       "1                                   [Alphacoronavirus 1]   \n",
       "2                                   [Alphacoronavirus 1]   \n",
       "3      [Porcine epidemic diarrhea virus, Porcine epid...   \n",
       "4      [Porcine epidemic diarrhea virus, Porcine epid...   \n",
       "...                                                  ...   \n",
       "37173                      [Infectious bronchitis virus]   \n",
       "37174                      [Infectious bronchitis virus]   \n",
       "37175                      [Infectious bronchitis virus]   \n",
       "37176                      [Infectious bronchitis virus]   \n",
       "37177                      [Infectious bronchitis virus]   \n",
       "\n",
       "                         first_taxname  \n",
       "0                   Alphacoronavirus 1  \n",
       "1                   Alphacoronavirus 1  \n",
       "2                   Alphacoronavirus 1  \n",
       "3      Porcine epidemic diarrhea virus  \n",
       "4      Porcine epidemic diarrhea virus  \n",
       "...                                ...  \n",
       "37173      Infectious bronchitis virus  \n",
       "37174      Infectious bronchitis virus  \n",
       "37175      Infectious bronchitis virus  \n",
       "37176      Infectious bronchitis virus  \n",
       "37177      Infectious bronchitis virus  \n",
       "\n",
       "[37178 rows x 9 columns]"
      ],
      "text/html": "<div>\n<style scoped>\n    .dataframe tbody tr th:only-of-type {\n        vertical-align: middle;\n    }\n\n    .dataframe tbody tr th {\n        vertical-align: top;\n    }\n\n    .dataframe thead th {\n        text-align: right;\n    }\n</style>\n<table border=\"1\" class=\"dataframe\">\n  <thead>\n    <tr style=\"text-align: right;\">\n      <th></th>\n      <th>Unnamed: 0</th>\n      <th>Unnamed: 0.1</th>\n      <th>total_string</th>\n      <th>date</th>\n      <th>full_date</th>\n      <th>first_date</th>\n      <th>clean_date</th>\n      <th>taxname</th>\n      <th>first_taxname</th>\n    </tr>\n  </thead>\n  <tbody>\n    <tr>\n      <th>0</th>\n      <td>0</td>\n      <td>0</td>\n      <td>Seq-entry ::= set {\\n  class nuc-prot,\\n  desc...</td>\n      <td>[[2018], [], [], [], []]</td>\n      <td>[soloanno]</td>\n      <td>2018</td>\n      <td>[[2018]]</td>\n      <td>[Alphacoronavirus 1]</td>\n      <td>Alphacoronavirus 1</td>\n    </tr>\n    <tr>\n      <th>1</th>\n      <td>1</td>\n      <td>1</td>\n      <td>Seq-entry ::= set {\\n  class nuc-prot,\\n  desc...</td>\n      <td>[[2018], [], [], [], []]</td>\n      <td>[soloanno]</td>\n      <td>2018</td>\n      <td>[[2018]]</td>\n      <td>[Alphacoronavirus 1]</td>\n      <td>Alphacoronavirus 1</td>\n    </tr>\n    <tr>\n      <th>2</th>\n      <td>2</td>\n      <td>2</td>\n      <td>Seq-entry ::= set {\\n  class nuc-prot,\\n  desc...</td>\n      <td>[[2018], [], [], [], []]</td>\n      <td>[soloanno]</td>\n      <td>2018</td>\n      <td>[[2018]]</td>\n      <td>[Alphacoronavirus 1]</td>\n      <td>Alphacoronavirus 1</td>\n    </tr>\n    <tr>\n      <th>3</th>\n      <td>3</td>\n      <td>3</td>\n      <td>Seq-entry ::= set {\\n  class pop-set,\\n  descr...</td>\n      <td>[[], [], [24-Jun-2018], [], [], [], [], [], []...</td>\n      <td>[[24-Jun-2018], [06-Aug-2018]]</td>\n      <td>2018</td>\n      <td>[[24-Jun-2018], [06-Aug-2018]]</td>\n      <td>[Porcine epidemic diarrhea virus, Porcine epid...</td>\n      <td>Porcine epidemic diarrhea virus</td>\n    </tr>\n    <tr>\n      <th>4</th>\n      <td>4</td>\n      <td>4</td>\n      <td>Seq-entry ::= set {\\n  class pop-set,\\n  descr...</td>\n      <td>[[], [], [24-Jun-2018], [], [], [], [], [], []...</td>\n      <td>[[24-Jun-2018], [06-Aug-2018]]</td>\n      <td>2018</td>\n      <td>[[24-Jun-2018], [06-Aug-2018]]</td>\n      <td>[Porcine epidemic diarrhea virus, Porcine epid...</td>\n      <td>Porcine epidemic diarrhea virus</td>\n    </tr>\n    <tr>\n      <th>...</th>\n      <td>...</td>\n      <td>...</td>\n      <td>...</td>\n      <td>...</td>\n      <td>...</td>\n      <td>...</td>\n      <td>...</td>\n      <td>...</td>\n      <td>...</td>\n    </tr>\n    <tr>\n      <th>37173</th>\n      <td>994</td>\n      <td>994</td>\n      <td>Seq-entry ::= set {\\n  class nuc-prot,\\n  desc...</td>\n      <td>[[1986], [], [], [], [], [], [], [], [], [], [...</td>\n      <td>[soloanno]</td>\n      <td>1986</td>\n      <td>[[1986]]</td>\n      <td>[Infectious bronchitis virus]</td>\n      <td>Infectious bronchitis virus</td>\n    </tr>\n    <tr>\n      <th>37174</th>\n      <td>995</td>\n      <td>995</td>\n      <td>Seq-entry ::= set {\\n  class nuc-prot,\\n  desc...</td>\n      <td>[[06-Dec-2004], [], [], [], [], [], [], [], []...</td>\n      <td>[[06-Dec-2004]]</td>\n      <td>2004</td>\n      <td>[[06-Dec-2004]]</td>\n      <td>[Infectious bronchitis virus]</td>\n      <td>Infectious bronchitis virus</td>\n    </tr>\n    <tr>\n      <th>37175</th>\n      <td>996</td>\n      <td>996</td>\n      <td>Seq-entry ::= set {\\n  class nuc-prot,\\n  desc...</td>\n      <td>[[07-Nov-2003], [], [], [], [], [], [], [], []...</td>\n      <td>[[07-Nov-2003]]</td>\n      <td>2003</td>\n      <td>[[07-Nov-2003]]</td>\n      <td>[Infectious bronchitis virus]</td>\n      <td>Infectious bronchitis virus</td>\n    </tr>\n    <tr>\n      <th>37176</th>\n      <td>997</td>\n      <td>997</td>\n      <td>Seq-entry ::= set {\\n  class nuc-prot,\\n  desc...</td>\n      <td>[[31-Oct-2003], [], [], [], [], [], [], [], []...</td>\n      <td>[[31-Oct-2003]]</td>\n      <td>2003</td>\n      <td>[[31-Oct-2003]]</td>\n      <td>[Infectious bronchitis virus]</td>\n      <td>Infectious bronchitis virus</td>\n    </tr>\n    <tr>\n      <th>37177</th>\n      <td>998</td>\n      <td>998</td>\n      <td>Seq-entry ::= set {\\n  class nuc-prot,\\n  desc...</td>\n      <td>[[31-Oct-2003], [], [], [], [], [], [], [], []...</td>\n      <td>[[31-Oct-2003]]</td>\n      <td>2003</td>\n      <td>[[31-Oct-2003]]</td>\n      <td>[Infectious bronchitis virus]</td>\n      <td>Infectious bronchitis virus</td>\n    </tr>\n  </tbody>\n</table>\n<p>37178 rows × 9 columns</p>\n</div>"
     },
     "metadata": {},
     "execution_count": 60
    }
   ],
   "source": [
    "df"
   ]
  },
  {
   "cell_type": "code",
   "execution_count": 109,
   "metadata": {},
   "outputs": [],
   "source": [
    "clean_df = df\n",
    "clean_df = clean_df.drop(['total_string'], axis=1)\n",
    "clean_df = clean_df.drop(['full_date'], axis=1)\n",
    "clean_df = clean_df.drop(['date'], axis=1)\n",
    "clean_df = clean_df.drop(['clean_date'], axis=1)\n",
    "clean_df = clean_df.drop(['taxname'], axis=1)\n",
    "clean_df = clean_df.drop(['first_country'], axis=1)\n",
    "clean_df = clean_df.drop(['affiliations'], axis=1)\n",
    "clean_df = clean_df.drop(['country'], axis=1)\n",
    "clean_df = clean_df.drop(['country_clean'], axis=1)\n",
    "\n",
    "clean_df = clean_df.drop(['last_country'], axis=1)\n",
    "clean_df = clean_df.drop(['Countries_FL'], axis=1)\n",
    "clean_df = clean_df.drop(['submission_country'], axis=1)\n",
    "\n",
    "\n",
    "no_na = clean_df[~clean_df.first_taxname.str.contains(\"no_taxname\")]\n",
    "no_na = clean_df[~clean_df.first_date.str.contains(\"no_data\")]\n",
    "\n",
    "no_na.to_excel(\"vicini_clean_countries_clean.xlsx\",sheet_name='foglio1')"
   ]
  },
  {
   "cell_type": "code",
   "execution_count": 85,
   "metadata": {},
   "outputs": [
    {
     "output_type": "execute_result",
     "data": {
      "text/plain": [
       "       Unnamed: 0  Unnamed: 0.1 first_date                    first_taxname  \\\n",
       "0               0             0       2018               Alphacoronavirus 1   \n",
       "1               1             1       2018               Alphacoronavirus 1   \n",
       "2               2             2       2018               Alphacoronavirus 1   \n",
       "3               3             3       2018  Porcine epidemic diarrhea virus   \n",
       "4               4             4       2018  Porcine epidemic diarrhea virus   \n",
       "...           ...           ...        ...                              ...   \n",
       "37173         994           994       1986      Infectious bronchitis virus   \n",
       "37174         995           995       2004      Infectious bronchitis virus   \n",
       "37175         996           996       2003      Infectious bronchitis virus   \n",
       "37176         997           997       2003      Infectious bronchitis virus   \n",
       "37177         998           998       2003      Infectious bronchitis virus   \n",
       "\n",
       "                                            affiliations        country  \\\n",
       "0      [\\n              affil \"University of Sao Paul...       [Brasil]   \n",
       "1      [\\n              affil \"University of Sao Paul...       [Brasil]   \n",
       "2      [\\n              affil \"University of Sao Paul...       [Brasil]   \n",
       "3      [\\n              affil \"Hebei Normal Universit...        [China]   \n",
       "4      [\\n              affil \"Hebei Normal Universit...        [China]   \n",
       "...                                                  ...            ...   \n",
       "37173  [\\n              affil \"National Veterinary Re...  [South Korea]   \n",
       "37174  [\\n              affil \"Konkuk University\",\\n ...  [South Korea]   \n",
       "37175  [\\n              affil \"Konkuk University\",\\n ...  [South Korea]   \n",
       "37176  [\\n              affil \"Konkuk University\",\\n ...  [South Korea]   \n",
       "37177  [\\n              affil \"Konkuk University\",\\n ...  [South Korea]   \n",
       "\n",
       "       country_clean first_country last_country                Countries_FL  \n",
       "0           [Brasil]        Brasil       Brasil            [Brasil, Brasil]  \n",
       "1           [Brasil]        Brasil       Brasil            [Brasil, Brasil]  \n",
       "2           [Brasil]        Brasil       Brasil            [Brasil, Brasil]  \n",
       "3            [China]         China        China              [China, China]  \n",
       "4            [China]         China        China              [China, China]  \n",
       "...              ...           ...          ...                         ...  \n",
       "37173  [South Korea]   South Korea  South Korea  [South Korea, South Korea]  \n",
       "37174  [South Korea]   South Korea  South Korea  [South Korea, South Korea]  \n",
       "37175  [South Korea]   South Korea  South Korea  [South Korea, South Korea]  \n",
       "37176  [South Korea]   South Korea  South Korea  [South Korea, South Korea]  \n",
       "37177  [South Korea]   South Korea  South Korea  [South Korea, South Korea]  \n",
       "\n",
       "[37178 rows x 10 columns]"
      ],
      "text/html": "<div>\n<style scoped>\n    .dataframe tbody tr th:only-of-type {\n        vertical-align: middle;\n    }\n\n    .dataframe tbody tr th {\n        vertical-align: top;\n    }\n\n    .dataframe thead th {\n        text-align: right;\n    }\n</style>\n<table border=\"1\" class=\"dataframe\">\n  <thead>\n    <tr style=\"text-align: right;\">\n      <th></th>\n      <th>Unnamed: 0</th>\n      <th>Unnamed: 0.1</th>\n      <th>first_date</th>\n      <th>first_taxname</th>\n      <th>affiliations</th>\n      <th>country</th>\n      <th>country_clean</th>\n      <th>first_country</th>\n      <th>last_country</th>\n      <th>Countries_FL</th>\n    </tr>\n  </thead>\n  <tbody>\n    <tr>\n      <th>0</th>\n      <td>0</td>\n      <td>0</td>\n      <td>2018</td>\n      <td>Alphacoronavirus 1</td>\n      <td>[\\n              affil \"University of Sao Paul...</td>\n      <td>[Brasil]</td>\n      <td>[Brasil]</td>\n      <td>Brasil</td>\n      <td>Brasil</td>\n      <td>[Brasil, Brasil]</td>\n    </tr>\n    <tr>\n      <th>1</th>\n      <td>1</td>\n      <td>1</td>\n      <td>2018</td>\n      <td>Alphacoronavirus 1</td>\n      <td>[\\n              affil \"University of Sao Paul...</td>\n      <td>[Brasil]</td>\n      <td>[Brasil]</td>\n      <td>Brasil</td>\n      <td>Brasil</td>\n      <td>[Brasil, Brasil]</td>\n    </tr>\n    <tr>\n      <th>2</th>\n      <td>2</td>\n      <td>2</td>\n      <td>2018</td>\n      <td>Alphacoronavirus 1</td>\n      <td>[\\n              affil \"University of Sao Paul...</td>\n      <td>[Brasil]</td>\n      <td>[Brasil]</td>\n      <td>Brasil</td>\n      <td>Brasil</td>\n      <td>[Brasil, Brasil]</td>\n    </tr>\n    <tr>\n      <th>3</th>\n      <td>3</td>\n      <td>3</td>\n      <td>2018</td>\n      <td>Porcine epidemic diarrhea virus</td>\n      <td>[\\n              affil \"Hebei Normal Universit...</td>\n      <td>[China]</td>\n      <td>[China]</td>\n      <td>China</td>\n      <td>China</td>\n      <td>[China, China]</td>\n    </tr>\n    <tr>\n      <th>4</th>\n      <td>4</td>\n      <td>4</td>\n      <td>2018</td>\n      <td>Porcine epidemic diarrhea virus</td>\n      <td>[\\n              affil \"Hebei Normal Universit...</td>\n      <td>[China]</td>\n      <td>[China]</td>\n      <td>China</td>\n      <td>China</td>\n      <td>[China, China]</td>\n    </tr>\n    <tr>\n      <th>...</th>\n      <td>...</td>\n      <td>...</td>\n      <td>...</td>\n      <td>...</td>\n      <td>...</td>\n      <td>...</td>\n      <td>...</td>\n      <td>...</td>\n      <td>...</td>\n      <td>...</td>\n    </tr>\n    <tr>\n      <th>37173</th>\n      <td>994</td>\n      <td>994</td>\n      <td>1986</td>\n      <td>Infectious bronchitis virus</td>\n      <td>[\\n              affil \"National Veterinary Re...</td>\n      <td>[South Korea]</td>\n      <td>[South Korea]</td>\n      <td>South Korea</td>\n      <td>South Korea</td>\n      <td>[South Korea, South Korea]</td>\n    </tr>\n    <tr>\n      <th>37174</th>\n      <td>995</td>\n      <td>995</td>\n      <td>2004</td>\n      <td>Infectious bronchitis virus</td>\n      <td>[\\n              affil \"Konkuk University\",\\n ...</td>\n      <td>[South Korea]</td>\n      <td>[South Korea]</td>\n      <td>South Korea</td>\n      <td>South Korea</td>\n      <td>[South Korea, South Korea]</td>\n    </tr>\n    <tr>\n      <th>37175</th>\n      <td>996</td>\n      <td>996</td>\n      <td>2003</td>\n      <td>Infectious bronchitis virus</td>\n      <td>[\\n              affil \"Konkuk University\",\\n ...</td>\n      <td>[South Korea]</td>\n      <td>[South Korea]</td>\n      <td>South Korea</td>\n      <td>South Korea</td>\n      <td>[South Korea, South Korea]</td>\n    </tr>\n    <tr>\n      <th>37176</th>\n      <td>997</td>\n      <td>997</td>\n      <td>2003</td>\n      <td>Infectious bronchitis virus</td>\n      <td>[\\n              affil \"Konkuk University\",\\n ...</td>\n      <td>[South Korea]</td>\n      <td>[South Korea]</td>\n      <td>South Korea</td>\n      <td>South Korea</td>\n      <td>[South Korea, South Korea]</td>\n    </tr>\n    <tr>\n      <th>37177</th>\n      <td>998</td>\n      <td>998</td>\n      <td>2003</td>\n      <td>Infectious bronchitis virus</td>\n      <td>[\\n              affil \"Konkuk University\",\\n ...</td>\n      <td>[South Korea]</td>\n      <td>[South Korea]</td>\n      <td>South Korea</td>\n      <td>South Korea</td>\n      <td>[South Korea, South Korea]</td>\n    </tr>\n  </tbody>\n</table>\n<p>37178 rows × 10 columns</p>\n</div>"
     },
     "metadata": {},
     "execution_count": 85
    }
   ],
   "source": [
    "clean_df"
   ]
  },
  {
   "cell_type": "code",
   "execution_count": 28,
   "metadata": {},
   "outputs": [],
   "source": [
    "def extract_sub_country(total_string):\n",
    "    aff_list = []\n",
    "    aff = re.findall(\"(?s)subtype country,(.*?)}\", total_string)\n",
    "    for el in aff:\n",
    "        aff_list.append(el)\n",
    "\n",
    "    return aff_list\n",
    "\n",
    "\n",
    "def clean_sub_country(country):\n",
    "        clean = re.findall(\"(?s)name \\\"(.*?)\\\"\", country)   \n",
    "        if clean:\n",
    "            splitter = clean[0].split(\":\")   \n",
    "            return splitter[0]\n",
    "        else:\n",
    "            return \"no_country\"\n",
    "\n",
    "def fill_country(row):\n",
    "        if row['submission_country_clean'] == \"no_country\":\n",
    "            return row['first_country']\n",
    "        else:\n",
    "            return row['submission_country_clean']"
   ]
  },
  {
   "cell_type": "code",
   "execution_count": 33,
   "metadata": {},
   "outputs": [
    {
     "output_type": "execute_result",
     "data": {
      "text/plain": [
       "0           Colombia\n",
       "1           Colombia\n",
       "2           Colombia\n",
       "3              China\n",
       "4              China\n",
       "            ...     \n",
       "37173    South Korea\n",
       "37174    South Korea\n",
       "37175    South Korea\n",
       "37176    South Korea\n",
       "37177    South Korea\n",
       "Name: submission_country_clean, Length: 37178, dtype: object"
      ]
     },
     "metadata": {},
     "execution_count": 33
    }
   ],
   "source": [
    "df['submission_country'] = df.apply(lambda row: extract_sub_country(row['total_string']),axis=1)\n",
    "df['submission_country_clean'] = df.apply(lambda row: clean_sub_country(extract_first(row['submission_country'])),axis=1)\n",
    "df['submission_country_clean'] = df.apply(lambda row: fill_country(row),axis=1)\n",
    "\n",
    "df['submission_country_clean']"
   ]
  },
  {
   "cell_type": "code",
   "execution_count": 34,
   "metadata": {},
   "outputs": [
    {
     "output_type": "execute_result",
     "data": {
      "text/plain": [
       "China                         9911\n",
       "USA                           2915\n",
       "Brazil                        1352\n",
       "Italy                         1282\n",
       "Japan                         1223\n",
       "                              ... \n",
       "a.ciesielska@nencki.edu.pl       1\n",
       "Azerbaijan                       1\n",
       "America                          1\n",
       "Novavax Inc                      1\n",
       "qiongyuhao@cdrewu.edu            1\n",
       "Name: submission_country_clean, Length: 331, dtype: int64"
      ]
     },
     "metadata": {},
     "execution_count": 34
    }
   ],
   "source": [
    "df['submission_country_clean'].value_ counts()"
   ]
  },
  {
   "cell_type": "code",
   "execution_count": 105,
   "metadata": {},
   "outputs": [],
   "source": [
    "df.loc[(df.submission_country_clean == 'JP'),'submission_country_clean']='Japan'\n"
   ]
  },
  {
   "cell_type": "code",
   "execution_count": 90,
   "metadata": {},
   "outputs": [],
   "source": [
    "clean_df = df\n",
    "clean_df = clean_df.drop(['total_string'], axis=1)\n",
    "\n",
    "clean_df.to_csv(\"subcountry.csv\",mode='a')"
   ]
  },
  {
   "cell_type": "code",
   "execution_count": 3,
   "metadata": {},
   "outputs": [],
   "source": [
    "import pandas as pd\n",
    "df = pd.read_excel('D:/parenti_veri/vicini_clean_countries_clean.xlsx')\n"
   ]
  },
  {
   "cell_type": "code",
   "execution_count": 4,
   "metadata": {},
   "outputs": [
    {
     "output_type": "execute_result",
     "data": {
      "text/plain": [
       "       Unnamed: 0  Unnamed: 0.1  Unnamed: 0.1.1 first_date  \\\n",
       "0               0             0               0       2018   \n",
       "1               1             1               1       2018   \n",
       "2               2             2               2       2018   \n",
       "3               3             3               3       2018   \n",
       "4               4             4               4       2018   \n",
       "...           ...           ...             ...        ...   \n",
       "24086       37173           994             994       1986   \n",
       "24087       37174           995             995       2004   \n",
       "24088       37175           996             996       2003   \n",
       "24089       37176           997             997       2003   \n",
       "24090       37177           998             998       2003   \n",
       "\n",
       "                         first_taxname submission_country_clean  \n",
       "0                   Alphacoronavirus 1                 Colombia  \n",
       "1                   Alphacoronavirus 1                 Colombia  \n",
       "2                   Alphacoronavirus 1                 Colombia  \n",
       "3      Porcine epidemic diarrhea virus                    China  \n",
       "4      Porcine epidemic diarrhea virus                    China  \n",
       "...                                ...                      ...  \n",
       "24086      Infectious bronchitis virus              South Korea  \n",
       "24087      Infectious bronchitis virus              South Korea  \n",
       "24088      Infectious bronchitis virus              South Korea  \n",
       "24089      Infectious bronchitis virus              South Korea  \n",
       "24090      Infectious bronchitis virus              South Korea  \n",
       "\n",
       "[24091 rows x 6 columns]"
      ],
      "text/html": "<div>\n<style scoped>\n    .dataframe tbody tr th:only-of-type {\n        vertical-align: middle;\n    }\n\n    .dataframe tbody tr th {\n        vertical-align: top;\n    }\n\n    .dataframe thead th {\n        text-align: right;\n    }\n</style>\n<table border=\"1\" class=\"dataframe\">\n  <thead>\n    <tr style=\"text-align: right;\">\n      <th></th>\n      <th>Unnamed: 0</th>\n      <th>Unnamed: 0.1</th>\n      <th>Unnamed: 0.1.1</th>\n      <th>first_date</th>\n      <th>first_taxname</th>\n      <th>submission_country_clean</th>\n    </tr>\n  </thead>\n  <tbody>\n    <tr>\n      <th>0</th>\n      <td>0</td>\n      <td>0</td>\n      <td>0</td>\n      <td>2018</td>\n      <td>Alphacoronavirus 1</td>\n      <td>Colombia</td>\n    </tr>\n    <tr>\n      <th>1</th>\n      <td>1</td>\n      <td>1</td>\n      <td>1</td>\n      <td>2018</td>\n      <td>Alphacoronavirus 1</td>\n      <td>Colombia</td>\n    </tr>\n    <tr>\n      <th>2</th>\n      <td>2</td>\n      <td>2</td>\n      <td>2</td>\n      <td>2018</td>\n      <td>Alphacoronavirus 1</td>\n      <td>Colombia</td>\n    </tr>\n    <tr>\n      <th>3</th>\n      <td>3</td>\n      <td>3</td>\n      <td>3</td>\n      <td>2018</td>\n      <td>Porcine epidemic diarrhea virus</td>\n      <td>China</td>\n    </tr>\n    <tr>\n      <th>4</th>\n      <td>4</td>\n      <td>4</td>\n      <td>4</td>\n      <td>2018</td>\n      <td>Porcine epidemic diarrhea virus</td>\n      <td>China</td>\n    </tr>\n    <tr>\n      <th>...</th>\n      <td>...</td>\n      <td>...</td>\n      <td>...</td>\n      <td>...</td>\n      <td>...</td>\n      <td>...</td>\n    </tr>\n    <tr>\n      <th>24086</th>\n      <td>37173</td>\n      <td>994</td>\n      <td>994</td>\n      <td>1986</td>\n      <td>Infectious bronchitis virus</td>\n      <td>South Korea</td>\n    </tr>\n    <tr>\n      <th>24087</th>\n      <td>37174</td>\n      <td>995</td>\n      <td>995</td>\n      <td>2004</td>\n      <td>Infectious bronchitis virus</td>\n      <td>South Korea</td>\n    </tr>\n    <tr>\n      <th>24088</th>\n      <td>37175</td>\n      <td>996</td>\n      <td>996</td>\n      <td>2003</td>\n      <td>Infectious bronchitis virus</td>\n      <td>South Korea</td>\n    </tr>\n    <tr>\n      <th>24089</th>\n      <td>37176</td>\n      <td>997</td>\n      <td>997</td>\n      <td>2003</td>\n      <td>Infectious bronchitis virus</td>\n      <td>South Korea</td>\n    </tr>\n    <tr>\n      <th>24090</th>\n      <td>37177</td>\n      <td>998</td>\n      <td>998</td>\n      <td>2003</td>\n      <td>Infectious bronchitis virus</td>\n      <td>South Korea</td>\n    </tr>\n  </tbody>\n</table>\n<p>24091 rows × 6 columns</p>\n</div>"
     },
     "metadata": {},
     "execution_count": 4
    }
   ],
   "source": [
    " df"
   ]
  },
  {
   "cell_type": "code",
   "execution_count": 10,
   "metadata": {},
   "outputs": [],
   "source": [
    "def alphacorona(tax):\n",
    "    alpha = re.search(\"(?s)Alphacoronavirus (.*?)\", tax)\n",
    "    if alpha:\n",
    "        return \"Alphacoronavirus\"\n",
    "    else:\n",
    "        return tax   "
   ]
  },
  {
   "cell_type": "code",
   "execution_count": 11,
   "metadata": {},
   "outputs": [
    {
     "output_type": "execute_result",
     "data": {
      "text/plain": [
       "0                       Alphacoronavirus\n",
       "1                       Alphacoronavirus\n",
       "2                       Alphacoronavirus\n",
       "3        Porcine epidemic diarrhea virus\n",
       "4        Porcine epidemic diarrhea virus\n",
       "                      ...               \n",
       "24086        Infectious bronchitis virus\n",
       "24087        Infectious bronchitis virus\n",
       "24088        Infectious bronchitis virus\n",
       "24089        Infectious bronchitis virus\n",
       "24090        Infectious bronchitis virus\n",
       "Name: first_taxname, Length: 24091, dtype: object"
      ]
     },
     "metadata": {},
     "execution_count": 11
    }
   ],
   "source": [
    "import re\n",
    "df['first_taxname'] = df.apply(lambda row: alphacorona(row['first_taxname']),axis=1)\n",
    "df['first_taxname']"
   ]
  },
  {
   "cell_type": "code",
   "execution_count": 24,
   "metadata": {},
   "outputs": [
    {
     "output_type": "execute_result",
     "data": {
      "text/plain": [
       "Infectious bronchitis virus                             6439\n",
       "Porcine epidemic diarrhea virus                         4690\n",
       "Avian coronavirus                                       1259\n",
       "Human coronavirus OC43                                  1220\n",
       "Middle East respiratory syndrome-related coronavirus    1189\n",
       "                                                        ... \n",
       "Homo sapiens                                               1\n",
       "Bat coronavirus NM98-62/GER/2008                           1\n",
       "Bat coronavirus R.aur/Australia/CoV000/2006                1\n",
       "Human coronavirus NO/0193/05                               1\n",
       "Sambar deer coronavirus US/OH-WD388/1994                   1\n",
       "Name: first_taxname, Length: 587, dtype: int64"
      ]
     },
     "metadata": {},
     "execution_count": 24
    }
   ],
   "source": [
    "df['first_taxname'].value_counts()"
   ]
  },
  {
   "cell_type": "code",
   "execution_count": 15,
   "metadata": {},
   "outputs": [],
   "source": [
    "def kenyabat(tax):\n",
    "    kenya = re.search(\"(?s)Kenya bat coronavirus (.*?)\", tax)\n",
    "    if kenya:\n",
    "        return \"Kenya bat coronavirus\"\n",
    "    else:\n",
    "        return tax   "
   ]
  },
  {
   "cell_type": "code",
   "execution_count": 16,
   "metadata": {},
   "outputs": [
    {
     "output_type": "execute_result",
     "data": {
      "text/plain": [
       "0                       Alphacoronavirus\n",
       "1                       Alphacoronavirus\n",
       "2                       Alphacoronavirus\n",
       "3        Porcine epidemic diarrhea virus\n",
       "4        Porcine epidemic diarrhea virus\n",
       "                      ...               \n",
       "24086        Infectious bronchitis virus\n",
       "24087        Infectious bronchitis virus\n",
       "24088        Infectious bronchitis virus\n",
       "24089        Infectious bronchitis virus\n",
       "24090        Infectious bronchitis virus\n",
       "Name: first_taxname, Length: 24091, dtype: object"
      ]
     },
     "metadata": {},
     "execution_count": 16
    }
   ],
   "source": [
    "df['first_taxname'] = df.apply(lambda row: kenyabat(row['first_taxname']),axis=1)\n",
    "df['first_taxname']"
   ]
  },
  {
   "cell_type": "code",
   "execution_count": 19,
   "metadata": {},
   "outputs": [],
   "source": [
    "def feline(tax):\n",
    "    kenya = re.search(\"(?s)Feline coronavirus(.*?)\", tax)\n",
    "    if kenya:\n",
    "        return \"Feline coronavirus\"\n",
    "    else:\n",
    "        return tax   "
   ]
  },
  {
   "cell_type": "code",
   "execution_count": 20,
   "metadata": {},
   "outputs": [
    {
     "output_type": "execute_result",
     "data": {
      "text/plain": [
       "0                       Alphacoronavirus\n",
       "1                       Alphacoronavirus\n",
       "2                       Alphacoronavirus\n",
       "3        Porcine epidemic diarrhea virus\n",
       "4        Porcine epidemic diarrhea virus\n",
       "                      ...               \n",
       "24086        Infectious bronchitis virus\n",
       "24087        Infectious bronchitis virus\n",
       "24088        Infectious bronchitis virus\n",
       "24089        Infectious bronchitis virus\n",
       "24090        Infectious bronchitis virus\n",
       "Name: first_taxname, Length: 24091, dtype: object"
      ]
     },
     "metadata": {},
     "execution_count": 20
    }
   ],
   "source": [
    "df['first_taxname'] = df.apply(lambda row: feline(row['first_taxname']),axis=1)\n",
    "df['first_taxname']"
   ]
  },
  {
   "cell_type": "code",
   "execution_count": 22,
   "metadata": {},
   "outputs": [],
   "source": [
    "def rat(tax):\n",
    "    kenya = re.search(\"(?s)Coronavirus RCoV(.*?)\", tax)\n",
    "    if kenya:\n",
    "        return \"Rat coronavirus\"\n",
    "    else:\n",
    "        return tax   "
   ]
  },
  {
   "cell_type": "code",
   "execution_count": 23,
   "metadata": {},
   "outputs": [
    {
     "output_type": "execute_result",
     "data": {
      "text/plain": [
       "0                       Alphacoronavirus\n",
       "1                       Alphacoronavirus\n",
       "2                       Alphacoronavirus\n",
       "3        Porcine epidemic diarrhea virus\n",
       "4        Porcine epidemic diarrhea virus\n",
       "                      ...               \n",
       "24086        Infectious bronchitis virus\n",
       "24087        Infectious bronchitis virus\n",
       "24088        Infectious bronchitis virus\n",
       "24089        Infectious bronchitis virus\n",
       "24090        Infectious bronchitis virus\n",
       "Name: first_taxname, Length: 24091, dtype: object"
      ]
     },
     "metadata": {},
     "execution_count": 23
    }
   ],
   "source": [
    "df['first_taxname'] = df.apply(lambda row: rat(row['first_taxname']),axis=1)\n",
    "df['first_taxname']"
   ]
  },
  {
   "cell_type": "code",
   "execution_count": 25,
   "metadata": {},
   "outputs": [],
   "source": [
    "df.to_excel(\"vicini_raggruppati.xlsx\",sheet_name='foglio1')"
   ]
  },
  {
   "cell_type": "code",
   "execution_count": null,
   "metadata": {},
   "outputs": [],
   "source": []
  }
 ]
}