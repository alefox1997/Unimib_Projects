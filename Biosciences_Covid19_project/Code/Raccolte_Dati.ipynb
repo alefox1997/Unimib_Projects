{
 "cells": [
  {
   "cell_type": "markdown",
   "metadata": {
    "id": "ksZKum5nGqDS"
   },
   "source": [
    "# TASSONOMIA SARS CoV-2\n"
   ]
  },
  {
   "cell_type": "code",
   "execution_count": 2,
   "metadata": {
    "colab": {
     "base_uri": "https://localhost:8080/"
    },
    "id": "csP2bK1FGKGG",
    "outputId": "d81b1263-fea5-49c5-e91f-ab8deb0ca454"
   },
   "outputs": [
    {
     "name": "stdout",
     "output_type": "stream",
     "text": [
      "<http.client.HTTPResponse object at 0x000001F97D74C6D0> \n",
      "\n",
      "Keys are: dict_keys(['TaxId', 'ScientificName', 'OtherNames', 'ParentTaxId', 'Rank', 'Division', 'GeneticCode', 'MitoGeneticCode', 'Lineage', 'LineageEx', 'CreateDate', 'UpdateDate', 'PubDate']) \n",
      "\n",
      "Lineage is: Viruses; Riboviria; Orthornavirae; Pisuviricota; Pisoniviricetes; Nidovirales; Cornidovirineae; Coronaviridae; Orthocoronavirinae; Betacoronavirus; Sarbecovirus; Severe acute respiratory syndrome-related coronavirus \n",
      "\n",
      "LineageEx is: [{'TaxId': '10239', 'ScientificName': 'Viruses', 'Rank': 'superkingdom'}, {'TaxId': '2559587', 'ScientificName': 'Riboviria', 'Rank': 'clade'}, {'TaxId': '2732396', 'ScientificName': 'Orthornavirae', 'Rank': 'kingdom'}, {'TaxId': '2732408', 'ScientificName': 'Pisuviricota', 'Rank': 'phylum'}, {'TaxId': '2732506', 'ScientificName': 'Pisoniviricetes', 'Rank': 'class'}, {'TaxId': '76804', 'ScientificName': 'Nidovirales', 'Rank': 'order'}, {'TaxId': '2499399', 'ScientificName': 'Cornidovirineae', 'Rank': 'suborder'}, {'TaxId': '11118', 'ScientificName': 'Coronaviridae', 'Rank': 'family'}, {'TaxId': '2501931', 'ScientificName': 'Orthocoronavirinae', 'Rank': 'subfamily'}, {'TaxId': '694002', 'ScientificName': 'Betacoronavirus', 'Rank': 'genus'}, {'TaxId': '2509511', 'ScientificName': 'Sarbecovirus', 'Rank': 'subgenus'}, {'TaxId': '694009', 'ScientificName': 'Severe acute respiratory syndrome-related coronavirus', 'Rank': 'species'}] \n",
      "\n",
      "Division: Viruses \n",
      "\n",
      "ScientificName: Severe acute respiratory syndrome coronavirus 2 \n",
      "\n",
      "OtherNames: {'Teleomorph': [], 'EquivalentName': ['2019-nCoV', 'COVID-19', 'COVID-19 virus', 'COVID19', 'HCoV-19', 'Human coronavirus 2019', 'SARS-2', 'SARS-CoV2', 'SARS2', 'Wuhan coronavirus'], 'GenbankSynonym': [], 'Name': [{'ClassCDE': 'misspelling', 'DispName': 'Wuhan seafood market pneumonia virus'}], 'Includes': [], 'GenbankAnamorph': [], 'Inpart': [], 'Acronym': [], 'Anamorph': [], 'CommonName': [], 'Misnomer': [], 'Synonym': [], 'Misspelling': [], 'GenbankAcronym': 'SARS-CoV-2'} \n",
      "\n",
      "ParentTaxId: 694009 \n",
      "\n"
     ]
    }
   ],
   "source": [
    "#!pip install biopython\n",
    "#!pip install entrezpy\n",
    "from Bio import Entrez\n",
    "import pandas as pd\n",
    "import numpy as np\n",
    "import os\n",
    "\n",
    "Entrez.email = \"a.fossati@campus.unimib.it\"\n",
    "data = Entrez.efetch(db='taxonomy', id='txid2697049', retmode='xml')\n",
    "record = Entrez.read(data)\n",
    "print(data , \"\\n\")\n",
    "print(\"Keys are:\",record[0].keys(), \"\\n\")\n",
    "print(\"Lineage is:\", record[0]['Lineage'], \"\\n\") # interrogazione chiavi del dizionario\n",
    "print(\"LineageEx is:\", record[0]['LineageEx'], \"\\n\") \n",
    "\n",
    "print(\"Division:\",record[0]['Division'], \"\\n\")\n",
    "print(\"ScientificName:\",record[0]['ScientificName'], \"\\n\")\n",
    "print(\"OtherNames:\",record[0]['OtherNames'], \"\\n\")\n",
    "print(\"ParentTaxId:\",record[0]['ParentTaxId'], \"\\n\")\n"
   ]
  },
  {
   "cell_type": "code",
   "execution_count": null,
   "metadata": {},
   "outputs": [],
   "source": []
  },
  {
   "cell_type": "code",
   "execution_count": null,
   "metadata": {},
   "outputs": [],
   "source": []
  },
  {
   "cell_type": "code",
   "execution_count": null,
   "metadata": {},
   "outputs": [],
   "source": []
  },
  {
   "cell_type": "code",
   "execution_count": null,
   "metadata": {},
   "outputs": [],
   "source": []
  },
  {
   "cell_type": "code",
   "execution_count": null,
   "metadata": {},
   "outputs": [],
   "source": []
  },
  {
   "cell_type": "code",
   "execution_count": null,
   "metadata": {},
   "outputs": [],
   "source": []
  },
  {
   "cell_type": "code",
   "execution_count": null,
   "metadata": {},
   "outputs": [],
   "source": []
  },
  {
   "cell_type": "code",
   "execution_count": null,
   "metadata": {},
   "outputs": [],
   "source": []
  },
  {
   "cell_type": "code",
   "execution_count": null,
   "metadata": {},
   "outputs": [],
   "source": []
  },
  {
   "cell_type": "code",
   "execution_count": null,
   "metadata": {},
   "outputs": [],
   "source": []
  },
  {
   "cell_type": "code",
   "execution_count": null,
   "metadata": {},
   "outputs": [],
   "source": []
  },
  {
   "cell_type": "code",
   "execution_count": null,
   "metadata": {},
   "outputs": [],
   "source": []
  },
  {
   "cell_type": "code",
   "execution_count": null,
   "metadata": {},
   "outputs": [],
   "source": []
  },
  {
   "cell_type": "code",
   "execution_count": null,
   "metadata": {},
   "outputs": [],
   "source": []
  },
  {
   "cell_type": "code",
   "execution_count": null,
   "metadata": {},
   "outputs": [],
   "source": []
  },
  {
   "cell_type": "code",
   "execution_count": null,
   "metadata": {},
   "outputs": [],
   "source": []
  },
  {
   "cell_type": "code",
   "execution_count": null,
   "metadata": {},
   "outputs": [],
   "source": []
  },
  {
   "cell_type": "code",
   "execution_count": null,
   "metadata": {},
   "outputs": [],
   "source": []
  },
  {
   "cell_type": "code",
   "execution_count": null,
   "metadata": {},
   "outputs": [],
   "source": []
  },
  {
   "cell_type": "code",
   "execution_count": null,
   "metadata": {},
   "outputs": [],
   "source": []
  },
  {
   "cell_type": "code",
   "execution_count": null,
   "metadata": {},
   "outputs": [],
   "source": []
  },
  {
   "cell_type": "code",
   "execution_count": null,
   "metadata": {},
   "outputs": [],
   "source": [
    "#LAVORO COVID CON AFFILIATION INFO"
   ]
  },
  {
   "cell_type": "code",
   "execution_count": null,
   "metadata": {},
   "outputs": [],
   "source": []
  },
  {
   "cell_type": "code",
   "execution_count": 1,
   "metadata": {},
   "outputs": [],
   "source": [
    "#!pip install biopython\n",
    "#!pip install entrezpy\n",
    "from Bio import Entrez\n",
    "import pandas as pd\n",
    "import numpy as np\n",
    "import os\n",
    "\n",
    "Entrez.email = \"l.pretini@campus.unimib.it\""
   ]
  },
  {
   "cell_type": "code",
   "execution_count": 37,
   "metadata": {},
   "outputs": [
    {
     "data": {
      "text/plain": [
       "77158"
      ]
     },
     "execution_count": 37,
     "metadata": {},
     "output_type": "execute_result"
    }
   ],
   "source": [
    "#txid2697049 = sars-cov-2\n",
    "search = Entrez.esearch(db=\"pubmed\", term='Sars-Cov 2', retmax=80000, mindate=2019/12/20) #\"txid2697049[Organism:exp]\"\n",
    "search2 = Entrez.read(search)\n",
    "covid_idlist=search2['IdList']\n",
    "#remove duplicates ids\n",
    "li_id_covid=list(dict.fromkeys(covid_idlist))\n",
    "len(li_id_covid)  #numero di pubblicazioni totali sul covid, che poi divranno essere studiate per paese\n"
   ]
  },
  {
   "cell_type": "code",
   "execution_count": 87,
   "metadata": {},
   "outputs": [
    {
     "data": {
      "text/plain": [
       "34932"
      ]
     },
     "execution_count": 87,
     "metadata": {},
     "output_type": "execute_result"
    }
   ],
   "source": [
    "from urllib.error import HTTPError\n",
    "import time\n",
    "country_cov=[]\n",
    "for ids in li_id_covid[42223:77157]:\n",
    "    listine=[]\n",
    "    try:\n",
    "      hInfo = Entrez.efetch(db=\"pubmed\", id = ids, retmode= 'xml') \n",
    "      ent= Entrez.read(hInfo)\n",
    "      affil_cov=ent['PubmedArticle'][0]['MedlineCitation']['Article']['AuthorList']\n",
    "      count=-1\n",
    "      for i in affil_cov:\n",
    "        count+=1\n",
    "        if len(affil_cov[count]['AffiliationInfo'])!=0:\n",
    "            listine.append(affil_cov[count]['AffiliationInfo'][0]['Affiliation'])\n",
    "      listine.append(count+1)\n",
    "      country_cov.append(listine)\n",
    "    except KeyError:\n",
    "      country_cov.append(['no_aff'])  \n",
    "    except IndexError:\n",
    "      country_cov.append(['no_aff'])\n",
    "    except TimeoutError:\n",
    "      time.sleep(800)\n",
    "    except HTTPError as e: \n",
    "      if e.code == 429:\n",
    "        time.sleep(1500)\n",
    "      if e.code == 400:\n",
    "        country_cov.append(['bad_request'])\n",
    "        time.sleep(100)\n",
    "    except ConnectionAbortedError:\n",
    "      time.sleep(800)\n",
    "len(country_cov)\n",
    "\n",
    "\n"
   ]
  },
  {
   "cell_type": "code",
   "execution_count": null,
   "metadata": {},
   "outputs": [],
   "source": []
  },
  {
   "cell_type": "code",
   "execution_count": 99,
   "metadata": {},
   "outputs": [
    {
     "data": {
      "text/html": [
       "<div>\n",
       "<style scoped>\n",
       "    .dataframe tbody tr th:only-of-type {\n",
       "        vertical-align: middle;\n",
       "    }\n",
       "\n",
       "    .dataframe tbody tr th {\n",
       "        vertical-align: top;\n",
       "    }\n",
       "\n",
       "    .dataframe thead th {\n",
       "        text-align: right;\n",
       "    }\n",
       "</style>\n",
       "<table border=\"1\" class=\"dataframe\">\n",
       "  <thead>\n",
       "    <tr style=\"text-align: right;\">\n",
       "      <th></th>\n",
       "      <th>id</th>\n",
       "      <th>Affiliations</th>\n",
       "    </tr>\n",
       "  </thead>\n",
       "  <tbody>\n",
       "    <tr>\n",
       "      <th>0</th>\n",
       "      <td>33906236</td>\n",
       "      <td>[Institute of Virology, Medical Faculty, Unive...</td>\n",
       "    </tr>\n",
       "    <tr>\n",
       "      <th>1</th>\n",
       "      <td>33906227</td>\n",
       "      <td>[Brigham and Women's Hospital, Harvard Medical...</td>\n",
       "    </tr>\n",
       "    <tr>\n",
       "      <th>2</th>\n",
       "      <td>33906143</td>\n",
       "      <td>[Servicio de Prevención y Control de Infeccion...</td>\n",
       "    </tr>\n",
       "    <tr>\n",
       "      <th>3</th>\n",
       "      <td>33906142</td>\n",
       "      <td>[Sección Fisiopatología Respiratoria y Laborat...</td>\n",
       "    </tr>\n",
       "    <tr>\n",
       "      <th>4</th>\n",
       "      <td>33906130</td>\n",
       "      <td>[Unidad Febril de Urgencias, Hospital de Infec...</td>\n",
       "    </tr>\n",
       "    <tr>\n",
       "      <th>...</th>\n",
       "      <td>...</td>\n",
       "      <td>...</td>\n",
       "    </tr>\n",
       "    <tr>\n",
       "      <th>77149</th>\n",
       "      <td>33665649</td>\n",
       "      <td>[Institute of Medical Virology, Justus Liebig ...</td>\n",
       "    </tr>\n",
       "    <tr>\n",
       "      <th>77150</th>\n",
       "      <td>32655062</td>\n",
       "      <td>[Department of Cell Biology, The Johns Hopkins...</td>\n",
       "    </tr>\n",
       "    <tr>\n",
       "      <th>77151</th>\n",
       "      <td>30918070</td>\n",
       "      <td>[2]</td>\n",
       "    </tr>\n",
       "    <tr>\n",
       "      <th>77152</th>\n",
       "      <td>30867314</td>\n",
       "      <td>[2]</td>\n",
       "    </tr>\n",
       "    <tr>\n",
       "      <th>77153</th>\n",
       "      <td>32564574</td>\n",
       "      <td>[The Capital Institute of Pediatrics, Beijing ...</td>\n",
       "    </tr>\n",
       "  </tbody>\n",
       "</table>\n",
       "<p>77154 rows × 2 columns</p>\n",
       "</div>"
      ],
      "text/plain": [
       "             id                                       Affiliations\n",
       "0      33906236  [Institute of Virology, Medical Faculty, Unive...\n",
       "1      33906227  [Brigham and Women's Hospital, Harvard Medical...\n",
       "2      33906143  [Servicio de Prevención y Control de Infeccion...\n",
       "3      33906142  [Sección Fisiopatología Respiratoria y Laborat...\n",
       "4      33906130  [Unidad Febril de Urgencias, Hospital de Infec...\n",
       "...         ...                                                ...\n",
       "77149  33665649  [Institute of Medical Virology, Justus Liebig ...\n",
       "77150  32655062  [Department of Cell Biology, The Johns Hopkins...\n",
       "77151  30918070                                                [2]\n",
       "77152  30867314                                                [2]\n",
       "77153  32564574  [The Capital Institute of Pediatrics, Beijing ...\n",
       "\n",
       "[77154 rows x 2 columns]"
      ]
     },
     "execution_count": 99,
     "metadata": {},
     "output_type": "execute_result"
    }
   ],
   "source": [
    "df_covid_aff=pd.DataFrame(list(zip(li_id_covid,country_cov)), columns=['id','Affiliations'])\n",
    "affil_covid_def=df_covid_aff.reset_index()\n",
    "affil_covid_def=affil_covid_def.drop('index',axis=1)\n",
    "affil_covid_def"
   ]
  },
  {
   "cell_type": "code",
   "execution_count": 100,
   "metadata": {},
   "outputs": [],
   "source": [
    "affil_covid_def.to_csv('covid_affiliations.csv') #export"
   ]
  },
  {
   "cell_type": "code",
   "execution_count": null,
   "metadata": {},
   "outputs": [],
   "source": []
  },
  {
   "cell_type": "code",
   "execution_count": null,
   "metadata": {},
   "outputs": [],
   "source": [
    "#seconda parte di raccolta riguarda abstract e data"
   ]
  },
  {
   "cell_type": "code",
   "execution_count": null,
   "metadata": {},
   "outputs": [],
   "source": [
    "#cattura abstract e data per covid"
   ]
  },
  {
   "cell_type": "code",
   "execution_count": 2,
   "metadata": {},
   "outputs": [
    {
     "data": {
      "text/plain": [
       "77154"
      ]
     },
     "execution_count": 2,
     "metadata": {},
     "output_type": "execute_result"
    }
   ],
   "source": [
    "cov=pd.read_csv(\"C:/Users/aless/OneDrive/Desktop/AleBicocca/Data Science/Anno 2/Lab Biosciences/Project/Dati_Covid/covid_affiliations.csv\",converters={'Affiliations': eval})\n",
    "li_id_covid=cov['id'].values.tolist()\n",
    "len(li_id_covid)"
   ]
  },
  {
   "cell_type": "code",
   "execution_count": 3,
   "metadata": {},
   "outputs": [
    {
     "name": "stdout",
     "output_type": "stream",
     "text": [
      "77154\n",
      "77154\n"
     ]
    }
   ],
   "source": [
    "from urllib.error import HTTPError\n",
    "import time\n",
    "\n",
    "abstr=[]\n",
    "date=[]\n",
    "\n",
    "for ids in li_id_covid:\n",
    "    i=0\n",
    "    \n",
    "    try:\n",
    "      hInfo = Entrez.efetch(db=\"pubmed\", id = ids, retmode= 'xml') \n",
    "      ent= Entrez.read(hInfo)\n",
    "    except TimeoutError:\n",
    "      time.sleep(800)\n",
    "    except HTTPError as e: \n",
    "      if e.code == 429:\n",
    "        time.sleep(1000)\n",
    "      if e.code == 400:\n",
    "        abstr.append(['bad_request'])\n",
    "        date.append(['bad_request'])\n",
    "        i+=1\n",
    "        time.sleep(100)\n",
    "    except ConnectionAbortedError:\n",
    "      time.sleep(800)\n",
    "    \n",
    "    if i==0: #variabile flag per bad request\n",
    "        try:\n",
    "          abstract= ent['PubmedArticle'][0]['MedlineCitation']['Article']['Abstract']['AbstractText'][0]\n",
    "          abstr.append(abstract)\n",
    "        except KeyError:\n",
    "          abstr.append(['no_abstr'])  \n",
    "        except IndexError:\n",
    "          abstr.append(['no_abstr'])\n",
    "        except TimeoutError:\n",
    "          time.sleep(800)\n",
    "        except HTTPError as e: \n",
    "          if e.code == 429:\n",
    "            time.sleep(1000)\n",
    "          if e.code == 400:\n",
    "            abstr.append(['bad_request'])\n",
    "            time.sleep(100)\n",
    "        except ConnectionAbortedError:\n",
    "          time.sleep(800)\n",
    "    \n",
    "    if i==0:\n",
    "        try:\n",
    "          data=ent['PubmedArticle'][0]['PubmedData']['History']\n",
    "          date.append(data)\n",
    "        except KeyError:\n",
    "          date.append(['no_date'])  \n",
    "        except IndexError:\n",
    "          date.append(['no_date'])\n",
    "        except TimeoutError:\n",
    "          time.sleep(800)\n",
    "        except HTTPError as e: \n",
    "          if e.code == 429:\n",
    "            time.sleep(1000)\n",
    "          if e.code == 400:\n",
    "            date.append(['bad_request'])\n",
    "            time.sleep(100)\n",
    "        except ConnectionAbortedError:\n",
    "          time.sleep(800)\n",
    "    \n",
    "print(len(abstr))\n",
    "print(len(date))\n"
   ]
  },
  {
   "cell_type": "code",
   "execution_count": 4,
   "metadata": {},
   "outputs": [],
   "source": [
    "cov['Abstract']=abstr\n",
    "cov['Date']=date\n",
    "cov=cov.drop('Unnamed: 0',axis=1)\n",
    "cov.to_csv('covid_completo.csv')"
   ]
  },
  {
   "cell_type": "code",
   "execution_count": 5,
   "metadata": {},
   "outputs": [
    {
     "data": {
      "text/html": [
       "<div>\n",
       "<style scoped>\n",
       "    .dataframe tbody tr th:only-of-type {\n",
       "        vertical-align: middle;\n",
       "    }\n",
       "\n",
       "    .dataframe tbody tr th {\n",
       "        vertical-align: top;\n",
       "    }\n",
       "\n",
       "    .dataframe thead th {\n",
       "        text-align: right;\n",
       "    }\n",
       "</style>\n",
       "<table border=\"1\" class=\"dataframe\">\n",
       "  <thead>\n",
       "    <tr style=\"text-align: right;\">\n",
       "      <th></th>\n",
       "      <th>id</th>\n",
       "      <th>Affiliations</th>\n",
       "      <th>Abstract</th>\n",
       "      <th>Date</th>\n",
       "    </tr>\n",
       "  </thead>\n",
       "  <tbody>\n",
       "    <tr>\n",
       "      <th>0</th>\n",
       "      <td>33906236</td>\n",
       "      <td>[Institute of Virology, Medical Faculty, Unive...</td>\n",
       "      <td>The SARS-CoV-2 pandemic has led to the develop...</td>\n",
       "      <td>[{'Year': '2021', 'Month': '03', 'Day': '03'},...</td>\n",
       "    </tr>\n",
       "    <tr>\n",
       "      <th>1</th>\n",
       "      <td>33906227</td>\n",
       "      <td>[Brigham and Women's Hospital, Harvard Medical...</td>\n",
       "      <td>Both SARS-CoV-2 reinfection and persistent inf...</td>\n",
       "      <td>[{'Year': '2021', 'Month': '02', 'Day': '26'},...</td>\n",
       "    </tr>\n",
       "    <tr>\n",
       "      <th>2</th>\n",
       "      <td>33906143</td>\n",
       "      <td>[Servicio de Prevención y Control de Infeccion...</td>\n",
       "      <td>The COVID-19 pandemic has had an impact on pub...</td>\n",
       "      <td>[{'Year': '2021', 'Month': '4', 'Day': '27', '...</td>\n",
       "    </tr>\n",
       "    <tr>\n",
       "      <th>3</th>\n",
       "      <td>33906142</td>\n",
       "      <td>[Sección Fisiopatología Respiratoria y Laborat...</td>\n",
       "      <td>The airborne spread is the main route of human...</td>\n",
       "      <td>[{'Year': '2021', 'Month': '4', 'Day': '27', '...</td>\n",
       "    </tr>\n",
       "    <tr>\n",
       "      <th>4</th>\n",
       "      <td>33906130</td>\n",
       "      <td>[Unidad Febril de Urgencias, Hospital de Infec...</td>\n",
       "      <td>Febrile Emergency Units were annexed to tertia...</td>\n",
       "      <td>[{'Year': '2021', 'Month': '4', 'Day': '27', '...</td>\n",
       "    </tr>\n",
       "    <tr>\n",
       "      <th>...</th>\n",
       "      <td>...</td>\n",
       "      <td>...</td>\n",
       "      <td>...</td>\n",
       "      <td>...</td>\n",
       "    </tr>\n",
       "    <tr>\n",
       "      <th>77149</th>\n",
       "      <td>33665649</td>\n",
       "      <td>[Institute of Medical Virology, Justus Liebig ...</td>\n",
       "      <td>Hospitals and rehabilitation centers around th...</td>\n",
       "      <td>[{'Year': '2021', 'Month': '3', 'Day': '5', 'H...</td>\n",
       "    </tr>\n",
       "    <tr>\n",
       "      <th>77150</th>\n",
       "      <td>32655062</td>\n",
       "      <td>[Department of Cell Biology, The Johns Hopkins...</td>\n",
       "      <td>[no_abstr]</td>\n",
       "      <td>[{'Year': '2020', 'Month': '7', 'Day': '14', '...</td>\n",
       "    </tr>\n",
       "    <tr>\n",
       "      <th>77151</th>\n",
       "      <td>30918070</td>\n",
       "      <td>[2]</td>\n",
       "      <td>Coronavirus nonstructural protein 8 (nsp8) has...</td>\n",
       "      <td>[{'Year': '2019', 'Month': '02', 'Day': '19'},...</td>\n",
       "    </tr>\n",
       "    <tr>\n",
       "      <th>77152</th>\n",
       "      <td>30867314</td>\n",
       "      <td>[2]</td>\n",
       "      <td>Coronaviruses (CoVs) assemble by budding into ...</td>\n",
       "      <td>[{'Year': '2019', 'Month': '01', 'Day': '03'},...</td>\n",
       "    </tr>\n",
       "    <tr>\n",
       "      <th>77153</th>\n",
       "      <td>32564574</td>\n",
       "      <td>[The Capital Institute of Pediatrics, Beijing ...</td>\n",
       "      <td>[no_abstr]</td>\n",
       "      <td>[{'Year': '2020', 'Month': '6', 'Day': '23', '...</td>\n",
       "    </tr>\n",
       "  </tbody>\n",
       "</table>\n",
       "<p>77154 rows × 4 columns</p>\n",
       "</div>"
      ],
      "text/plain": [
       "             id                                       Affiliations  \\\n",
       "0      33906236  [Institute of Virology, Medical Faculty, Unive...   \n",
       "1      33906227  [Brigham and Women's Hospital, Harvard Medical...   \n",
       "2      33906143  [Servicio de Prevención y Control de Infeccion...   \n",
       "3      33906142  [Sección Fisiopatología Respiratoria y Laborat...   \n",
       "4      33906130  [Unidad Febril de Urgencias, Hospital de Infec...   \n",
       "...         ...                                                ...   \n",
       "77149  33665649  [Institute of Medical Virology, Justus Liebig ...   \n",
       "77150  32655062  [Department of Cell Biology, The Johns Hopkins...   \n",
       "77151  30918070                                                [2]   \n",
       "77152  30867314                                                [2]   \n",
       "77153  32564574  [The Capital Institute of Pediatrics, Beijing ...   \n",
       "\n",
       "                                                Abstract  \\\n",
       "0      The SARS-CoV-2 pandemic has led to the develop...   \n",
       "1      Both SARS-CoV-2 reinfection and persistent inf...   \n",
       "2      The COVID-19 pandemic has had an impact on pub...   \n",
       "3      The airborne spread is the main route of human...   \n",
       "4      Febrile Emergency Units were annexed to tertia...   \n",
       "...                                                  ...   \n",
       "77149  Hospitals and rehabilitation centers around th...   \n",
       "77150                                         [no_abstr]   \n",
       "77151  Coronavirus nonstructural protein 8 (nsp8) has...   \n",
       "77152  Coronaviruses (CoVs) assemble by budding into ...   \n",
       "77153                                         [no_abstr]   \n",
       "\n",
       "                                                    Date  \n",
       "0      [{'Year': '2021', 'Month': '03', 'Day': '03'},...  \n",
       "1      [{'Year': '2021', 'Month': '02', 'Day': '26'},...  \n",
       "2      [{'Year': '2021', 'Month': '4', 'Day': '27', '...  \n",
       "3      [{'Year': '2021', 'Month': '4', 'Day': '27', '...  \n",
       "4      [{'Year': '2021', 'Month': '4', 'Day': '27', '...  \n",
       "...                                                  ...  \n",
       "77149  [{'Year': '2021', 'Month': '3', 'Day': '5', 'H...  \n",
       "77150  [{'Year': '2020', 'Month': '7', 'Day': '14', '...  \n",
       "77151  [{'Year': '2019', 'Month': '02', 'Day': '19'},...  \n",
       "77152  [{'Year': '2019', 'Month': '01', 'Day': '03'},...  \n",
       "77153  [{'Year': '2020', 'Month': '6', 'Day': '23', '...  \n",
       "\n",
       "[77154 rows x 4 columns]"
      ]
     },
     "execution_count": 5,
     "metadata": {},
     "output_type": "execute_result"
    }
   ],
   "source": [
    "cov"
   ]
  },
  {
   "cell_type": "code",
   "execution_count": null,
   "metadata": {},
   "outputs": [],
   "source": []
  },
  {
   "cell_type": "code",
   "execution_count": null,
   "metadata": {},
   "outputs": [],
   "source": []
  },
  {
   "cell_type": "code",
   "execution_count": 57,
   "metadata": {},
   "outputs": [
    {
     "data": {
      "text/plain": [
       "77154"
      ]
     },
     "execution_count": 57,
     "metadata": {},
     "output_type": "execute_result"
    }
   ],
   "source": [
    "ind=[]\n",
    "for index,row in cov.iterrows():\n",
    "    try:\n",
    "        if str(row['Date'][0]['Year']) != 2020 or str(row['Date'][0]['Year']) != 2021:\n",
    "            ind.append(index)\n",
    "    except KeyError:\n",
    "        ind.append(index)\n",
    "    except TypeError:\n",
    "        ind.append(index)\n",
    "len(ind)"
   ]
  },
  {
   "cell_type": "code",
   "execution_count": 53,
   "metadata": {},
   "outputs": [
    {
     "data": {
      "text/plain": [
       "str"
      ]
     },
     "execution_count": 53,
     "metadata": {},
     "output_type": "execute_result"
    }
   ],
   "source": [
    "type(str(cov['Date'][0][0]['Year']))"
   ]
  },
  {
   "cell_type": "code",
   "execution_count": 39,
   "metadata": {},
   "outputs": [
    {
     "data": {
      "text/plain": [
       "[DictElement({'Year': '2021', 'Month': '03', 'Day': '03'}, attributes={'PubStatus': 'received'}), DictElement({'Year': '2021', 'Month': '4', 'Day': '27', 'Hour': '20', 'Minute': '27'}, attributes={'PubStatus': 'entrez'}), DictElement({'Year': '2021', 'Month': '4', 'Day': '28', 'Hour': '6', 'Minute': '0'}, attributes={'PubStatus': 'pubmed'}), DictElement({'Year': '2021', 'Month': '4', 'Day': '28', 'Hour': '6', 'Minute': '0'}, attributes={'PubStatus': 'medline'})]"
      ]
     },
     "execution_count": 39,
     "metadata": {},
     "output_type": "execute_result"
    }
   ],
   "source": [
    "cov['Date'][0:77151][0]"
   ]
  },
  {
   "cell_type": "code",
   "execution_count": null,
   "metadata": {},
   "outputs": [],
   "source": []
  },
  {
   "cell_type": "code",
   "execution_count": null,
   "metadata": {},
   "outputs": [],
   "source": []
  },
  {
   "cell_type": "code",
   "execution_count": null,
   "metadata": {},
   "outputs": [],
   "source": []
  },
  {
   "cell_type": "code",
   "execution_count": null,
   "metadata": {},
   "outputs": [],
   "source": []
  },
  {
   "cell_type": "code",
   "execution_count": null,
   "metadata": {},
   "outputs": [],
   "source": []
  },
  {
   "cell_type": "code",
   "execution_count": null,
   "metadata": {},
   "outputs": [],
   "source": []
  },
  {
   "cell_type": "code",
   "execution_count": null,
   "metadata": {},
   "outputs": [],
   "source": []
  },
  {
   "cell_type": "code",
   "execution_count": null,
   "metadata": {},
   "outputs": [],
   "source": []
  },
  {
   "cell_type": "code",
   "execution_count": null,
   "metadata": {},
   "outputs": [],
   "source": []
  },
  {
   "cell_type": "code",
   "execution_count": null,
   "metadata": {},
   "outputs": [],
   "source": []
  },
  {
   "cell_type": "code",
   "execution_count": null,
   "metadata": {},
   "outputs": [],
   "source": [
    "#VICINI COVID RACCOLTA DATI PUBBLICAZIONI"
   ]
  },
  {
   "cell_type": "code",
   "execution_count": 1,
   "metadata": {},
   "outputs": [],
   "source": [
    "#!pip install biopython\n",
    "#!pip install entrezpy\n",
    "from Bio import Entrez\n",
    "import pandas as pd\n",
    "import numpy as np\n",
    "import os\n",
    "\n",
    "Entrez.email = \"l.pretini@campus.unimib.it\""
   ]
  },
  {
   "cell_type": "code",
   "execution_count": 2,
   "metadata": {},
   "outputs": [
    {
     "name": "stderr",
     "output_type": "stream",
     "text": [
      "NCBI database not present yet (first time used?)\n",
      "Downloading taxdump.tar.gz from NCBI FTP site (via HTTP)...\n",
      "Done. Parsing...\n"
     ]
    },
    {
     "name": "stdout",
     "output_type": "stream",
     "text": [
      "Loading node names...\n",
      "2324161 names loaded.\n",
      "245035 synonyms loaded.\n",
      "Loading nodes...\n",
      "2324161 nodes loaded.\n",
      "Linking nodes...\n",
      "Tree is loaded.\n",
      "Updating database: /.etetoolkit\\taxa.sqlite ...\n",
      " 2324000 generating entries...  generating entries... generating entries...  generating entries... generating entries...  generating entries... "
     ]
    },
    {
     "name": "stderr",
     "output_type": "stream",
     "text": [
      "Inserting synonyms:      10000 "
     ]
    },
    {
     "name": "stdout",
     "output_type": "stream",
     "text": [
      "\n",
      "Uploading to /.etetoolkit\\taxa.sqlite\n",
      "\n"
     ]
    },
    {
     "name": "stderr",
     "output_type": "stream",
     "text": [
      "Inserting taxid merges:  15000  "
     ]
    },
    {
     "name": "stdout",
     "output_type": "stream",
     "text": [
      "\n"
     ]
    },
    {
     "name": "stderr",
     "output_type": "stream",
     "text": [
      "Inserting taxids:        5000  "
     ]
    },
    {
     "name": "stdout",
     "output_type": "stream",
     "text": [
      "\n"
     ]
    },
    {
     "name": "stderr",
     "output_type": "stream",
     "text": [
      "Inserting taxids:       2320000       "
     ]
    },
    {
     "name": "stdout",
     "output_type": "stream",
     "text": [
      "\n"
     ]
    },
    {
     "name": "stderr",
     "output_type": "stream",
     "text": [
      "Local taxdump.tar.gz seems up-to-date\n"
     ]
    },
    {
     "name": "stdout",
     "output_type": "stream",
     "text": [
      "Loading node names...\n",
      "2324161 names loaded.\n",
      "245035 synonyms loaded.\n",
      "Loading nodes...\n",
      "2324161 nodes loaded.\n",
      "Linking nodes...\n",
      "Tree is loaded.\n",
      "Updating database: /.etetoolkit\\taxa.sqlite ...\n",
      " 2324000 generating entries... 33000 generating entries...  generating entries...  626000 generating entries... generating entries...  generating entries... 1050000 generating entries...    generating entries...   \n",
      "Uploading to /.etetoolkit\\taxa.sqlite\n"
     ]
    },
    {
     "name": "stderr",
     "output_type": "stream",
     "text": [
      "Inserting synonyms:      10000 "
     ]
    },
    {
     "name": "stdout",
     "output_type": "stream",
     "text": [
      "\n"
     ]
    },
    {
     "name": "stderr",
     "output_type": "stream",
     "text": [
      "Inserting taxid merges:  20000  "
     ]
    },
    {
     "name": "stdout",
     "output_type": "stream",
     "text": [
      "\n"
     ]
    },
    {
     "name": "stderr",
     "output_type": "stream",
     "text": [
      "Inserting taxids:       10000  "
     ]
    },
    {
     "name": "stdout",
     "output_type": "stream",
     "text": [
      "\n"
     ]
    },
    {
     "name": "stderr",
     "output_type": "stream",
     "text": [
      "Inserting taxids:       2320000   "
     ]
    },
    {
     "name": "stdout",
     "output_type": "stream",
     "text": [
      "\n"
     ]
    }
   ],
   "source": [
    "from ete3 import NCBITaxa\n",
    "ncbi = NCBITaxa()\n",
    "ncbi.update_taxonomy_database()\n",
    "\n"
   ]
  },
  {
   "cell_type": "code",
   "execution_count": null,
   "metadata": {},
   "outputs": [],
   "source": [
    "#lista dalla quale togliamo il covid\n",
    "desc = ncbi.get_descendant_taxa('Coronaviridae')\n",
    "descendants=ncbi.translate_to_names(desc)\n",
    "print(len(descendants))\n",
    "print(descendants)"
   ]
  },
  {
   "cell_type": "code",
   "execution_count": 9,
   "metadata": {},
   "outputs": [
    {
     "ename": "TypeError",
     "evalue": "unhashable type: 'ListElement'",
     "output_type": "error",
     "traceback": [
      "\u001b[1;31m---------------------------------------------------------------------------\u001b[0m",
      "\u001b[1;31mTypeError\u001b[0m                                 Traceback (most recent call last)",
      "\u001b[1;32m<ipython-input-9-d7fb9eb1a6ab>\u001b[0m in \u001b[0;36m<module>\u001b[1;34m\u001b[0m\n\u001b[0;32m      8\u001b[0m \u001b[1;31m#remove duplicates ids\u001b[0m\u001b[1;33m\u001b[0m\u001b[1;33m\u001b[0m\u001b[1;33m\u001b[0m\u001b[0m\n\u001b[0;32m      9\u001b[0m \u001b[0mlen\u001b[0m\u001b[1;33m(\u001b[0m\u001b[0mparenti_idlist\u001b[0m\u001b[1;33m)\u001b[0m\u001b[1;33m\u001b[0m\u001b[1;33m\u001b[0m\u001b[0m\n\u001b[1;32m---> 10\u001b[1;33m \u001b[0mparenti_idlist\u001b[0m\u001b[1;33m=\u001b[0m\u001b[0mlist\u001b[0m\u001b[1;33m(\u001b[0m\u001b[0mdict\u001b[0m\u001b[1;33m.\u001b[0m\u001b[0mfromkeys\u001b[0m\u001b[1;33m(\u001b[0m\u001b[0mparenti_idlist\u001b[0m\u001b[1;33m)\u001b[0m\u001b[1;33m)\u001b[0m\u001b[1;33m\u001b[0m\u001b[1;33m\u001b[0m\u001b[0m\n\u001b[0m\u001b[0;32m     11\u001b[0m \u001b[0mlen\u001b[0m\u001b[1;33m(\u001b[0m\u001b[0mparenti_idlist\u001b[0m\u001b[1;33m)\u001b[0m  \u001b[1;31m#numero di pubblicazioni totali sul covid, che poi divranno essere studiate per paese\u001b[0m\u001b[1;33m\u001b[0m\u001b[1;33m\u001b[0m\u001b[0m\n",
      "\u001b[1;31mTypeError\u001b[0m: unhashable type: 'ListElement'"
     ]
    }
   ],
   "source": [
    "#txid2697049 = sars-cov-2\n",
    "parenti_idlist=[]\n",
    "for parente in descendants:\n",
    "    search = Entrez.esearch(db=\"pubmed\", term=parente, retmax=20000, maxdate=2019/12/20) #\"txid2697049[Organism:exp]\"\n",
    "    search2 = Entrez.read(search)\n",
    "    idlist=search2['IdList']\n",
    "    parenti_idlist.append(idlist)\n",
    "\n"
   ]
  },
  {
   "cell_type": "code",
   "execution_count": 12,
   "metadata": {},
   "outputs": [
    {
     "data": {
      "text/plain": [
       "100541"
      ]
     },
     "execution_count": 12,
     "metadata": {},
     "output_type": "execute_result"
    }
   ],
   "source": [
    "vicini_idlist=[]\n",
    "for lista in parenti_idlist:\n",
    "    for index in lista:\n",
    "        vicini_idlist.append(index)\n",
    "len(vicini_idlist)\n",
    "vicini_idlist=list(dict.fromkeys(vicini_idlist))\n",
    "len(vicini_idlist)  #100541 contro 75k del covid"
   ]
  },
  {
   "cell_type": "code",
   "execution_count": null,
   "metadata": {},
   "outputs": [],
   "source": []
  },
  {
   "cell_type": "code",
   "execution_count": null,
   "metadata": {},
   "outputs": [],
   "source": []
  },
  {
   "cell_type": "code",
   "execution_count": null,
   "metadata": {},
   "outputs": [],
   "source": []
  },
  {
   "cell_type": "code",
   "execution_count": null,
   "metadata": {},
   "outputs": [],
   "source": []
  },
  {
   "cell_type": "code",
   "execution_count": null,
   "metadata": {},
   "outputs": [],
   "source": [
    "# NUOVO \n",
    "#se funziona, prendi anche date covid"
   ]
  },
  {
   "cell_type": "code",
   "execution_count": 15,
   "metadata": {},
   "outputs": [
    {
     "name": "stdout",
     "output_type": "stream",
     "text": [
      "100542\n",
      "100541\n"
     ]
    }
   ],
   "source": [
    "from urllib.error import HTTPError\n",
    "import time\n",
    "\n",
    "country_par=[]\n",
    "dates=[]\n",
    "\n",
    "for ids in vicini_idlist:\n",
    "    listine=[]\n",
    "    \n",
    "    try:\n",
    "      hInfo = Entrez.efetch(db=\"pubmed\", id = ids, retmode= 'xml') \n",
    "      ent= Entrez.read(hInfo)\n",
    "    except TimeoutError:\n",
    "      time.sleep(800)\n",
    "    except HTTPError as e: \n",
    "      if e.code == 429:\n",
    "        time.sleep(1500)\n",
    "      if e.code == 400:\n",
    "        country_par.append(['bad_request'])\n",
    "        time.sleep(100)\n",
    "    except ConnectionAbortedError:\n",
    "      time.sleep(800)\n",
    "    \n",
    "    \n",
    "    try:\n",
    "      affil_cov=ent['PubmedArticle'][0]['MedlineCitation']['Article']['AuthorList']\n",
    "      count=-1\n",
    "      for i in affil_cov:\n",
    "        count+=1\n",
    "        if len(affil_cov[count]['AffiliationInfo'])!=0:\n",
    "            listine.append(affil_cov[count]['AffiliationInfo'][0]['Affiliation'])\n",
    "      listine.append(count+1)\n",
    "      country_par.append(listine)\n",
    "    except KeyError:\n",
    "      country_par.append(['no_aff'])  \n",
    "    except IndexError:\n",
    "      country_par.append(['no_aff'])\n",
    "    except TimeoutError:\n",
    "      time.sleep(800)\n",
    "    except HTTPError as e: \n",
    "      if e.code == 429:\n",
    "        time.sleep(1500)\n",
    "      if e.code == 400:\n",
    "        country_par.append(['bad_request'])\n",
    "        time.sleep(100)\n",
    "    except ConnectionAbortedError:\n",
    "      time.sleep(800)\n",
    "    \n",
    "    try:\n",
    "      data=ent['PubmedArticle'][0]['PubmedData']['History']\n",
    "      dates.append(data)\n",
    "    except KeyError:\n",
    "      dates.append(['no_date'])  \n",
    "    except IndexError:\n",
    "      dates.append(['no_date'])\n",
    "    except TimeoutError:\n",
    "      time.sleep(800)\n",
    "    except HTTPError as e: \n",
    "      if e.code == 429:\n",
    "        time.sleep(1500)\n",
    "      if e.code == 400:\n",
    "        country_par.append(['bad_request'])\n",
    "        time.sleep(100)\n",
    "    except ConnectionAbortedError:\n",
    "      time.sleep(800)\n",
    "    \n",
    "print(len(country_par))\n",
    "print(len(dates))\n"
   ]
  },
  {
   "cell_type": "code",
   "execution_count": 16,
   "metadata": {},
   "outputs": [
    {
     "data": {
      "text/html": [
       "<div>\n",
       "<style scoped>\n",
       "    .dataframe tbody tr th:only-of-type {\n",
       "        vertical-align: middle;\n",
       "    }\n",
       "\n",
       "    .dataframe tbody tr th {\n",
       "        vertical-align: top;\n",
       "    }\n",
       "\n",
       "    .dataframe thead th {\n",
       "        text-align: right;\n",
       "    }\n",
       "</style>\n",
       "<table border=\"1\" class=\"dataframe\">\n",
       "  <thead>\n",
       "    <tr style=\"text-align: right;\">\n",
       "      <th></th>\n",
       "      <th>id</th>\n",
       "      <th>Affiliations</th>\n",
       "      <th>dates</th>\n",
       "    </tr>\n",
       "  </thead>\n",
       "  <tbody>\n",
       "    <tr>\n",
       "      <th>0</th>\n",
       "      <td>33912590</td>\n",
       "      <td>[Beijing Advanced Innovation Centre for Biomed...</td>\n",
       "      <td>[{'Year': '2020', 'Month': '12', 'Day': '30'},...</td>\n",
       "    </tr>\n",
       "    <tr>\n",
       "      <th>1</th>\n",
       "      <td>33899350</td>\n",
       "      <td>[Finnoflag Oy, Kuopio, Finland., 1]</td>\n",
       "      <td>[{'Year': '2021', 'Month': '4', 'Day': '26', '...</td>\n",
       "    </tr>\n",
       "    <tr>\n",
       "      <th>2</th>\n",
       "      <td>33895786</td>\n",
       "      <td>[Institute for Interdisciplinary Information S...</td>\n",
       "      <td>[{'Year': '2020', 'Month': '09', 'Day': '26'},...</td>\n",
       "    </tr>\n",
       "    <tr>\n",
       "      <th>3</th>\n",
       "      <td>33888900</td>\n",
       "      <td>[NHC Key Laboratory of Enteric Pathogenic Micr...</td>\n",
       "      <td>[{'Year': '2020', 'Month': '12', 'Day': '28'},...</td>\n",
       "    </tr>\n",
       "    <tr>\n",
       "      <th>4</th>\n",
       "      <td>33869323</td>\n",
       "      <td>[Center for Food Animal Health Research, Colle...</td>\n",
       "      <td>[{'Year': '2020', 'Month': '12', 'Day': '17'},...</td>\n",
       "    </tr>\n",
       "    <tr>\n",
       "      <th>...</th>\n",
       "      <td>...</td>\n",
       "      <td>...</td>\n",
       "      <td>...</td>\n",
       "    </tr>\n",
       "    <tr>\n",
       "      <th>100536</th>\n",
       "      <td>27309961</td>\n",
       "      <td>[12]</td>\n",
       "      <td>[{'Year': '2016', 'Month': '02', 'Day': '19'},...</td>\n",
       "    </tr>\n",
       "    <tr>\n",
       "      <th>100537</th>\n",
       "      <td>19110700</td>\n",
       "      <td>[Department of Microbiology, College of Medici...</td>\n",
       "      <td>[{'Year': '2008', 'Month': '12', 'Day': '30', ...</td>\n",
       "    </tr>\n",
       "    <tr>\n",
       "      <th>100538</th>\n",
       "      <td>32994418</td>\n",
       "      <td>[Chicago Zoological and Aquatic Animal Residen...</td>\n",
       "      <td>[{'Year': '2020', 'Month': '06', 'Day': '10'},...</td>\n",
       "    </tr>\n",
       "    <tr>\n",
       "      <th>100539</th>\n",
       "      <td>32701249</td>\n",
       "      <td>[National Kunming High-Level Biosafety Primate...</td>\n",
       "      <td>[{'Year': '2020', 'Month': '7', 'Day': '24', '...</td>\n",
       "    </tr>\n",
       "    <tr>\n",
       "      <th>100540</th>\n",
       "      <td>32275081</td>\n",
       "      <td>[Key Laboratory of Animal Models and Human Dis...</td>\n",
       "      <td>[{'Year': '2020', 'Month': '04', 'Day': '07'},...</td>\n",
       "    </tr>\n",
       "  </tbody>\n",
       "</table>\n",
       "<p>100541 rows × 3 columns</p>\n",
       "</div>"
      ],
      "text/plain": [
       "              id                                       Affiliations  \\\n",
       "0       33912590  [Beijing Advanced Innovation Centre for Biomed...   \n",
       "1       33899350                [Finnoflag Oy, Kuopio, Finland., 1]   \n",
       "2       33895786  [Institute for Interdisciplinary Information S...   \n",
       "3       33888900  [NHC Key Laboratory of Enteric Pathogenic Micr...   \n",
       "4       33869323  [Center for Food Animal Health Research, Colle...   \n",
       "...          ...                                                ...   \n",
       "100536  27309961                                               [12]   \n",
       "100537  19110700  [Department of Microbiology, College of Medici...   \n",
       "100538  32994418  [Chicago Zoological and Aquatic Animal Residen...   \n",
       "100539  32701249  [National Kunming High-Level Biosafety Primate...   \n",
       "100540  32275081  [Key Laboratory of Animal Models and Human Dis...   \n",
       "\n",
       "                                                    dates  \n",
       "0       [{'Year': '2020', 'Month': '12', 'Day': '30'},...  \n",
       "1       [{'Year': '2021', 'Month': '4', 'Day': '26', '...  \n",
       "2       [{'Year': '2020', 'Month': '09', 'Day': '26'},...  \n",
       "3       [{'Year': '2020', 'Month': '12', 'Day': '28'},...  \n",
       "4       [{'Year': '2020', 'Month': '12', 'Day': '17'},...  \n",
       "...                                                   ...  \n",
       "100536  [{'Year': '2016', 'Month': '02', 'Day': '19'},...  \n",
       "100537  [{'Year': '2008', 'Month': '12', 'Day': '30', ...  \n",
       "100538  [{'Year': '2020', 'Month': '06', 'Day': '10'},...  \n",
       "100539  [{'Year': '2020', 'Month': '7', 'Day': '24', '...  \n",
       "100540  [{'Year': '2020', 'Month': '04', 'Day': '07'},...  \n",
       "\n",
       "[100541 rows x 3 columns]"
      ]
     },
     "execution_count": 16,
     "metadata": {},
     "output_type": "execute_result"
    }
   ],
   "source": [
    "df_parenti_aff_dates=pd.DataFrame(list(zip(vicini_idlist,country_par,dates)), columns=['id','Affiliations','dates'])\n",
    "affildates_par_def=df_parenti_aff_dates.reset_index()\n",
    "affildates_par_def=affildates_par_def.drop('index',axis=1)\n",
    "affildates_par_def"
   ]
  },
  {
   "cell_type": "code",
   "execution_count": 18,
   "metadata": {},
   "outputs": [],
   "source": [
    "affildates_par_def.to_csv(\"affildates_par_def.csv\")"
   ]
  },
  {
   "cell_type": "code",
   "execution_count": null,
   "metadata": {},
   "outputs": [],
   "source": []
  },
  {
   "cell_type": "code",
   "execution_count": null,
   "metadata": {},
   "outputs": [],
   "source": [
    "#per vicini covid c'è da raccolgiere nuovamente data e abstract, come fatto per covid, conservando invece id e affiliazione"
   ]
  },
  {
   "cell_type": "code",
   "execution_count": null,
   "metadata": {},
   "outputs": [],
   "source": [
    "parenti=pd.read_csv(\"C:/Users/aless/OneDrive/Desktop/AleBicocca/Data Science/Anno 2/Lab Biosciences/Project/Dati_Covid/affildates_par_def.csv\",converters={'Affiliations': eval})\n",
    "parenti=parenti.drop('dates',axis=1)\n",
    "vicini_id_list=parenti['id'].values.tolist()\n",
    "len(vicini_id_list)"
   ]
  },
  {
   "cell_type": "code",
   "execution_count": null,
   "metadata": {},
   "outputs": [],
   "source": [
    "from urllib.error import HTTPError\n",
    "import time\n",
    "\n",
    "abstr=[]\n",
    "date=[]\n",
    "\n",
    "for ids in vicini_id_list:\n",
    "    i=0\n",
    "    \n",
    "    try:\n",
    "      hInfo = Entrez.efetch(db=\"pubmed\", id = ids, retmode= 'xml') \n",
    "      ent= Entrez.read(hInfo)\n",
    "    except TimeoutError:\n",
    "      time.sleep(800)\n",
    "    except HTTPError as e: \n",
    "      if e.code == 429:\n",
    "        time.sleep(1500)\n",
    "      if e.code == 400:\n",
    "        abstr.append(['bad_request'])\n",
    "        date.append(['bad_request'])\n",
    "        i+=1\n",
    "        time.sleep(100)\n",
    "    except ConnectionAbortedError:\n",
    "      time.sleep(800)\n",
    "    \n",
    "    if i==0: #variabile flag per bad request\n",
    "        try:\n",
    "          abstract= ent['PubmedArticle'][0]['MedlineCitation']['Article']['Abstract']['AbstractText'][0]\n",
    "          abstr.append(abstract)\n",
    "        except KeyError:\n",
    "          abstr.append(['no_abstr'])  \n",
    "        except IndexError:\n",
    "          abstr.append(['no_abstr'])\n",
    "        except TimeoutError:\n",
    "          time.sleep(800)\n",
    "        except HTTPError as e: \n",
    "          if e.code == 429:\n",
    "            time.sleep(1500)\n",
    "          if e.code == 400:\n",
    "            abstr.append(['bad_request'])\n",
    "            time.sleep(100)\n",
    "        except ConnectionAbortedError:\n",
    "          time.sleep(800)\n",
    "    \n",
    "    if i==0:\n",
    "        try:\n",
    "          data=ent['PubmedArticle'][0]['PubmedData']['History']\n",
    "          date.append(data)\n",
    "        except KeyError:\n",
    "          date.append(['no_date'])  \n",
    "        except IndexError:\n",
    "          date.append(['no_date'])\n",
    "        except TimeoutError:\n",
    "          time.sleep(800)\n",
    "        except HTTPError as e: \n",
    "          if e.code == 429:\n",
    "            time.sleep(1500)\n",
    "          if e.code == 400:\n",
    "            date.append(['bad_request'])\n",
    "            time.sleep(100)\n",
    "        except ConnectionAbortedError:\n",
    "          time.sleep(800)\n",
    "    \n",
    "print(len(abstr))\n",
    "print(len(date))\n"
   ]
  },
  {
   "cell_type": "code",
   "execution_count": null,
   "metadata": {},
   "outputs": [],
   "source": [
    "parenti['Abstract']=abstr\n",
    "parenti['Data']=date\n",
    "parenti=parenti.drop('Unnamed: 0',axis=1)\n",
    "parenti.to_csv('parenti_completo.csv')"
   ]
  },
  {
   "cell_type": "code",
   "execution_count": null,
   "metadata": {},
   "outputs": [],
   "source": [
    "parenti"
   ]
  },
  {
   "cell_type": "code",
   "execution_count": null,
   "metadata": {},
   "outputs": [],
   "source": [
    "#EFFETTUA LAVORO GIORNALI ANCHE PER VICINI "
   ]
  },
  {
   "cell_type": "code",
   "execution_count": null,
   "metadata": {},
   "outputs": [],
   "source": []
  },
  {
   "cell_type": "code",
   "execution_count": null,
   "metadata": {},
   "outputs": [],
   "source": []
  },
  {
   "cell_type": "code",
   "execution_count": null,
   "metadata": {},
   "outputs": [],
   "source": []
  },
  {
   "cell_type": "code",
   "execution_count": null,
   "metadata": {},
   "outputs": [],
   "source": []
  },
  {
   "cell_type": "code",
   "execution_count": null,
   "metadata": {},
   "outputs": [],
   "source": []
  },
  {
   "cell_type": "code",
   "execution_count": null,
   "metadata": {},
   "outputs": [],
   "source": [
    "#VICINI COVID"
   ]
  },
  {
   "cell_type": "code",
   "execution_count": 24,
   "metadata": {},
   "outputs": [
    {
     "data": {
      "text/plain": [
       "14703"
      ]
     },
     "execution_count": 24,
     "metadata": {},
     "output_type": "execute_result"
    }
   ],
   "source": [
    "#txid2697049 = sars-cov-2\n",
    "anno=['1970[pdat]','1971[pdat]','1972[pdat]','1973[pdat]','1974[pdat]','1975[pdat]','1976[pdat]','1977[pdat]','1978[pdat]','1979[pdat]','1980[pdat]','1981[pdat]','1982[pdat]','1983[pdat]','1984[pdat]','1985[pdat]','1986[pdat]','1987[pdat]','1988[pdat]','1989[pdat]','1990[pdat]','1991[pdat]','1992[pdat]','1993[pdat]','1994[pdat]','1995[pdat]','1996[pdat]','1997[pdat]','1998[pdat]','1999[pdat]','2000[pdat]','2001[pdat]','2002[pdat]','2003[pdat]','2004[pdat]','2005[pdat]','2006[pdat]','2007[pdat]','2008[pdat]','2009[pdat]','2010[pdat]','2011[pdat]','2012[pdat]','2013[pdat]','2014[pdat]','2015[pdat]','2016[pdat]','2017[pdat]','2018[pdat]','2019[pdat]']\n",
    "parenti_idlist=[]\n",
    "for el in anno:\n",
    "    search = Entrez.esearch(db=\"pubmed\", term='Coronavirus and '+str(el), retmax=100000, datetype='pdat') #\"txid2697049[Organism:exp]\"\n",
    "    search2 = Entrez.read(search)\n",
    "    for ids in search2['IdList']:\n",
    "        parenti_idlist.append(ids)\n",
    "#remove duplicates ids\n",
    "li_id_parenti=list(dict.fromkeys(parenti_idlist))\n",
    "len(li_id_parenti)  #numero di pubblicazioni totali sul covid, che poi divranno essere studiate per paese"
   ]
  },
  {
   "cell_type": "code",
   "execution_count": 27,
   "metadata": {},
   "outputs": [
    {
     "name": "stdout",
     "output_type": "stream",
     "text": [
      "14703\n",
      "102\n"
     ]
    }
   ],
   "source": [
    "from urllib.error import HTTPError\n",
    "import time\n",
    "\n",
    "country_par=[]\n",
    "date=[]\n",
    "\n",
    "for ids in li_id_parenti:\n",
    "    i=0\n",
    "    listine=[]\n",
    "    try:\n",
    "      hInfo = Entrez.efetch(db=\"pubmed\", id = ids, retmode= 'xml') \n",
    "      ent= Entrez.read(hInfo)\n",
    "    except TimeoutError:\n",
    "      time.sleep(800)\n",
    "    except HTTPError as e: \n",
    "      if e.code == 429:\n",
    "        time.sleep(1000)\n",
    "      if e.code == 400:\n",
    "        country_par.append(['bad_request'])\n",
    "        date.append(['bad_request'])\n",
    "        i+=1\n",
    "        time.sleep(100)\n",
    "    except ConnectionAbortedError:\n",
    "      time.sleep(800)\n",
    "    \n",
    "    if i==0: #variabile flag per bad request\n",
    "        try:\n",
    "            affil_cov=ent['PubmedArticle'][0]['MedlineCitation']['Article']['AuthorList']\n",
    "            count=-1\n",
    "            for i in affil_cov:\n",
    "                count+=1\n",
    "                if len(affil_cov[count]['AffiliationInfo'])!=0:\n",
    "                    listine.append(affil_cov[count]['AffiliationInfo'][0]['Affiliation'])\n",
    "            listine.append(count+1)\n",
    "            country_par.append(listine)\n",
    "        except KeyError:\n",
    "          country_par.append(['no_aff'])  \n",
    "        except IndexError:\n",
    "          country_par.append(['no_aff'])\n",
    "        except TimeoutError:\n",
    "          time.sleep(800)\n",
    "        except HTTPError as e: \n",
    "          if e.code == 429:\n",
    "            time.sleep(1000)\n",
    "          if e.code == 400:\n",
    "            country_par.append(['bad_request'])\n",
    "            time.sleep(100)\n",
    "        except ConnectionAbortedError:\n",
    "          time.sleep(800)\n",
    "    \n",
    "    if i==0:\n",
    "        try:\n",
    "          data=ent['PubmedArticle'][0]['PubmedData']['History']\n",
    "          date.append(data)\n",
    "        except KeyError:\n",
    "          date.append(['no_date'])  \n",
    "        except IndexError:\n",
    "          date.append(['no_date'])\n",
    "        except TimeoutError:\n",
    "          time.sleep(800)\n",
    "        except HTTPError as e: \n",
    "          if e.code == 429:\n",
    "            time.sleep(1000)\n",
    "          if e.code == 400:\n",
    "            date.append(['bad_request'])\n",
    "            time.sleep(100)\n",
    "        except ConnectionAbortedError:\n",
    "          time.sleep(800)\n",
    "    \n",
    "print(len(country_par))\n",
    "print(len(date))"
   ]
  },
  {
   "cell_type": "code",
   "execution_count": 66,
   "metadata": {},
   "outputs": [
    {
     "data": {
      "text/html": [
       "<div>\n",
       "<style scoped>\n",
       "    .dataframe tbody tr th:only-of-type {\n",
       "        vertical-align: middle;\n",
       "    }\n",
       "\n",
       "    .dataframe tbody tr th {\n",
       "        vertical-align: top;\n",
       "    }\n",
       "\n",
       "    .dataframe thead th {\n",
       "        text-align: right;\n",
       "    }\n",
       "</style>\n",
       "<table border=\"1\" class=\"dataframe\">\n",
       "  <thead>\n",
       "    <tr style=\"text-align: right;\">\n",
       "      <th></th>\n",
       "      <th>id</th>\n",
       "      <th>Affiliations</th>\n",
       "    </tr>\n",
       "  </thead>\n",
       "  <tbody>\n",
       "    <tr>\n",
       "      <th>0</th>\n",
       "      <td>4991400</td>\n",
       "      <td>[3]</td>\n",
       "    </tr>\n",
       "    <tr>\n",
       "      <th>1</th>\n",
       "      <td>4991398</td>\n",
       "      <td>[4]</td>\n",
       "    </tr>\n",
       "    <tr>\n",
       "      <th>2</th>\n",
       "      <td>4323585</td>\n",
       "      <td>[2]</td>\n",
       "    </tr>\n",
       "    <tr>\n",
       "      <th>3</th>\n",
       "      <td>4323489</td>\n",
       "      <td>[2]</td>\n",
       "    </tr>\n",
       "    <tr>\n",
       "      <th>4</th>\n",
       "      <td>5504709</td>\n",
       "      <td>[2]</td>\n",
       "    </tr>\n",
       "    <tr>\n",
       "      <th>...</th>\n",
       "      <td>...</td>\n",
       "      <td>...</td>\n",
       "    </tr>\n",
       "    <tr>\n",
       "      <th>14698</th>\n",
       "      <td>29956635</td>\n",
       "      <td>[Department of Biochemistry and Molecular Biol...</td>\n",
       "    </tr>\n",
       "    <tr>\n",
       "      <th>14699</th>\n",
       "      <td>29905769</td>\n",
       "      <td>[Department of Health-Abu Dhabi, United Arab E...</td>\n",
       "    </tr>\n",
       "    <tr>\n",
       "      <th>14700</th>\n",
       "      <td>29792154</td>\n",
       "      <td>[Centre for Nano and Material Sciences, Jain U...</td>\n",
       "    </tr>\n",
       "    <tr>\n",
       "      <th>14701</th>\n",
       "      <td>29538674</td>\n",
       "      <td>[Department of Pediatrics, Division of Infecti...</td>\n",
       "    </tr>\n",
       "    <tr>\n",
       "      <th>14702</th>\n",
       "      <td>29447395</td>\n",
       "      <td>[Vaccine and Infectious Disease Division, Fred...</td>\n",
       "    </tr>\n",
       "  </tbody>\n",
       "</table>\n",
       "<p>14703 rows × 2 columns</p>\n",
       "</div>"
      ],
      "text/plain": [
       "             id                                       Affiliations\n",
       "0       4991400                                                [3]\n",
       "1       4991398                                                [4]\n",
       "2       4323585                                                [2]\n",
       "3       4323489                                                [2]\n",
       "4       5504709                                                [2]\n",
       "...         ...                                                ...\n",
       "14698  29956635  [Department of Biochemistry and Molecular Biol...\n",
       "14699  29905769  [Department of Health-Abu Dhabi, United Arab E...\n",
       "14700  29792154  [Centre for Nano and Material Sciences, Jain U...\n",
       "14701  29538674  [Department of Pediatrics, Division of Infecti...\n",
       "14702  29447395  [Vaccine and Infectious Disease Division, Fred...\n",
       "\n",
       "[14703 rows x 2 columns]"
      ]
     },
     "execution_count": 66,
     "metadata": {},
     "output_type": "execute_result"
    }
   ],
   "source": [
    "df_parenti_aff_dates=pd.DataFrame(list(zip(li_id_parenti,country_par)), columns=['id','Affiliations'])\n",
    "affildates_par_def=df_parenti_aff_dates.reset_index()\n",
    "affildates_par_def=affildates_par_def.drop('index',axis=1)\n",
    "affildates_par_def"
   ]
  },
  {
   "cell_type": "code",
   "execution_count": 67,
   "metadata": {},
   "outputs": [],
   "source": [
    "affildates_par_def.to_csv('vicini_dateaff.csv')"
   ]
  },
  {
   "cell_type": "code",
   "execution_count": null,
   "metadata": {},
   "outputs": [],
   "source": []
  },
  {
   "cell_type": "code",
   "execution_count": null,
   "metadata": {},
   "outputs": [],
   "source": []
  },
  {
   "cell_type": "code",
   "execution_count": null,
   "metadata": {},
   "outputs": [],
   "source": []
  },
  {
   "cell_type": "code",
   "execution_count": null,
   "metadata": {},
   "outputs": [],
   "source": []
  },
  {
   "cell_type": "code",
   "execution_count": null,
   "metadata": {},
   "outputs": [],
   "source": []
  },
  {
   "cell_type": "code",
   "execution_count": null,
   "metadata": {},
   "outputs": [],
   "source": []
  },
  {
   "cell_type": "code",
   "execution_count": null,
   "metadata": {},
   "outputs": [],
   "source": []
  },
  {
   "cell_type": "code",
   "execution_count": null,
   "metadata": {},
   "outputs": [],
   "source": []
  },
  {
   "cell_type": "code",
   "execution_count": null,
   "metadata": {},
   "outputs": [],
   "source": []
  },
  {
   "cell_type": "code",
   "execution_count": null,
   "metadata": {},
   "outputs": [],
   "source": []
  },
  {
   "cell_type": "code",
   "execution_count": null,
   "metadata": {},
   "outputs": [],
   "source": []
  },
  {
   "cell_type": "code",
   "execution_count": null,
   "metadata": {},
   "outputs": [],
   "source": []
  },
  {
   "cell_type": "code",
   "execution_count": null,
   "metadata": {},
   "outputs": [],
   "source": []
  },
  {
   "cell_type": "code",
   "execution_count": null,
   "metadata": {},
   "outputs": [],
   "source": []
  },
  {
   "cell_type": "code",
   "execution_count": null,
   "metadata": {},
   "outputs": [],
   "source": []
  },
  {
   "cell_type": "code",
   "execution_count": null,
   "metadata": {},
   "outputs": [],
   "source": []
  },
  {
   "cell_type": "code",
   "execution_count": null,
   "metadata": {},
   "outputs": [],
   "source": []
  },
  {
   "cell_type": "code",
   "execution_count": null,
   "metadata": {},
   "outputs": [],
   "source": []
  },
  {
   "cell_type": "code",
   "execution_count": null,
   "metadata": {},
   "outputs": [],
   "source": []
  },
  {
   "cell_type": "code",
   "execution_count": null,
   "metadata": {},
   "outputs": [],
   "source": []
  },
  {
   "cell_type": "code",
   "execution_count": null,
   "metadata": {},
   "outputs": [],
   "source": []
  },
  {
   "cell_type": "code",
   "execution_count": null,
   "metadata": {},
   "outputs": [],
   "source": []
  },
  {
   "cell_type": "code",
   "execution_count": null,
   "metadata": {},
   "outputs": [],
   "source": []
  },
  {
   "cell_type": "code",
   "execution_count": null,
   "metadata": {},
   "outputs": [],
   "source": []
  },
  {
   "cell_type": "code",
   "execution_count": null,
   "metadata": {},
   "outputs": [],
   "source": []
  },
  {
   "cell_type": "code",
   "execution_count": null,
   "metadata": {},
   "outputs": [],
   "source": []
  }
 ],
 "metadata": {
  "colab": {
   "collapsed_sections": [],
   "name": "Coronaviridae.ipynb",
   "provenance": []
  },
  "kernelspec": {
   "display_name": "Python 3",
   "language": "python",
   "name": "python3"
  },
  "language_info": {
   "codemirror_mode": {
    "name": "ipython",
    "version": 3
   },
   "file_extension": ".py",
   "mimetype": "text/x-python",
   "name": "python",
   "nbconvert_exporter": "python",
   "pygments_lexer": "ipython3",
   "version": "3.9.2"
  }
 },
 "nbformat": 4,
 "nbformat_minor": 4
}
