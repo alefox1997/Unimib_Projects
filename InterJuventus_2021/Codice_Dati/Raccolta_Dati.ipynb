{
 "cells": [
  {
   "cell_type": "code",
   "execution_count": null,
   "metadata": {},
   "outputs": [],
   "source": [
    "import tweepy\n",
    "import pandas as pd\n"
   ]
  },
  {
   "cell_type": "code",
   "execution_count": null,
   "metadata": {},
   "outputs": [],
   "source": []
  },
  {
   "cell_type": "code",
   "execution_count": null,
   "metadata": {},
   "outputs": [],
   "source": [
    "auth = tweepy.OAuthHandler(consumer_key, consumer_secret)\n",
    "auth.set_access_token(access_token, access_secret)\n",
    "api=tweepy.API(auth, wait_on_rate_limit=True, wait_on_rate_limit_notify=True)\n",
    "\n"
   ]
  },
  {
   "cell_type": "code",
   "execution_count": null,
   "metadata": {},
   "outputs": [],
   "source": [
    "#Scaricare in un dataframe i tweet in base ad un hashtag\n",
    "hashtag=\"#InterJuventus OR #Inter OR #FCIM OR #InterJuve OR #Finoallafine OR #ForzaJuve OR #ForzaInter OR #InterFans\"  \n",
    "\n",
    "\n",
    "start_date =\"2021-01-17\"  #orario utc\n",
    "end_date = \"2021-01-18\"    \n",
    "\n",
    "list_tweet=[]\n",
    "\n",
    "for tweet in tweepy.Cursor(api.search,q=hashtag, since=start_date, until=end_date).items():   \n",
    "\n",
    "    try:\n",
    "        retweeted_status = tweet.retweeted_status\n",
    "        \n",
    "    except AttributeError:\n",
    "        retweeted_status = \"None\"\n",
    "       \n",
    "    list_tweet.append([tweet.created_at, tweet.id, tweet.id_str, tweet.text,\n",
    "                         retweeted_status,           \n",
    "                         tweet.retweet_count, tweet.user.id_str,tweet.user.screen_name, \n",
    "                         tweet.user.location, tweet.lang, \n",
    "                         tweet.entities['hashtags'], tweet.entities['user_mentions']]) \n"
   ]
  },
  {
   "cell_type": "code",
   "execution_count": null,
   "metadata": {},
   "outputs": [],
   "source": [
    "tweets = pd.DataFrame(list_tweet[1:],columns=['created_at','id','id_str','text',\n",
    "                                              'retweeted_status','retweet_count','user.id_str','user.screen_name',\n",
    "                                              'user.location','lang','entities.hashtags','entities.user_mentions'])\n"
   ]
  },
  {
   "cell_type": "code",
   "execution_count": null,
   "metadata": {},
   "outputs": [],
   "source": [
    "#optiamo per tenere i dati compresi tra le 18:45 e mezzanotte"
   ]
  },
  {
   "cell_type": "code",
   "execution_count": null,
   "metadata": {},
   "outputs": [],
   "source": [
    "interjuve=tweets[tweets['created_at'] > \"2021-01-17 17:45:00\"] #orario UTC\n",
    "interjuve=interjuve[interjuve['created_at'] < \"2021-01-17 23:00:00\"]\n",
    "interjuve=interjuve[interjuve['lang']=='it'] #di lingua italiana, che sono la maggiorparte\n",
    "interjuve\n",
    "#si decide di lavorare su un orario compreso tra le 18:45 e le 23:59, così da comprendere pre e post partita"
   ]
  },
  {
   "cell_type": "code",
   "execution_count": null,
   "metadata": {},
   "outputs": [],
   "source": [
    "interjuve.to_csv(\"interjuve.csv\") #export in csv"
   ]
  },
  {
   "cell_type": "code",
   "execution_count": null,
   "metadata": {},
   "outputs": [],
   "source": []
  },
  {
   "cell_type": "code",
   "execution_count": null,
   "metadata": {},
   "outputs": [],
   "source": []
  },
  {
   "cell_type": "code",
   "execution_count": null,
   "metadata": {},
   "outputs": [],
   "source": []
  }
 ],
 "metadata": {
  "kernelspec": {
   "display_name": "Python 3",
   "language": "python",
   "name": "python3"
  },
  "language_info": {
   "codemirror_mode": {
    "name": "ipython",
    "version": 3
   },
   "file_extension": ".py",
   "mimetype": "text/x-python",
   "name": "python",
   "nbconvert_exporter": "python",
   "pygments_lexer": "ipython3",
   "version": "3.7.4"
  }
 },
 "nbformat": 4,
 "nbformat_minor": 4
}
