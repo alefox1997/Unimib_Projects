{
 "cells": [
  {
   "cell_type": "code",
   "execution_count": null,
   "metadata": {},
   "outputs": [],
   "source": [
    "#Alessando Fossati"
   ]
  },
  {
   "cell_type": "code",
   "execution_count": null,
   "metadata": {},
   "outputs": [],
   "source": [
    "#mat.819499"
   ]
  },
  {
   "cell_type": "code",
   "execution_count": null,
   "metadata": {},
   "outputs": [],
   "source": [
    "#DataScience, assignement TIDS"
   ]
  },
  {
   "cell_type": "code",
   "execution_count": null,
   "metadata": {},
   "outputs": [],
   "source": []
  },
  {
   "cell_type": "code",
   "execution_count": null,
   "metadata": {},
   "outputs": [],
   "source": [
    "#1.PREPARAZIONE DEL DATASET E STATISTICHE DESCRITTIVE"
   ]
  },
  {
   "cell_type": "code",
   "execution_count": 1,
   "metadata": {},
   "outputs": [
    {
     "name": "stderr",
     "output_type": "stream",
     "text": [
      "WARNING:root:'ARROW_PRE_0_15_IPC_FORMAT' environment variable was not set. It is required to set this environment variable to '1' in both driver and executor sides if you use pyarrow>=0.15 and pyspark<3.0. Koalas will set it for you but it does not work if there is a Spark context already launched.\n",
      "WARNING:root:'PYARROW_IGNORE_TIMEZONE' environment variable was not set. It is required to set this environment variable to '1' in both driver and executor sides if you use pyarrow>=2.0.0. Koalas will set it for you but it does not work if there is a Spark context already launched.\n"
     ]
    }
   ],
   "source": [
    "import pyspark\n",
    "import matplotlib.pyplot as plt\n",
    "import numpy as np\n",
    "import databricks.koalas as ks  #restituisce un warning dovuto alla gestione del conflitto pyarrow dentro koalas\n",
    "import pandas as pd\n",
    "from functools import reduce  \n",
    "from pyspark.sql import DataFrame\n",
    "import seaborn as sns"
   ]
  },
  {
   "cell_type": "code",
   "execution_count": 2,
   "metadata": {},
   "outputs": [],
   "source": [
    "from pyspark.sql import SparkSession\n",
    "spark=SparkSession.builder.appName(\"Assignment_tids\").getOrCreate()\n",
    "#spark.stop()  \n"
   ]
  },
  {
   "cell_type": "code",
   "execution_count": 3,
   "metadata": {
    "scrolled": true
   },
   "outputs": [
    {
     "data": {
      "text/html": [
       "<div>\n",
       "<style scoped>\n",
       "    .dataframe tbody tr th:only-of-type {\n",
       "        vertical-align: middle;\n",
       "    }\n",
       "\n",
       "    .dataframe tbody tr th {\n",
       "        vertical-align: top;\n",
       "    }\n",
       "\n",
       "    .dataframe thead th {\n",
       "        text-align: right;\n",
       "    }\n",
       "</style>\n",
       "<table border=\"1\" class=\"dataframe\">\n",
       "  <thead>\n",
       "    <tr style=\"text-align: right;\">\n",
       "      <th></th>\n",
       "      <th>F1</th>\n",
       "      <th>F2</th>\n",
       "      <th>F3</th>\n",
       "      <th>F4</th>\n",
       "      <th>Rep</th>\n",
       "      <th>MODEL_OF</th>\n",
       "      <th>MODEL_OFUB</th>\n",
       "      <th>MODEL_TIME</th>\n",
       "      <th>CBC_OF</th>\n",
       "      <th>CBC_TIME</th>\n",
       "      <th>CBC_FC</th>\n",
       "      <th>CBC_PC</th>\n",
       "      <th>NEWCBC_OF</th>\n",
       "      <th>NEWCBC_TIME</th>\n",
       "      <th>NEWCBC_FC</th>\n",
       "    </tr>\n",
       "  </thead>\n",
       "  <tbody>\n",
       "    <tr>\n",
       "      <th>0</th>\n",
       "      <td>3</td>\n",
       "      <td>400</td>\n",
       "      <td>9</td>\n",
       "      <td>A</td>\n",
       "      <td>1</td>\n",
       "      <td>197</td>\n",
       "      <td>197</td>\n",
       "      <td>0.290</td>\n",
       "      <td>197</td>\n",
       "      <td>0.02</td>\n",
       "      <td>0</td>\n",
       "      <td>1</td>\n",
       "      <td>197</td>\n",
       "      <td>0.056</td>\n",
       "      <td>0</td>\n",
       "    </tr>\n",
       "    <tr>\n",
       "      <th>1</th>\n",
       "      <td>3</td>\n",
       "      <td>400</td>\n",
       "      <td>9</td>\n",
       "      <td>A</td>\n",
       "      <td>2</td>\n",
       "      <td>162</td>\n",
       "      <td>162</td>\n",
       "      <td>0.240</td>\n",
       "      <td>162</td>\n",
       "      <td>0.02</td>\n",
       "      <td>0</td>\n",
       "      <td>0</td>\n",
       "      <td>162</td>\n",
       "      <td>0.016</td>\n",
       "      <td>0</td>\n",
       "    </tr>\n",
       "    <tr>\n",
       "      <th>2</th>\n",
       "      <td>3</td>\n",
       "      <td>400</td>\n",
       "      <td>9</td>\n",
       "      <td>A</td>\n",
       "      <td>3</td>\n",
       "      <td>165</td>\n",
       "      <td>165</td>\n",
       "      <td>0.850</td>\n",
       "      <td>165</td>\n",
       "      <td>0.01</td>\n",
       "      <td>0</td>\n",
       "      <td>0</td>\n",
       "      <td>165</td>\n",
       "      <td>0.023</td>\n",
       "      <td>0</td>\n",
       "    </tr>\n",
       "    <tr>\n",
       "      <th>3</th>\n",
       "      <td>3</td>\n",
       "      <td>400</td>\n",
       "      <td>6</td>\n",
       "      <td>A</td>\n",
       "      <td>4</td>\n",
       "      <td>178</td>\n",
       "      <td>178</td>\n",
       "      <td>0.311</td>\n",
       "      <td>178</td>\n",
       "      <td>0.02</td>\n",
       "      <td>0</td>\n",
       "      <td>1</td>\n",
       "      <td>178</td>\n",
       "      <td>0.012</td>\n",
       "      <td>0</td>\n",
       "    </tr>\n",
       "    <tr>\n",
       "      <th>4</th>\n",
       "      <td>3</td>\n",
       "      <td>400</td>\n",
       "      <td>9</td>\n",
       "      <td>A</td>\n",
       "      <td>5</td>\n",
       "      <td>220</td>\n",
       "      <td>220</td>\n",
       "      <td>0.720</td>\n",
       "      <td>220</td>\n",
       "      <td>0.03</td>\n",
       "      <td>0</td>\n",
       "      <td>1</td>\n",
       "      <td>220</td>\n",
       "      <td>0.038</td>\n",
       "      <td>0</td>\n",
       "    </tr>\n",
       "  </tbody>\n",
       "</table>\n",
       "</div>"
      ],
      "text/plain": [
       "   F1   F2  F3 F4  Rep  MODEL_OF  MODEL_OFUB  MODEL_TIME  CBC_OF  CBC_TIME  CBC_FC  CBC_PC  NEWCBC_OF  NEWCBC_TIME  NEWCBC_FC\n",
       "0   3  400   9  A    1       197         197       0.290     197      0.02       0       1        197        0.056          0\n",
       "1   3  400   9  A    2       162         162       0.240     162      0.02       0       0        162        0.016          0\n",
       "2   3  400   9  A    3       165         165       0.850     165      0.01       0       0        165        0.023          0\n",
       "3   3  400   6  A    4       178         178       0.311     178      0.02       0       1        178        0.012          0\n",
       "4   3  400   9  A    5       220         220       0.720     220      0.03       0       1        220        0.038          0"
      ]
     },
     "execution_count": 3,
     "metadata": {},
     "output_type": "execute_result"
    }
   ],
   "source": [
    "#come primo passaggio si importano i fogli excel relativi ai risultati dei vari esperiementi\n",
    "#e li si unisce con koalas, per poi creare un dataframe spark\n",
    "pdf_a = ks.from_pandas(pd.read_excel('risultati_A.xlsx', sheet_name='detailed results', inferSchema='true'))\n",
    "pdf_b = ks.from_pandas(pd.read_excel('risultati_B.xlsx', sheet_name='detailed results', inferSchema='true'))\n",
    "pdf_c = ks.from_pandas(pd.read_excel('risultati_C.xlsx', sheet_name='detailed results', inferSchema='true'))\n",
    "pdf_d = ks.from_pandas(pd.read_excel('risultati_D.xlsx', inferSchema='true'))\n",
    "pdf_e = ks.from_pandas(pd.read_excel('risultati_E.xlsx', inferSchema='true'))\n",
    "pdf_f = ks.from_pandas(pd.read_excel('risultati_F.xlsx', sheet_name='detailed results', inferSchema='true'))\n",
    "\n",
    "pdf=ks.concat([pdf_a,pdf_b,pdf_c,pdf_d,pdf_e,pdf_f])\n",
    "pdf.head()\n",
    "\n"
   ]
  },
  {
   "cell_type": "code",
   "execution_count": 4,
   "metadata": {},
   "outputs": [
    {
     "data": {
      "text/plain": [
       "databricks.koalas.frame.DataFrame"
      ]
     },
     "execution_count": 4,
     "metadata": {},
     "output_type": "execute_result"
    }
   ],
   "source": [
    "type(pdf)  #dataframe koalas"
   ]
  },
  {
   "cell_type": "code",
   "execution_count": 5,
   "metadata": {},
   "outputs": [
    {
     "name": "stdout",
     "output_type": "stream",
     "text": [
      "+---+---+---+---+---+--------+----------+----------+------+--------+------+------+---------+-----------+---------+\n",
      "| F1| F2| F3| F4|Rep|MODEL_OF|MODEL_OFUB|MODEL_TIME|CBC_OF|CBC_TIME|CBC_FC|CBC_PC|NEWCBC_OF|NEWCBC_TIME|NEWCBC_FC|\n",
      "+---+---+---+---+---+--------+----------+----------+------+--------+------+------+---------+-----------+---------+\n",
      "|  3|400|  9|  A|  1|     197|       197|      0.29|   197|    0.02|     0|     1|      197|      0.056|        0|\n",
      "|  3|400|  9|  A|  2|     162|       162|      0.24|   162|    0.02|     0|     0|      162|      0.016|        0|\n",
      "|  3|400|  9|  A|  3|     165|       165|      0.85|   165|    0.01|     0|     0|      165|      0.023|        0|\n",
      "|  3|400|  6|  A|  4|     178|       178|     0.311|   178|    0.02|     0|     1|      178|      0.012|        0|\n",
      "|  3|400|  9|  A|  5|     220|       220|      0.72|   220|    0.03|     0|     1|      220|      0.038|        0|\n",
      "|  3|400|  7|  A|  6|     162|       162|     1.085|   162|    0.03|     0|     2|      162|      0.014|        0|\n",
      "|  3|400|  8|  A|  7|     108|       108|      1.58|   108|    0.05|     0|     1|      108|      0.092|        0|\n",
      "|  3|400|  7|  A|  8|     201|       201|      0.11|   201|    0.02|     0|     1|      201|      0.016|        0|\n",
      "|  3|400| 10|  A|  9|     201|       201|      0.58|   201|    0.05|     0|     2|      201|      0.031|        0|\n",
      "|  3|400|  8|  A| 10|     156|       156|      0.19|   156|    0.05|     1|     1|      156|      0.074|        0|\n",
      "+---+---+---+---+---+--------+----------+----------+------+--------+------+------+---------+-----------+---------+\n",
      "only showing top 10 rows\n",
      "\n"
     ]
    }
   ],
   "source": [
    "df = pdf.to_spark()  #convertiamo in dataframe spark per effettuare le statistiche descrittive\n",
    "\n",
    "df.show(10)"
   ]
  },
  {
   "cell_type": "code",
   "execution_count": 6,
   "metadata": {},
   "outputs": [],
   "source": [
    "from pyspark.sql.functions import col\n",
    "from pyspark.sql.types import StringType\n",
    "df = df.withColumn(\"F1\",col(\"F1\").cast(StringType()))  \n",
    "#convertiamo in stringa la variabile F1, in quanto in quanto interpretabile come variabile categorica a 5 livelli"
   ]
  },
  {
   "cell_type": "code",
   "execution_count": 7,
   "metadata": {},
   "outputs": [
    {
     "name": "stdout",
     "output_type": "stream",
     "text": [
      "root\n",
      " |-- F1: string (nullable = false)\n",
      " |-- F2: long (nullable = false)\n",
      " |-- F3: long (nullable = false)\n",
      " |-- F4: string (nullable = false)\n",
      " |-- Rep: long (nullable = false)\n",
      " |-- MODEL_OF: long (nullable = false)\n",
      " |-- MODEL_OFUB: long (nullable = false)\n",
      " |-- MODEL_TIME: double (nullable = false)\n",
      " |-- CBC_OF: long (nullable = false)\n",
      " |-- CBC_TIME: double (nullable = false)\n",
      " |-- CBC_FC: long (nullable = false)\n",
      " |-- CBC_PC: long (nullable = false)\n",
      " |-- NEWCBC_OF: long (nullable = false)\n",
      " |-- NEWCBC_TIME: double (nullable = false)\n",
      " |-- NEWCBC_FC: long (nullable = false)\n",
      "\n"
     ]
    }
   ],
   "source": [
    "df.printSchema()\n",
    "#long è un particolare tipo di integer, dunque non sembra che abbiamo altro da modificare"
   ]
  },
  {
   "cell_type": "code",
   "execution_count": 8,
   "metadata": {},
   "outputs": [],
   "source": [
    "#STATISTICHE DESCRITTIVE"
   ]
  },
  {
   "cell_type": "code",
   "execution_count": 9,
   "metadata": {},
   "outputs": [
    {
     "name": "stdout",
     "output_type": "stream",
     "text": [
      "+-------+-----------------+-----------------+-------------------+\n",
      "|summary|       MODEL_TIME|         CBC_TIME|        NEWCBC_TIME|\n",
      "+-------+-----------------+-----------------+-------------------+\n",
      "|  count|              400|              400|                400|\n",
      "|   mean|       293.390935|      254.8061825|0.19791249999999994|\n",
      "| stddev|880.5823451249038|775.7127981301821|0.23503598581988636|\n",
      "|    min|             0.08|             0.01|              0.011|\n",
      "|    max|           3600.0|           3600.0|              1.562|\n",
      "+-------+-----------------+-----------------+-------------------+\n",
      "\n"
     ]
    }
   ],
   "source": [
    "df.describe('MODEL_TIME','CBC_TIME','NEWCBC_TIME').show()\n",
    "#si noti la netta disuguaglianza tra i tempi medi di computazione degli algoritmi, probabilmente dovuta al fatto che\n",
    "#i valori massimi riscontrati nei primi due algoritmi siano decisamente alti, e forse anche inverosimili"
   ]
  },
  {
   "cell_type": "code",
   "execution_count": 10,
   "metadata": {},
   "outputs": [
    {
     "name": "stdout",
     "output_type": "stream",
     "text": [
      "+-------+------------------+------------------+-----------------+\n",
      "|summary|          MODEL_OF|            CBC_OF|        NEWCBC_OF|\n",
      "+-------+------------------+------------------+-----------------+\n",
      "|  count|               400|               400|              400|\n",
      "|   mean|          281.9075|          281.8625|           281.81|\n",
      "| stddev|102.20495867468581|102.18639214984306|102.0867678517939|\n",
      "|    min|                82|                82|               82|\n",
      "|    max|               658|               658|              658|\n",
      "+-------+------------------+------------------+-----------------+\n",
      "\n"
     ]
    }
   ],
   "source": [
    "df.describe('MODEL_OF','CBC_OF','NEWCBC_OF').show()\n",
    "#si noti la grande somiglianza in termini di media e varianza tra le variabili relative alla OF degli algoritimi\n",
    "#questo faciliterà la fase di test successiva"
   ]
  },
  {
   "cell_type": "code",
   "execution_count": 11,
   "metadata": {},
   "outputs": [
    {
     "name": "stdout",
     "output_type": "stream",
     "text": [
      "+------------------+------------------+\n",
      "|skewness(MODEL_OF)|kurtosis(MODEL_OF)|\n",
      "+------------------+------------------+\n",
      "|0.7403895423730211|0.6606302471638288|\n",
      "+------------------+------------------+\n",
      "\n",
      "+------------------+------------------+\n",
      "|  skewness(CBC_OF)|  kurtosis(CBC_OF)|\n",
      "+------------------+------------------+\n",
      "|0.7434884438864577|0.6678631709732343|\n",
      "+------------------+------------------+\n",
      "\n",
      "+-------------------+-------------------+\n",
      "|skewness(NEWCBC_OF)|kurtosis(NEWCBC_OF)|\n",
      "+-------------------+-------------------+\n",
      "| 0.7415224764900218| 0.6733326442788319|\n",
      "+-------------------+-------------------+\n",
      "\n"
     ]
    }
   ],
   "source": [
    "from pyspark.sql.functions import col, skewness, kurtosis\n",
    "\n",
    "df.select(skewness('MODEL_OF'),kurtosis('MODEL_OF')).show()\n",
    "df.select(skewness('CBC_OF'),kurtosis('CBC_OF')).show()\n",
    "df.select(skewness('NEWCBC_OF'),kurtosis('NEWCBC_OF')).show()  #valuta se fare per time\n",
    "\n",
    "#si notano valori molto simili per asimmetria e curtosi tra le varie obj function dei modelli\n",
    "#si notano valori positivi per entrambe le misure\n",
    "#dal valore della asimmetria si nota come la coda della distribuzione di probabilità sarà spostata più verso destra (valore positivo)\n",
    "#più il valore di curtosi si allontana dallo zero, più le code saranno \"pesanti\"\n"
   ]
  },
  {
   "cell_type": "code",
   "execution_count": null,
   "metadata": {},
   "outputs": [],
   "source": []
  },
  {
   "cell_type": "code",
   "execution_count": 12,
   "metadata": {},
   "outputs": [],
   "source": [
    "#valutiamo graficamente i dati"
   ]
  },
  {
   "cell_type": "code",
   "execution_count": 13,
   "metadata": {},
   "outputs": [],
   "source": [
    "x_MOD_TIME=df.select('MODEL_TIME').rdd.map(lambda row : row.MODEL_TIME).collect()\n",
    "x_CBC_TIME=df.select('CBC_TIME').rdd.map(lambda row : row.CBC_TIME).collect()\n",
    "x_NEWCBC_TIME=df.select('NEWCBC_TIME').rdd.map(lambda row : row.NEWCBC_TIME).collect()\n",
    "\n",
    "x_MOD_OF=df.select('MODEL_OF').rdd.map(lambda row : row.MODEL_OF).collect()\n",
    "x_CBC_OF=df.select('CBC_OF').rdd.map(lambda row : row.CBC_OF).collect()\n",
    "x_NEWCBC_OF=df.select('NEWCBC_OF').rdd.map(lambda row : row.NEWCBC_OF).collect()\n",
    "y=df.select('F1').rdd.map(lambda row : row.F1).collect()\n",
    "\n",
    "#in questo modo si riesce ad isolare le colonne che ci interessano dal dataframe spark, per poter fare delle\n",
    "#analisi ed anche i test statistici successivamente"
   ]
  },
  {
   "cell_type": "code",
   "execution_count": 14,
   "metadata": {},
   "outputs": [
    {
     "data": {
      "image/png": "[encoded data removed]",
      "text/plain": [
       "<Figure size 1800x576 with 3 Axes>"
      ]
     },
     "metadata": {
      "needs_background": "light"
     },
     "output_type": "display_data"
    }
   ],
   "source": [
    "dic={'x_MOD_OF':x_MOD_OF,'x_CBC_OF':x_CBC_OF,'x_NEWCBC_OF':x_NEWCBC_OF}\n",
    "\n",
    "bins=np.arange(50,700,30)\n",
    "fig=plt.figure(figsize=(25,8))\n",
    "\n",
    "n=1\n",
    "for k,v in dic.items():\n",
    "    \n",
    "    hist, bin_edges =np.histogram(v,bins,weights=np.zeros_like(v)+ 100. /len(v))\n",
    "\n",
    "    ax=fig.add_subplot(1,3,n)\n",
    "    ax.bar(range(len(hist)),hist,width=1,alpha=0.8,ec='black',color='gold')\n",
    "    ax.set_xticks([0.5+i for i,j in enumerate(hist)])\n",
    "\n",
    "    labels =['{}'.format(int(bins[i+1])) for i,j in enumerate(hist)]\n",
    "    ax.set_xticklabels(labels)\n",
    "    plt.xlabel(k)\n",
    "    plt.ylabel('frequency')\n",
    "    \n",
    "    n+= 1\n",
    "\n",
    "plt.show()"
   ]
  },
  {
   "cell_type": "code",
   "execution_count": 15,
   "metadata": {},
   "outputs": [
    {
     "data": {
      "image/png": "[encoded data removed]",
      "text/plain": [
       "<Figure size 1800x1800 with 3 Axes>"
      ]
     },
     "metadata": {
      "needs_background": "light"
     },
     "output_type": "display_data"
    }
   ],
   "source": [
    "import numpy as np\n",
    "x1=np.log10(x_MOD_TIME)\n",
    "x2=np.log10(x_CBC_TIME)\n",
    "x3=np.log10(x_NEWCBC_TIME)\n",
    "\n",
    "dic={'x_MOD_TIME':x1,'x_CBC_TIME':x2,'x_NEWCBC_TIME':x3}\n",
    "\n",
    "bins=np.arange(0,4,0.1)\n",
    "fig=plt.figure(figsize=(25,25))\n",
    "\n",
    "n=1\n",
    "for k,v in dic.items():\n",
    "    \n",
    "    hist, bin_edges =np.histogram(v,bins,weights=np.zeros_like(v)+ 100. /len(v))\n",
    "\n",
    "    ax=fig.add_subplot(3,1,n)\n",
    "    ax.bar(range(len(hist)),hist,width=1,alpha=0.7,ec='black',color='green')\n",
    "    ax.set_xticks([0.5+i for i,j in enumerate(hist)])\n",
    "\n",
    "    labels =['{}'.format(int(bins[i+1])) for i,j in enumerate(hist)]\n",
    "    ax.set_xticklabels(labels)\n",
    "    plt.xlabel(k)\n",
    "    plt.ylabel('frequency')\n",
    "    \n",
    "    n+= 1\n",
    "\n",
    "plt.show() "
   ]
  },
  {
   "cell_type": "code",
   "execution_count": 16,
   "metadata": {},
   "outputs": [],
   "source": [
    "#analizzando i due gruppi di istogrammi, si evince un andamento gaussiano dal primo gruppo (objective function di\n",
    "# tutti i tre algoritmi), a differenza dal secondo gruppo (relativo al tempo di esecuzione degli algoritmi)"
   ]
  },
  {
   "cell_type": "code",
   "execution_count": null,
   "metadata": {},
   "outputs": [],
   "source": []
  },
  {
   "cell_type": "code",
   "execution_count": 17,
   "metadata": {},
   "outputs": [],
   "source": [
    "#suddividiamo ora il dataset nei 4 gruppi di risultati, secondo la feature F4 (A,B,C,F)\n",
    "df_a=df.filter(df.F4=='A')\n",
    "df_b=df.filter(df.F4=='B')\n",
    "df_c=df.filter(df.F4=='C')\n",
    "df_f=df.filter(df.F4=='F')\n",
    "#si escludono E e D in quanto hanno differenti condizioni"
   ]
  },
  {
   "cell_type": "code",
   "execution_count": 18,
   "metadata": {},
   "outputs": [
    {
     "data": {
      "image/png": "[encoded data removed]",
      "text/plain": [
       "<Figure size 1440x576 with 1 Axes>"
      ]
     },
     "metadata": {
      "needs_background": "light"
     },
     "output_type": "display_data"
    },
    {
     "data": {
      "image/png": "[encoded data removed]",
      "text/plain": [
       "<Figure size 432x288 with 1 Axes>"
      ]
     },
     "metadata": {
      "needs_background": "light"
     },
     "output_type": "display_data"
    },
    {
     "data": {
      "image/png": "[encoded data removed]",
      "text/plain": [
       "<Figure size 432x288 with 1 Axes>"
      ]
     },
     "metadata": {
      "needs_background": "light"
     },
     "output_type": "display_data"
    },
    {
     "data": {
      "image/png": "[encoded data removed]",
      "text/plain": [
       "<Figure size 432x288 with 1 Axes>"
      ]
     },
     "metadata": {
      "needs_background": "light"
     },
     "output_type": "display_data"
    }
   ],
   "source": [
    "import matplotlib.pyplot as plt\n",
    "\n",
    "#si analizzano i boxplot relativi al tempo di computazione dell'algoritmo NEWCBC, in quanto dalle\n",
    "#analisi precedenti è risultato essere il migliore \n",
    "\n",
    "a = df_a.select('NEWCBC_TIME').toPandas()\n",
    "b = df_b.select('NEWCBC_TIME').toPandas()\n",
    "c = df_c.select('NEWCBC_TIME').toPandas()\n",
    "f = df_f.select('NEWCBC_TIME').toPandas()\n",
    "\n",
    "fig = plt.figure(figsize=(20, 8))\n",
    "\n",
    "ax = fig.add_subplot(2, 2, 1)\n",
    "ax = sns.boxplot(data=a)\n",
    "plt.xlabel('results_A')\n",
    "plt.ylim(0,0.5)\n",
    "plt.show()\n",
    "\n",
    "bx = fig.add_subplot(2, 2, 2)\n",
    "bx = sns.boxplot(data=b)\n",
    "plt.xlabel('results_B')\n",
    "plt.ylim(0,0.5)\n",
    "plt.show()\n",
    "\n",
    "cx = fig.add_subplot(2, 2, 3)\n",
    "cx = sns.boxplot(data=c)\n",
    "plt.xlabel('results_C')\n",
    "plt.ylim(0,0.5)\n",
    "plt.show()\n",
    "\n",
    "fx = fig.add_subplot(2, 2, 4)\n",
    "fx = sns.boxplot(data=f)\n",
    "plt.xlabel('results_F')\n",
    "plt.ylim(0,0.5)\n",
    "plt.show()\n",
    "\n",
    "#show plot\n",
    "\n",
    "\n",
    "#si nota come tutti i tempi di computazione per l'algoritmo NEWCBC nei 4 gruppi di analisi considerati\n",
    "#risultano molto simili in media, soprattutto per i gruppi A,B ed F. Il gruppo C risulta essere\n",
    "#leggermente migliore degli altri, seppur presentando alcuni valori anomali in più rispetto agli altri"
   ]
  },
  {
   "cell_type": "code",
   "execution_count": null,
   "metadata": {},
   "outputs": [],
   "source": []
  },
  {
   "cell_type": "code",
   "execution_count": null,
   "metadata": {},
   "outputs": [],
   "source": []
  },
  {
   "cell_type": "code",
   "execution_count": 19,
   "metadata": {},
   "outputs": [],
   "source": [
    "#PUNTO2: TEST PER EFFECTIVENESS DEGLI ALGORITMI"
   ]
  },
  {
   "cell_type": "code",
   "execution_count": 20,
   "metadata": {},
   "outputs": [],
   "source": [
    "\n",
    "#con effectiveness di un algoritmo si intende la capacità che esso ha di fornire i risultati attesi, \n",
    "#quindi misura quanto buoni sono i suoi risultati\n",
    "\n",
    "#si decide di effettuare un test ANOVA ad una via per la differenza di medie tra popolazioni:\n",
    "#l’ipotesi alla base è che le osservazioni di ciascun blocco provengano da popolazioni che seguono\n",
    "#una distribuzione normale con uguale varianza costante e con eventuale media diversa per alcune\n",
    "#popolazioni.\n",
    "\n",
    "\n",
    "#si decide per questa tipologia di test dal momento che dalle statistiche descrittive i valori delle medie\n",
    "#e delle varianze risultano essere molto vicini\n",
    "\n"
   ]
  },
  {
   "cell_type": "code",
   "execution_count": 21,
   "metadata": {},
   "outputs": [],
   "source": [
    "#check assunzioni"
   ]
  },
  {
   "cell_type": "code",
   "execution_count": 22,
   "metadata": {},
   "outputs": [
    {
     "name": "stdout",
     "output_type": "stream",
     "text": [
      "0.0006171626858153552 0.999691466263418\n"
     ]
    }
   ],
   "source": [
    "import scipy.stats as stats\n",
    "w, pvalue = stats.bartlett(x_MOD_OF,x_CBC_OF,x_NEWCBC_OF)\n",
    "print(w, pvalue)  #bartlett per test omoschedasticità\n",
    "\n",
    "#omoschedasticità confermata dal momento che il p-value è molto vicino ad uno\n",
    "#questo ci porta a non rifiutare l' H0: presenza di omoschedasticità (uguale varianza tra le popolazioni)"
   ]
  },
  {
   "cell_type": "code",
   "execution_count": 23,
   "metadata": {},
   "outputs": [],
   "source": [
    "#normalità\n",
    "\n",
    "import scipy.stats as sci\n",
    "\n",
    "def kolmos(x_of):\n",
    "    val=(x_of-np.mean(x_of))/np.std(x_of)\n",
    "    print(sci.kstest(val,'norm'))\n",
    "    \n",
    "#definiamo questa funzione in quanto la useremo più volte"
   ]
  },
  {
   "cell_type": "code",
   "execution_count": 24,
   "metadata": {},
   "outputs": [
    {
     "name": "stdout",
     "output_type": "stream",
     "text": [
      "KstestResult(statistic=0.056732976986455075, pvalue=0.1466042846478776)\n",
      "KstestResult(statistic=0.05655028376444238, pvalue=0.14907215558115136)\n",
      "KstestResult(statistic=0.05630385773371849, pvalue=0.15245393870965315)\n"
     ]
    }
   ],
   "source": [
    "kolmos(x_MOD_OF) \n",
    "kolmos(x_CBC_OF) \n",
    "kolmos(x_NEWCBC_OF)  \n",
    "\n",
    "#i risultati del kolmogorov test per le objective function dei tre algoritmi forniscono risultati soddisfacenti\n",
    "#come si evince dal pvalue lontano da zero. Anche con un valore piccolo di livello di significatività alfa, possiamo\n",
    "#non rifiutare l'H0: dati per Of degli algoritmi provenienti da popolazioni gaussiane\n",
    "\n",
    "#la normalità poteva anche essere evinta solamente guardando gli istogrammi nella sezione statistiche descrittive"
   ]
  },
  {
   "cell_type": "code",
   "execution_count": 25,
   "metadata": {},
   "outputs": [],
   "source": [
    "#dunque le assunzioni sono rispettate, si può effettuare il test:"
   ]
  },
  {
   "cell_type": "code",
   "execution_count": 26,
   "metadata": {},
   "outputs": [
    {
     "name": "stdout",
     "output_type": "stream",
     "text": [
      "9.126587788022899e-05 0.9999087382936496\n"
     ]
    }
   ],
   "source": [
    "#test  ANOVA AD UNA VIA\n",
    "\n",
    "#H0: valore medio di OF dei tre algoritmi approssimativamente uguale\n",
    "#H1: almeno una media è diversa\n",
    "\n",
    "import scipy.stats as stats\n",
    "import numpy as np\n",
    "# stats f_oneway functions takes the groups as input and returns F and P-value\n",
    "fvalue, pvalue = stats.f_oneway(x_MOD_OF,x_CBC_OF,x_NEWCBC_OF)  #con fvalue si indica la statistica test di fisher del test anova d una via\n",
    "print(fvalue, pvalue) \n",
    "\n",
    "# il pvalue del test ci indiuce a non rifiutare l'ipotesi nulla del test, dunque come da pronostico\n",
    "#gli algoritmi risultano essere approssimativamente equivalenti in quanto a valore medio di funzione obiettivo restituita"
   ]
  },
  {
   "cell_type": "code",
   "execution_count": null,
   "metadata": {},
   "outputs": [],
   "source": []
  },
  {
   "cell_type": "code",
   "execution_count": null,
   "metadata": {},
   "outputs": [],
   "source": []
  },
  {
   "cell_type": "code",
   "execution_count": 27,
   "metadata": {},
   "outputs": [],
   "source": [
    "#PUNTO3: TEST PER EFFICIENCY DEGLI ALGORITMI"
   ]
  },
  {
   "cell_type": "code",
   "execution_count": 28,
   "metadata": {},
   "outputs": [],
   "source": [
    "#gli istogrammi presentati al punto 1 dell'assignement lasciano dei dubbi sulla normalità delle popolazioni di provenienzxa dei dati\n",
    "#dunque vengono controllate:"
   ]
  },
  {
   "cell_type": "code",
   "execution_count": 29,
   "metadata": {},
   "outputs": [
    {
     "name": "stdout",
     "output_type": "stream",
     "text": [
      "KstestResult(statistic=0.43254385843408105, pvalue=1.5548647892293087e-68)\n",
      "KstestResult(statistic=0.4135086852762027, pvalue=2.050116267773224e-62)\n",
      "KstestResult(statistic=0.21294438927509368, pvalue=2.138962482527853e-16)\n"
     ]
    }
   ],
   "source": [
    "#valutiamo la normalità con ks test\n",
    "kolmos(x_MOD_TIME)\n",
    "kolmos(x_CBC_TIME)\n",
    "kolmos(x_NEWCBC_TIME)\n",
    "#normalità rifiutata nettamente"
   ]
  },
  {
   "cell_type": "code",
   "execution_count": null,
   "metadata": {},
   "outputs": [],
   "source": []
  },
  {
   "cell_type": "code",
   "execution_count": 30,
   "metadata": {},
   "outputs": [
    {
     "name": "stdout",
     "output_type": "stream",
     "text": [
      "6033.3643237317165 0.0\n"
     ]
    }
   ],
   "source": [
    "#test omoschedasticità\n",
    "w, pvalue = stats.bartlett(x_MOD_TIME,x_CBC_TIME,x_NEWCBC_TIME)\n",
    "print(w, pvalue)\n",
    "\n",
    "#omoschedasticità rifiutata nettamente"
   ]
  },
  {
   "cell_type": "code",
   "execution_count": 31,
   "metadata": {},
   "outputs": [],
   "source": [
    "#non essendo rispettate le condizioni, non si può effettuare ancora il test ANOVA, duqnue si opta per il test:"
   ]
  },
  {
   "cell_type": "code",
   "execution_count": 32,
   "metadata": {},
   "outputs": [],
   "source": [
    "#test differenza medie popolazioni non normali ed eteroschedastiche:\n"
   ]
  },
  {
   "cell_type": "code",
   "execution_count": 33,
   "metadata": {},
   "outputs": [
    {
     "data": {
      "text/plain": [
       "1.6448536269514722"
      ]
     },
     "execution_count": 33,
     "metadata": {},
     "output_type": "execute_result"
    }
   ],
   "source": [
    "#impostiamo il quantile della normale di riferimento per valutare la riuscita del test:\n",
    "\n",
    "import scipy.stats as st\n",
    "st.norm.ppf(.95) #normale standard alfa=0.05"
   ]
  },
  {
   "cell_type": "code",
   "execution_count": 34,
   "metadata": {},
   "outputs": [],
   "source": [
    "def z(x1,x2):\n",
    "    z = (np.mean(x1)-np.mean(x2))/np.sqrt((np.var(x1)/400)+(np.var(x2)/400))\n",
    "    #stat test utilizzata in caso di non normalità ed eterosched. delle popolazioni di riferimento\n",
    "    #sotto H0 è approssimabile come una normale standard dal momento che la numerosità campionaria = 400 (grande)\n",
    "    print(z)\n",
    "    return z\n",
    "#impostiamo una funzione per calcolare la statistica test sotto ipotesi nulla nei tre vari test"
   ]
  },
  {
   "cell_type": "code",
   "execution_count": 35,
   "metadata": {},
   "outputs": [
    {
     "name": "stdout",
     "output_type": "stream",
     "text": [
      "0.6584120252610547\n"
     ]
    }
   ],
   "source": [
    "#H0: differenza tra le medie di tempo computazionale impiegato per fornire risultati dagli algoritmi \n",
    "#MODEL e CBC = 0\n",
    "\n",
    "#H1: differenza tra le medie di tempo computazionale impiegato per fornire risultati dagli algoritmi \n",
    "#MODEL e CBC > 0\n",
    "\n",
    "Z_1 = z(x_MOD_TIME,x_CBC_TIME)\n",
    "\n",
    "#essendo il valore della statistica test minore del quantile della normale (1.64), non rifiutiamo H0, dunque non vi\n",
    "#è differenza nello scegliere uno o l'altro algoritmo in base al tempo di computazione"
   ]
  },
  {
   "cell_type": "code",
   "execution_count": 36,
   "metadata": {},
   "outputs": [
    {
     "name": "stdout",
     "output_type": "stream",
     "text": [
      "6.667410346176009\n"
     ]
    }
   ],
   "source": [
    "#H0: differenza tra le medie di tempo computazionale impiegato per fornire risultati dagli algoritmi \n",
    "#MODEL e NEWCBC = 0\n",
    "\n",
    "#H1: differenza tra le medie di tempo computazionale impiegato per fornire risultati dagli algoritmi \n",
    "#MODEL e NEWCBC > 0\n",
    "\n",
    "Z_2 = z(x_MOD_TIME,x_NEWCBC_TIME)\n",
    "\n",
    "#essendo il valore della statistica test ampiamente maggiore del quantile della normale (1.64),rifiutiamo H0\n",
    "# e dunque accettiamo che il tempo medio di computazione per MODEL sia nettamente maggiore del tempo di NEWCBC\n",
    "#dunque NEWCBC è migliore di MODEL\n"
   ]
  },
  {
   "cell_type": "code",
   "execution_count": 37,
   "metadata": {},
   "outputs": [
    {
     "name": "stdout",
     "output_type": "stream",
     "text": [
      "6.572719110326601\n"
     ]
    }
   ],
   "source": [
    "#H0: differenza tra le medie di tempo computazionale impiegato per fornire risultati dagli algoritmi \n",
    "#CBC e NEWCBC = 0\n",
    "\n",
    "#H1: differenza tra le medie di tempo computazionale impiegato per fornire risultati dagli algoritmi \n",
    "#CBC e NEWCBC > 0\n",
    "\n",
    "Z_3 = z(x_CBC_TIME,x_NEWCBC_TIME)\n",
    "\n",
    "#essendo il valore della statistica test ampiamente maggiore del quantile della normale (1.64),rifiutiamo H0\n",
    "# e dunque accettiamo che il tempo medio di computazione per CBC sia nettamente maggiore del tempo di NEWCBC\n",
    "#dunque NEWCBC è migliore di CBC"
   ]
  },
  {
   "cell_type": "code",
   "execution_count": 38,
   "metadata": {},
   "outputs": [],
   "source": [
    "#dunque NEWCBC in base al tempo computazionale è migliore degli altri due algoritmi"
   ]
  },
  {
   "cell_type": "code",
   "execution_count": 39,
   "metadata": {},
   "outputs": [],
   "source": [
    "#bisogna tenere conto del fatto che esistono alcuni outlier che potrebbero influenzare certamente le analisi\n",
    "#di questo secondo test. Tuttavia non conoscendo a fondo il contesto di analisi e non avendo sufficienti\n",
    "#prove per dimostarre che si tratti effettivamente di errori di battitura, si preferisce lasciare così le cose\n"
   ]
  },
  {
   "cell_type": "code",
   "execution_count": null,
   "metadata": {},
   "outputs": [],
   "source": []
  },
  {
   "cell_type": "code",
   "execution_count": 40,
   "metadata": {},
   "outputs": [],
   "source": [
    "#PUNTO4: REGRESSIONE LINEARE E ANALISI CORRELAZIONE TRA VARIABILI DI INPUT E DI OUTPUT"
   ]
  },
  {
   "cell_type": "code",
   "execution_count": null,
   "metadata": {},
   "outputs": [],
   "source": []
  },
  {
   "cell_type": "code",
   "execution_count": null,
   "metadata": {},
   "outputs": [],
   "source": []
  },
  {
   "cell_type": "code",
   "execution_count": 41,
   "metadata": {},
   "outputs": [
    {
     "data": {
      "text/html": [
       "<div>\n",
       "<style scoped>\n",
       "    .dataframe tbody tr th:only-of-type {\n",
       "        vertical-align: middle;\n",
       "    }\n",
       "\n",
       "    .dataframe tbody tr th {\n",
       "        vertical-align: top;\n",
       "    }\n",
       "\n",
       "    .dataframe thead th {\n",
       "        text-align: right;\n",
       "    }\n",
       "</style>\n",
       "<table border=\"1\" class=\"dataframe\">\n",
       "  <thead>\n",
       "    <tr style=\"text-align: right;\">\n",
       "      <th></th>\n",
       "      <th>MODEL_OF</th>\n",
       "      <th>MODEL_OFUB</th>\n",
       "      <th>MODEL_TIME</th>\n",
       "      <th>CBC_OF</th>\n",
       "      <th>CBC_TIME</th>\n",
       "      <th>CBC_FC</th>\n",
       "      <th>CBC_PC</th>\n",
       "      <th>NEWCBC_OF</th>\n",
       "      <th>NEWCBC_TIME</th>\n",
       "      <th>NEWCBC_FC</th>\n",
       "    </tr>\n",
       "  </thead>\n",
       "  <tbody>\n",
       "    <tr>\n",
       "      <th>F2</th>\n",
       "      <td>0.540895</td>\n",
       "      <td>0.572436</td>\n",
       "      <td>0.583499</td>\n",
       "      <td>0.540677</td>\n",
       "      <td>0.584216</td>\n",
       "      <td>0.297691</td>\n",
       "      <td>0.444480</td>\n",
       "      <td>0.539737</td>\n",
       "      <td>0.534790</td>\n",
       "      <td>None</td>\n",
       "    </tr>\n",
       "    <tr>\n",
       "      <th>F3</th>\n",
       "      <td>0.628034</td>\n",
       "      <td>0.659081</td>\n",
       "      <td>0.577608</td>\n",
       "      <td>0.627819</td>\n",
       "      <td>0.583315</td>\n",
       "      <td>0.346445</td>\n",
       "      <td>0.451041</td>\n",
       "      <td>0.627523</td>\n",
       "      <td>0.524556</td>\n",
       "      <td>None</td>\n",
       "    </tr>\n",
       "    <tr>\n",
       "      <th>Rep</th>\n",
       "      <td>-0.168373</td>\n",
       "      <td>-0.183636</td>\n",
       "      <td>-0.269951</td>\n",
       "      <td>-0.166947</td>\n",
       "      <td>-0.281157</td>\n",
       "      <td>-0.167943</td>\n",
       "      <td>-0.219248</td>\n",
       "      <td>-0.168601</td>\n",
       "      <td>-0.293570</td>\n",
       "      <td>None</td>\n",
       "    </tr>\n",
       "  </tbody>\n",
       "</table>\n",
       "</div>"
      ],
      "text/plain": [
       "     MODEL_OF  MODEL_OFUB  MODEL_TIME    CBC_OF  CBC_TIME    CBC_FC    CBC_PC  NEWCBC_OF  NEWCBC_TIME NEWCBC_FC\n",
       "F2   0.540895    0.572436    0.583499  0.540677  0.584216  0.297691  0.444480   0.539737     0.534790      None\n",
       "F3   0.628034    0.659081    0.577608  0.627819  0.583315  0.346445  0.451041   0.627523     0.524556      None\n",
       "Rep -0.168373   -0.183636   -0.269951 -0.166947 -0.281157 -0.167943 -0.219248  -0.168601    -0.293570      None"
      ]
     },
     "execution_count": 41,
     "metadata": {},
     "output_type": "execute_result"
    }
   ],
   "source": [
    "kdf=df.to_koalas() #si converte  il file spark in koalas e si effettuano alcune operazione per ottenere una sorta\n",
    "#di matrice di correlazione, con a sinistra le variabili di input e in alto nella tabella quelle di output. \n",
    "corr=ks.DataFrame.corr(kdf)\n",
    "corr=corr.drop(['F2','F3','Rep'],axis=1)\n",
    "corr=corr.iloc[0:3,:]\n",
    "corr\n",
    "\n",
    "#ad ogni modo non spicca nessuna correlazione in particolare tra le varibili di input ed output, ad indicare \n",
    "#che nessuna variabile numerica di input influenza in maniera netta nessuna delle variabili di output"
   ]
  },
  {
   "cell_type": "code",
   "execution_count": null,
   "metadata": {},
   "outputs": [],
   "source": []
  },
  {
   "cell_type": "code",
   "execution_count": 42,
   "metadata": {},
   "outputs": [],
   "source": [
    "#a questo punto entraimo nel vivo della modellazione per capire l'impatto delle features di input sulla variabili\n",
    "#di input relative al TIME, tempo di computazione degli algoritmi:"
   ]
  },
  {
   "cell_type": "code",
   "execution_count": null,
   "metadata": {},
   "outputs": [],
   "source": []
  },
  {
   "cell_type": "code",
   "execution_count": 43,
   "metadata": {},
   "outputs": [
    {
     "name": "stdout",
     "output_type": "stream",
     "text": [
      "+---+---+---+---+---+--------+----------+----------+------+--------+------+------+---------+-----------+---------+\n",
      "| F1| F2| F3| F4|Rep|MODEL_OF|MODEL_OFUB|MODEL_TIME|CBC_OF|CBC_TIME|CBC_FC|CBC_PC|NEWCBC_OF|NEWCBC_TIME|NEWCBC_FC|\n",
      "+---+---+---+---+---+--------+----------+----------+------+--------+------+------+---------+-----------+---------+\n",
      "|  3|400|  9|  A|  1|     197|       197|      0.29|   197|    0.02|     0|     1|      197|      0.056|        0|\n",
      "|  3|400|  9|  A|  2|     162|       162|      0.24|   162|    0.02|     0|     0|      162|      0.016|        0|\n",
      "|  3|400|  9|  A|  3|     165|       165|      0.85|   165|    0.01|     0|     0|      165|      0.023|        0|\n",
      "|  3|400|  6|  A|  4|     178|       178|     0.311|   178|    0.02|     0|     1|      178|      0.012|        0|\n",
      "|  3|400|  9|  A|  5|     220|       220|      0.72|   220|    0.03|     0|     1|      220|      0.038|        0|\n",
      "|  3|400|  7|  A|  6|     162|       162|     1.085|   162|    0.03|     0|     2|      162|      0.014|        0|\n",
      "|  3|400|  8|  A|  7|     108|       108|      1.58|   108|    0.05|     0|     1|      108|      0.092|        0|\n",
      "|  3|400|  7|  A|  8|     201|       201|      0.11|   201|    0.02|     0|     1|      201|      0.016|        0|\n",
      "|  3|400| 10|  A|  9|     201|       201|      0.58|   201|    0.05|     0|     2|      201|      0.031|        0|\n",
      "|  3|400|  8|  A| 10|     156|       156|      0.19|   156|    0.05|     1|     1|      156|      0.074|        0|\n",
      "|  3|500|  8|  A|  1|     159|       159|      0.95|   159|    0.04|     0|     2|      159|      0.018|        0|\n",
      "|  3|500|  8|  A|  2|     169|       169|       1.3|   169|    0.44|     0|     2|      169|      0.084|        0|\n",
      "|  3|500|  9|  A|  3|     156|       156|      0.61|   156|    0.06|     0|     3|      156|       0.03|        0|\n",
      "|  3|500| 10|  A|  4|     293|       293|      0.52|   293|   0.074|     0|     3|      293|      0.047|        0|\n",
      "|  3|500|  9|  A|  5|     118|       118|     1.427|   118|    0.02|     0|     1|      118|      0.062|        0|\n",
      "|  3|500|  9|  A|  6|     150|       150|      0.25|   150|    0.02|     0|     1|      150|      0.016|        0|\n",
      "|  3|500| 10|  A|  7|     220|       220|      0.16|   220|    0.02|     0|     1|      220|      0.019|        0|\n",
      "|  3|500| 10|  A|  8|     172|       172|      1.14|   172|    0.11|     0|     3|      172|      0.116|        0|\n",
      "|  3|500| 10|  A|  9|     246|       246|      0.85|   246|    0.36|     0|     2|      246|      0.091|        0|\n",
      "|  3|500|  8|  A| 10|     177|       177|      0.11|   177|    0.01|     0|     0|      177|      0.011|        0|\n",
      "+---+---+---+---+---+--------+----------+----------+------+--------+------+------+---------+-----------+---------+\n",
      "only showing top 20 rows\n",
      "\n"
     ]
    }
   ],
   "source": [
    "df_prova=df \n",
    "#estraiamo le colonne di output di interesse dal dataset spark iniziale:\n",
    "df_prova.show()\n"
   ]
  },
  {
   "cell_type": "code",
   "execution_count": 44,
   "metadata": {},
   "outputs": [
    {
     "name": "stdout",
     "output_type": "stream",
     "text": [
      "+----------+--------+-----------+\n",
      "|MODEL_TIME|CBC_TIME|NEWCBC_TIME|\n",
      "+----------+--------+-----------+\n",
      "|      0.29|    0.02|      0.056|\n",
      "|      0.24|    0.02|      0.016|\n",
      "|      0.85|    0.01|      0.023|\n",
      "|     0.311|    0.02|      0.012|\n",
      "|      0.72|    0.03|      0.038|\n",
      "|     1.085|    0.03|      0.014|\n",
      "|      1.58|    0.05|      0.092|\n",
      "|      0.11|    0.02|      0.016|\n",
      "|      0.58|    0.05|      0.031|\n",
      "|      0.19|    0.05|      0.074|\n",
      "|      0.95|    0.04|      0.018|\n",
      "|       1.3|    0.44|      0.084|\n",
      "|      0.61|    0.06|       0.03|\n",
      "|      0.52|   0.074|      0.047|\n",
      "|     1.427|    0.02|      0.062|\n",
      "|      0.25|    0.02|      0.016|\n",
      "|      0.16|    0.02|      0.019|\n",
      "|      1.14|    0.11|      0.116|\n",
      "|      0.85|    0.36|      0.091|\n",
      "|      0.11|    0.01|      0.011|\n",
      "+----------+--------+-----------+\n",
      "only showing top 20 rows\n",
      "\n"
     ]
    }
   ],
   "source": [
    "df_prova_out=df_prova.select([\n",
    " 'MODEL_TIME',\n",
    " 'CBC_TIME',\n",
    " 'NEWCBC_TIME'])\n",
    "\n",
    "df_prova_out.show()"
   ]
  },
  {
   "cell_type": "code",
   "execution_count": 45,
   "metadata": {},
   "outputs": [],
   "source": [
    "#gestione outlier:\n",
    "\n",
    "#ci si accorge della presenza di molti outlier nelle distribuzioni delle variabili time, dunque, a fini della modellazione si decide \n",
    "#di effettuarne una pulizia, per ottenere risultati più interpretabili:"
   ]
  },
  {
   "cell_type": "code",
   "execution_count": 46,
   "metadata": {},
   "outputs": [
    {
     "name": "stdout",
     "output_type": "stream",
     "text": [
      "{'MODEL_TIME': {'q1': 1.02, 'q3': 20.808, 'lower': -28.662000000000003, 'upper': 50.49}, 'CBC_TIME': {'q1': 0.09, 'q3': 20.569, 'lower': -30.6285, 'upper': 51.287499999999994}, 'NEWCBC_TIME': {'q1': 0.047, 'q3': 0.26, 'lower': -0.2725, 'upper': 0.5795}}\n"
     ]
    }
   ],
   "source": [
    "bounds = {\n",
    "    c: dict(\n",
    "        zip([\"q1\", \"q3\"], df_prova_out.approxQuantile(c, [0.25, 0.75], 0))\n",
    "    )\n",
    "    for c in df_prova_out.columns\n",
    "}\n",
    "\n",
    "for c in bounds:\n",
    "    iqr = bounds[c]['q3'] - bounds[c]['q1']\n",
    "    bounds[c]['lower'] = bounds[c]['q1'] - (iqr * 1.5)\n",
    "    bounds[c]['upper'] = bounds[c]['q3'] + (iqr * 1.5)\n",
    "print(bounds)\n",
    "\n",
    "#in questo chunk di codice vengono calcolati per ognuna delle variabili di output, che saranno le varibili risposta\n",
    "#delle regressioni, i valori di riferimento per decidere quali osservazioni a loro appartenenti sono outliers"
   ]
  },
  {
   "cell_type": "code",
   "execution_count": 47,
   "metadata": {},
   "outputs": [],
   "source": [
    "import pyspark.sql.functions as f\n",
    "df_prova_out=df_prova_out.select(\n",
    "    \"*\",\n",
    "    *[\n",
    "        f.when(\n",
    "            f.col(c).between(bounds[c]['lower'], bounds[c]['upper']),\n",
    "            0\n",
    "        ).otherwise(1).alias(c+\"_out\") \n",
    "        for c in df_prova_out.columns\n",
    "    ]\n",
    ")\n",
    "\n",
    "#mediante questa operazione di select appendiamo al dataset prova_out altre tre colonne nelle quali si indicano\n",
    "#gli outliers per ogni colonna delle variabili output. Si indica con 1 se una osservazione è outlier, con 0 se invece \n",
    "#la obs non è un outlier.\n",
    "\n",
    "#risulta dunque utile tenere solamente le osservazioni che non sono outlier\n"
   ]
  },
  {
   "cell_type": "code",
   "execution_count": 48,
   "metadata": {},
   "outputs": [
    {
     "name": "stdout",
     "output_type": "stream",
     "text": [
      "+----------+--------+-----------+--------------+------------+---------------+\n",
      "|MODEL_TIME|CBC_TIME|NEWCBC_TIME|MODEL_TIME_out|CBC_TIME_out|NEWCBC_TIME_out|\n",
      "+----------+--------+-----------+--------------+------------+---------------+\n",
      "|      0.29|    0.02|      0.056|             0|           0|              0|\n",
      "|      0.24|    0.02|      0.016|             0|           0|              0|\n",
      "|      0.85|    0.01|      0.023|             0|           0|              0|\n",
      "|     0.311|    0.02|      0.012|             0|           0|              0|\n",
      "|      0.72|    0.03|      0.038|             0|           0|              0|\n",
      "|     1.085|    0.03|      0.014|             0|           0|              0|\n",
      "|      1.58|    0.05|      0.092|             0|           0|              0|\n",
      "|      0.11|    0.02|      0.016|             0|           0|              0|\n",
      "|      0.58|    0.05|      0.031|             0|           0|              0|\n",
      "|      0.19|    0.05|      0.074|             0|           0|              0|\n",
      "|      0.95|    0.04|      0.018|             0|           0|              0|\n",
      "|       1.3|    0.44|      0.084|             0|           0|              0|\n",
      "|      0.61|    0.06|       0.03|             0|           0|              0|\n",
      "|      0.52|   0.074|      0.047|             0|           0|              0|\n",
      "|     1.427|    0.02|      0.062|             0|           0|              0|\n",
      "|      0.25|    0.02|      0.016|             0|           0|              0|\n",
      "|      0.16|    0.02|      0.019|             0|           0|              0|\n",
      "|      1.14|    0.11|      0.116|             0|           0|              0|\n",
      "|      0.85|    0.36|      0.091|             0|           0|              0|\n",
      "|      0.11|    0.01|      0.011|             0|           0|              0|\n",
      "+----------+--------+-----------+--------------+------------+---------------+\n",
      "only showing top 20 rows\n",
      "\n"
     ]
    }
   ],
   "source": [
    "df_prova_out.show()"
   ]
  },
  {
   "cell_type": "code",
   "execution_count": 49,
   "metadata": {},
   "outputs": [],
   "source": [
    "kdf_new=df_prova_out.to_koalas() \n",
    "\n",
    "#convertiamo in koalas per permettere la merge tra il dataset di prova ed il dataset\n",
    "#iniziale, cosi da pulire tutto il dataset iniziale dove serve dagli outlier"
   ]
  },
  {
   "cell_type": "code",
   "execution_count": 50,
   "metadata": {},
   "outputs": [],
   "source": [
    "new_df = kdf.merge(kdf_new, on=['MODEL_TIME', 'CBC_TIME', 'NEWCBC_TIME'], how='inner')"
   ]
  },
  {
   "cell_type": "code",
   "execution_count": 51,
   "metadata": {},
   "outputs": [
    {
     "data": {
      "text/html": [
       "<div>\n",
       "<style scoped>\n",
       "    .dataframe tbody tr th:only-of-type {\n",
       "        vertical-align: middle;\n",
       "    }\n",
       "\n",
       "    .dataframe tbody tr th {\n",
       "        vertical-align: top;\n",
       "    }\n",
       "\n",
       "    .dataframe thead th {\n",
       "        text-align: right;\n",
       "    }\n",
       "</style>\n",
       "<table border=\"1\" class=\"dataframe\">\n",
       "  <thead>\n",
       "    <tr style=\"text-align: right;\">\n",
       "      <th></th>\n",
       "      <th>F1</th>\n",
       "      <th>F2</th>\n",
       "      <th>F3</th>\n",
       "      <th>F4</th>\n",
       "      <th>Rep</th>\n",
       "      <th>MODEL_OF</th>\n",
       "      <th>MODEL_OFUB</th>\n",
       "      <th>MODEL_TIME</th>\n",
       "      <th>CBC_OF</th>\n",
       "      <th>CBC_TIME</th>\n",
       "      <th>CBC_FC</th>\n",
       "      <th>CBC_PC</th>\n",
       "      <th>NEWCBC_OF</th>\n",
       "      <th>NEWCBC_TIME</th>\n",
       "      <th>NEWCBC_FC</th>\n",
       "      <th>MODEL_TIME_out</th>\n",
       "      <th>CBC_TIME_out</th>\n",
       "      <th>NEWCBC_TIME_out</th>\n",
       "    </tr>\n",
       "  </thead>\n",
       "  <tbody>\n",
       "    <tr>\n",
       "      <th>0</th>\n",
       "      <td>20</td>\n",
       "      <td>600</td>\n",
       "      <td>9</td>\n",
       "      <td>D</td>\n",
       "      <td>1</td>\n",
       "      <td>251</td>\n",
       "      <td>261</td>\n",
       "      <td>3600.000</td>\n",
       "      <td>251</td>\n",
       "      <td>3600.000</td>\n",
       "      <td>1</td>\n",
       "      <td>1</td>\n",
       "      <td>251</td>\n",
       "      <td>1.073</td>\n",
       "      <td>0</td>\n",
       "      <td>1</td>\n",
       "      <td>1</td>\n",
       "      <td>1</td>\n",
       "    </tr>\n",
       "    <tr>\n",
       "      <th>1</th>\n",
       "      <td>10</td>\n",
       "      <td>400</td>\n",
       "      <td>7</td>\n",
       "      <td>C</td>\n",
       "      <td>2</td>\n",
       "      <td>195</td>\n",
       "      <td>195</td>\n",
       "      <td>0.240</td>\n",
       "      <td>195</td>\n",
       "      <td>0.030</td>\n",
       "      <td>0</td>\n",
       "      <td>0</td>\n",
       "      <td>195</td>\n",
       "      <td>0.048</td>\n",
       "      <td>0</td>\n",
       "      <td>0</td>\n",
       "      <td>0</td>\n",
       "      <td>0</td>\n",
       "    </tr>\n",
       "    <tr>\n",
       "      <th>2</th>\n",
       "      <td>3</td>\n",
       "      <td>400</td>\n",
       "      <td>7</td>\n",
       "      <td>C</td>\n",
       "      <td>4</td>\n",
       "      <td>187</td>\n",
       "      <td>187</td>\n",
       "      <td>0.860</td>\n",
       "      <td>187</td>\n",
       "      <td>0.010</td>\n",
       "      <td>0</td>\n",
       "      <td>0</td>\n",
       "      <td>187</td>\n",
       "      <td>0.022</td>\n",
       "      <td>0</td>\n",
       "      <td>0</td>\n",
       "      <td>0</td>\n",
       "      <td>0</td>\n",
       "    </tr>\n",
       "    <tr>\n",
       "      <th>3</th>\n",
       "      <td>3</td>\n",
       "      <td>600</td>\n",
       "      <td>9</td>\n",
       "      <td>F</td>\n",
       "      <td>2</td>\n",
       "      <td>264</td>\n",
       "      <td>264</td>\n",
       "      <td>2.040</td>\n",
       "      <td>264</td>\n",
       "      <td>1.680</td>\n",
       "      <td>0</td>\n",
       "      <td>1</td>\n",
       "      <td>264</td>\n",
       "      <td>0.021</td>\n",
       "      <td>0</td>\n",
       "      <td>0</td>\n",
       "      <td>0</td>\n",
       "      <td>0</td>\n",
       "    </tr>\n",
       "    <tr>\n",
       "      <th>4</th>\n",
       "      <td>3</td>\n",
       "      <td>600</td>\n",
       "      <td>12</td>\n",
       "      <td>F</td>\n",
       "      <td>8</td>\n",
       "      <td>340</td>\n",
       "      <td>340</td>\n",
       "      <td>4.850</td>\n",
       "      <td>340</td>\n",
       "      <td>0.300</td>\n",
       "      <td>0</td>\n",
       "      <td>1</td>\n",
       "      <td>340</td>\n",
       "      <td>0.120</td>\n",
       "      <td>0</td>\n",
       "      <td>0</td>\n",
       "      <td>0</td>\n",
       "      <td>0</td>\n",
       "    </tr>\n",
       "    <tr>\n",
       "      <th>5</th>\n",
       "      <td>3</td>\n",
       "      <td>600</td>\n",
       "      <td>12</td>\n",
       "      <td>C</td>\n",
       "      <td>9</td>\n",
       "      <td>475</td>\n",
       "      <td>475</td>\n",
       "      <td>7.437</td>\n",
       "      <td>475</td>\n",
       "      <td>3.009</td>\n",
       "      <td>0</td>\n",
       "      <td>3</td>\n",
       "      <td>475</td>\n",
       "      <td>0.159</td>\n",
       "      <td>0</td>\n",
       "      <td>0</td>\n",
       "      <td>0</td>\n",
       "      <td>0</td>\n",
       "    </tr>\n",
       "    <tr>\n",
       "      <th>6</th>\n",
       "      <td>5</td>\n",
       "      <td>500</td>\n",
       "      <td>10</td>\n",
       "      <td>B</td>\n",
       "      <td>10</td>\n",
       "      <td>438</td>\n",
       "      <td>438</td>\n",
       "      <td>6.990</td>\n",
       "      <td>438</td>\n",
       "      <td>4.596</td>\n",
       "      <td>0</td>\n",
       "      <td>1</td>\n",
       "      <td>438</td>\n",
       "      <td>0.172</td>\n",
       "      <td>0</td>\n",
       "      <td>0</td>\n",
       "      <td>0</td>\n",
       "      <td>0</td>\n",
       "    </tr>\n",
       "    <tr>\n",
       "      <th>7</th>\n",
       "      <td>10</td>\n",
       "      <td>500</td>\n",
       "      <td>8</td>\n",
       "      <td>F</td>\n",
       "      <td>2</td>\n",
       "      <td>232</td>\n",
       "      <td>232</td>\n",
       "      <td>28.775</td>\n",
       "      <td>232</td>\n",
       "      <td>20.759</td>\n",
       "      <td>0</td>\n",
       "      <td>7</td>\n",
       "      <td>232</td>\n",
       "      <td>0.223</td>\n",
       "      <td>0</td>\n",
       "      <td>0</td>\n",
       "      <td>0</td>\n",
       "      <td>0</td>\n",
       "    </tr>\n",
       "    <tr>\n",
       "      <th>8</th>\n",
       "      <td>10</td>\n",
       "      <td>600</td>\n",
       "      <td>10</td>\n",
       "      <td>B</td>\n",
       "      <td>9</td>\n",
       "      <td>337</td>\n",
       "      <td>337</td>\n",
       "      <td>512.083</td>\n",
       "      <td>337</td>\n",
       "      <td>2475.750</td>\n",
       "      <td>0</td>\n",
       "      <td>48</td>\n",
       "      <td>337</td>\n",
       "      <td>0.334</td>\n",
       "      <td>0</td>\n",
       "      <td>1</td>\n",
       "      <td>1</td>\n",
       "      <td>0</td>\n",
       "    </tr>\n",
       "    <tr>\n",
       "      <th>9</th>\n",
       "      <td>5</td>\n",
       "      <td>600</td>\n",
       "      <td>10</td>\n",
       "      <td>C</td>\n",
       "      <td>2</td>\n",
       "      <td>323</td>\n",
       "      <td>323</td>\n",
       "      <td>0.280</td>\n",
       "      <td>323</td>\n",
       "      <td>0.090</td>\n",
       "      <td>0</td>\n",
       "      <td>0</td>\n",
       "      <td>323</td>\n",
       "      <td>0.040</td>\n",
       "      <td>0</td>\n",
       "      <td>0</td>\n",
       "      <td>0</td>\n",
       "      <td>0</td>\n",
       "    </tr>\n",
       "  </tbody>\n",
       "</table>\n",
       "</div>"
      ],
      "text/plain": [
       "   F1   F2  F3 F4  Rep  MODEL_OF  MODEL_OFUB  MODEL_TIME  CBC_OF  CBC_TIME  CBC_FC  CBC_PC  NEWCBC_OF  NEWCBC_TIME  NEWCBC_FC  MODEL_TIME_out  CBC_TIME_out  NEWCBC_TIME_out\n",
       "0  20  600   9  D    1       251         261    3600.000     251  3600.000       1       1        251        1.073          0               1             1                1\n",
       "1  10  400   7  C    2       195         195       0.240     195     0.030       0       0        195        0.048          0               0             0                0\n",
       "2   3  400   7  C    4       187         187       0.860     187     0.010       0       0        187        0.022          0               0             0                0\n",
       "3   3  600   9  F    2       264         264       2.040     264     1.680       0       1        264        0.021          0               0             0                0\n",
       "4   3  600  12  F    8       340         340       4.850     340     0.300       0       1        340        0.120          0               0             0                0\n",
       "5   3  600  12  C    9       475         475       7.437     475     3.009       0       3        475        0.159          0               0             0                0\n",
       "6   5  500  10  B   10       438         438       6.990     438     4.596       0       1        438        0.172          0               0             0                0\n",
       "7  10  500   8  F    2       232         232      28.775     232    20.759       0       7        232        0.223          0               0             0                0\n",
       "8  10  600  10  B    9       337         337     512.083     337  2475.750       0      48        337        0.334          0               1             1                0\n",
       "9   5  600  10  C    2       323         323       0.280     323     0.090       0       0        323        0.040          0               0             0                0"
      ]
     },
     "execution_count": 51,
     "metadata": {},
     "output_type": "execute_result"
    }
   ],
   "source": [
    "new_df.head(10)"
   ]
  },
  {
   "cell_type": "code",
   "execution_count": 52,
   "metadata": {},
   "outputs": [],
   "source": [
    "#ora ci creiamo i dataframe per la regressione lineare"
   ]
  },
  {
   "cell_type": "code",
   "execution_count": 53,
   "metadata": {},
   "outputs": [
    {
     "data": {
      "text/html": [
       "<div>\n",
       "<style scoped>\n",
       "    .dataframe tbody tr th:only-of-type {\n",
       "        vertical-align: middle;\n",
       "    }\n",
       "\n",
       "    .dataframe tbody tr th {\n",
       "        vertical-align: top;\n",
       "    }\n",
       "\n",
       "    .dataframe thead th {\n",
       "        text-align: right;\n",
       "    }\n",
       "</style>\n",
       "<table border=\"1\" class=\"dataframe\">\n",
       "  <thead>\n",
       "    <tr style=\"text-align: right;\">\n",
       "      <th></th>\n",
       "      <th>F1</th>\n",
       "      <th>F2</th>\n",
       "      <th>F3</th>\n",
       "      <th>F4</th>\n",
       "      <th>Rep</th>\n",
       "      <th>MODEL_TIME</th>\n",
       "    </tr>\n",
       "  </thead>\n",
       "  <tbody>\n",
       "    <tr>\n",
       "      <th>1</th>\n",
       "      <td>10</td>\n",
       "      <td>400</td>\n",
       "      <td>7</td>\n",
       "      <td>C</td>\n",
       "      <td>2</td>\n",
       "      <td>0.240</td>\n",
       "    </tr>\n",
       "    <tr>\n",
       "      <th>2</th>\n",
       "      <td>3</td>\n",
       "      <td>400</td>\n",
       "      <td>7</td>\n",
       "      <td>C</td>\n",
       "      <td>4</td>\n",
       "      <td>0.860</td>\n",
       "    </tr>\n",
       "    <tr>\n",
       "      <th>3</th>\n",
       "      <td>3</td>\n",
       "      <td>600</td>\n",
       "      <td>9</td>\n",
       "      <td>F</td>\n",
       "      <td>2</td>\n",
       "      <td>2.040</td>\n",
       "    </tr>\n",
       "    <tr>\n",
       "      <th>4</th>\n",
       "      <td>3</td>\n",
       "      <td>600</td>\n",
       "      <td>12</td>\n",
       "      <td>F</td>\n",
       "      <td>8</td>\n",
       "      <td>4.850</td>\n",
       "    </tr>\n",
       "    <tr>\n",
       "      <th>5</th>\n",
       "      <td>3</td>\n",
       "      <td>600</td>\n",
       "      <td>12</td>\n",
       "      <td>C</td>\n",
       "      <td>9</td>\n",
       "      <td>7.437</td>\n",
       "    </tr>\n",
       "  </tbody>\n",
       "</table>\n",
       "</div>"
      ],
      "text/plain": [
       "   F1   F2  F3 F4  Rep  MODEL_TIME\n",
       "1  10  400   7  C    2       0.240\n",
       "2   3  400   7  C    4       0.860\n",
       "3   3  600   9  F    2       2.040\n",
       "4   3  600  12  F    8       4.850\n",
       "5   3  600  12  C    9       7.437"
      ]
     },
     "execution_count": 53,
     "metadata": {},
     "output_type": "execute_result"
    }
   ],
   "source": [
    "reg1=new_df.iloc[:,[0,1,2,3,4,7,15]]  #selezioniamo solamente le colonne di interesse dal dataframe new_df\n",
    "reg1=reg1[reg1.MODEL_TIME_out==0]    #escludiamo gli outliers selezionando solo i valori non outlier\n",
    "reg_1=reg1.drop('MODEL_TIME_out',axis=1) #droppiamo la varibile ausiliaria che non ci serve più\n",
    "reg_1.head()"
   ]
  },
  {
   "cell_type": "code",
   "execution_count": 54,
   "metadata": {},
   "outputs": [
    {
     "data": {
      "text/html": [
       "<div>\n",
       "<style scoped>\n",
       "    .dataframe tbody tr th:only-of-type {\n",
       "        vertical-align: middle;\n",
       "    }\n",
       "\n",
       "    .dataframe tbody tr th {\n",
       "        vertical-align: top;\n",
       "    }\n",
       "\n",
       "    .dataframe thead th {\n",
       "        text-align: right;\n",
       "    }\n",
       "</style>\n",
       "<table border=\"1\" class=\"dataframe\">\n",
       "  <thead>\n",
       "    <tr style=\"text-align: right;\">\n",
       "      <th></th>\n",
       "      <th>F1</th>\n",
       "      <th>F2</th>\n",
       "      <th>F3</th>\n",
       "      <th>F4</th>\n",
       "      <th>Rep</th>\n",
       "      <th>CBC_TIME</th>\n",
       "    </tr>\n",
       "  </thead>\n",
       "  <tbody>\n",
       "    <tr>\n",
       "      <th>1</th>\n",
       "      <td>10</td>\n",
       "      <td>400</td>\n",
       "      <td>7</td>\n",
       "      <td>C</td>\n",
       "      <td>2</td>\n",
       "      <td>0.030</td>\n",
       "    </tr>\n",
       "    <tr>\n",
       "      <th>2</th>\n",
       "      <td>3</td>\n",
       "      <td>400</td>\n",
       "      <td>7</td>\n",
       "      <td>C</td>\n",
       "      <td>4</td>\n",
       "      <td>0.010</td>\n",
       "    </tr>\n",
       "    <tr>\n",
       "      <th>3</th>\n",
       "      <td>3</td>\n",
       "      <td>600</td>\n",
       "      <td>9</td>\n",
       "      <td>F</td>\n",
       "      <td>2</td>\n",
       "      <td>1.680</td>\n",
       "    </tr>\n",
       "    <tr>\n",
       "      <th>4</th>\n",
       "      <td>3</td>\n",
       "      <td>600</td>\n",
       "      <td>12</td>\n",
       "      <td>F</td>\n",
       "      <td>8</td>\n",
       "      <td>0.300</td>\n",
       "    </tr>\n",
       "    <tr>\n",
       "      <th>5</th>\n",
       "      <td>3</td>\n",
       "      <td>600</td>\n",
       "      <td>12</td>\n",
       "      <td>C</td>\n",
       "      <td>9</td>\n",
       "      <td>3.009</td>\n",
       "    </tr>\n",
       "  </tbody>\n",
       "</table>\n",
       "</div>"
      ],
      "text/plain": [
       "   F1   F2  F3 F4  Rep  CBC_TIME\n",
       "1  10  400   7  C    2     0.030\n",
       "2   3  400   7  C    4     0.010\n",
       "3   3  600   9  F    2     1.680\n",
       "4   3  600  12  F    8     0.300\n",
       "5   3  600  12  C    9     3.009"
      ]
     },
     "execution_count": 54,
     "metadata": {},
     "output_type": "execute_result"
    }
   ],
   "source": [
    "reg2=new_df.iloc[:,[0,1,2,3,4,9,16]]\n",
    "reg2=reg2[reg2.CBC_TIME_out==0]\n",
    "reg_2=reg2.drop('CBC_TIME_out',axis=1)\n",
    "reg_2.head()\n",
    "#si ripetono le stesse operazioni di sopra e lo stesso si fa anche sotto"
   ]
  },
  {
   "cell_type": "code",
   "execution_count": 55,
   "metadata": {},
   "outputs": [
    {
     "data": {
      "text/html": [
       "<div>\n",
       "<style scoped>\n",
       "    .dataframe tbody tr th:only-of-type {\n",
       "        vertical-align: middle;\n",
       "    }\n",
       "\n",
       "    .dataframe tbody tr th {\n",
       "        vertical-align: top;\n",
       "    }\n",
       "\n",
       "    .dataframe thead th {\n",
       "        text-align: right;\n",
       "    }\n",
       "</style>\n",
       "<table border=\"1\" class=\"dataframe\">\n",
       "  <thead>\n",
       "    <tr style=\"text-align: right;\">\n",
       "      <th></th>\n",
       "      <th>F1</th>\n",
       "      <th>F2</th>\n",
       "      <th>F3</th>\n",
       "      <th>F4</th>\n",
       "      <th>Rep</th>\n",
       "      <th>NEWCBC_TIME</th>\n",
       "    </tr>\n",
       "  </thead>\n",
       "  <tbody>\n",
       "    <tr>\n",
       "      <th>1</th>\n",
       "      <td>10</td>\n",
       "      <td>400</td>\n",
       "      <td>7</td>\n",
       "      <td>C</td>\n",
       "      <td>2</td>\n",
       "      <td>0.048</td>\n",
       "    </tr>\n",
       "    <tr>\n",
       "      <th>2</th>\n",
       "      <td>3</td>\n",
       "      <td>400</td>\n",
       "      <td>7</td>\n",
       "      <td>C</td>\n",
       "      <td>4</td>\n",
       "      <td>0.022</td>\n",
       "    </tr>\n",
       "    <tr>\n",
       "      <th>3</th>\n",
       "      <td>3</td>\n",
       "      <td>600</td>\n",
       "      <td>9</td>\n",
       "      <td>F</td>\n",
       "      <td>2</td>\n",
       "      <td>0.021</td>\n",
       "    </tr>\n",
       "    <tr>\n",
       "      <th>4</th>\n",
       "      <td>3</td>\n",
       "      <td>600</td>\n",
       "      <td>12</td>\n",
       "      <td>F</td>\n",
       "      <td>8</td>\n",
       "      <td>0.120</td>\n",
       "    </tr>\n",
       "    <tr>\n",
       "      <th>5</th>\n",
       "      <td>3</td>\n",
       "      <td>600</td>\n",
       "      <td>12</td>\n",
       "      <td>C</td>\n",
       "      <td>9</td>\n",
       "      <td>0.159</td>\n",
       "    </tr>\n",
       "  </tbody>\n",
       "</table>\n",
       "</div>"
      ],
      "text/plain": [
       "   F1   F2  F3 F4  Rep  NEWCBC_TIME\n",
       "1  10  400   7  C    2        0.048\n",
       "2   3  400   7  C    4        0.022\n",
       "3   3  600   9  F    2        0.021\n",
       "4   3  600  12  F    8        0.120\n",
       "5   3  600  12  C    9        0.159"
      ]
     },
     "execution_count": 55,
     "metadata": {},
     "output_type": "execute_result"
    }
   ],
   "source": [
    "reg3=new_df.iloc[:,[0,1,2,3,4,13,17]]\n",
    "reg3=reg3[reg3.NEWCBC_TIME_out==0]\n",
    "reg_3=reg3.drop('NEWCBC_TIME_out',axis=1)\n",
    "reg_3.head()"
   ]
  },
  {
   "cell_type": "code",
   "execution_count": 56,
   "metadata": {},
   "outputs": [],
   "source": [
    "#otterremo dunque 3 regressioni, ognuna relativa ad una delle tre variabili di output relative al tempo di computazione"
   ]
  },
  {
   "cell_type": "code",
   "execution_count": 57,
   "metadata": {},
   "outputs": [],
   "source": [
    "reg_1['MODEL_TIME']=np.log(reg_1['MODEL_TIME'])\n",
    "reg_2['CBC_TIME']=np.log(reg_2['CBC_TIME'])\n",
    "reg_3['NEWCBC_TIME']=np.log(reg_3['NEWCBC_TIME'])\n",
    "\n",
    "#decidiamo di logaritmizzare i valori delle colonne di output in quanto risultano essere non normali anche dopo \n",
    "#la rimozione degli outliers. Con il logaritmo invece otteniamo valori riconducibili ad una popolazione normale\n",
    "#il chè ci permette una migliore modellazione lineare"
   ]
  },
  {
   "cell_type": "code",
   "execution_count": null,
   "metadata": {},
   "outputs": [],
   "source": [
    "\n"
   ]
  },
  {
   "cell_type": "code",
   "execution_count": 58,
   "metadata": {},
   "outputs": [],
   "source": [
    "#una volta terminate le operazioni con koalas, torniamo ad avere a che fare con dataframe spark per affrontare la \n",
    "#regressione lineare sfruttando librerie Spark\n",
    "\n",
    "reg_mod=reg_1.to_spark()\n",
    "reg_cbc=reg_2.to_spark()\n",
    "reg_new=reg_3.to_spark()\n",
    "\n"
   ]
  },
  {
   "cell_type": "code",
   "execution_count": 59,
   "metadata": {},
   "outputs": [
    {
     "name": "stdout",
     "output_type": "stream",
     "text": [
      "KstestResult(statistic=0.054477003655805656, pvalue=0.28022067363653486)\n"
     ]
    }
   ],
   "source": [
    "#test normalità dopo logaritmo:\n",
    "prova=reg_mod.select('MODEL_TIME').rdd.map(lambda row : row.MODEL_TIME).collect()\n",
    "kolmos(prova)\n",
    "\n",
    "#si accetta per tutte la normalità ora"
   ]
  },
  {
   "cell_type": "code",
   "execution_count": 60,
   "metadata": {},
   "outputs": [
    {
     "name": "stdout",
     "output_type": "stream",
     "text": [
      "KstestResult(statistic=0.08672362954080087, pvalue=0.016201222330483368)\n"
     ]
    }
   ],
   "source": [
    "prova=reg_cbc.select('CBC_TIME').rdd.map(lambda row : row.CBC_TIME).collect()\n",
    "kolmos(prova)"
   ]
  },
  {
   "cell_type": "code",
   "execution_count": 61,
   "metadata": {},
   "outputs": [
    {
     "name": "stdout",
     "output_type": "stream",
     "text": [
      "KstestResult(statistic=0.05087355903708812, pvalue=0.27896714762751246)\n"
     ]
    }
   ],
   "source": [
    "prova=reg_new.select('NEWCBC_TIME').rdd.map(lambda row : row.NEWCBC_TIME).collect()\n",
    "kolmos(prova)"
   ]
  },
  {
   "cell_type": "code",
   "execution_count": null,
   "metadata": {},
   "outputs": [],
   "source": [
    "#REGRESSIONE LINEARE CON VARIABILI RISPOSTA RELATIVE ALL'EXECUTION TIME"
   ]
  },
  {
   "cell_type": "code",
   "execution_count": null,
   "metadata": {},
   "outputs": [],
   "source": [
    "#MODEL_TIME variabile risposta"
   ]
  },
  {
   "cell_type": "code",
   "execution_count": 62,
   "metadata": {},
   "outputs": [],
   "source": [
    "from pyspark.ml.feature import StringIndexer\n",
    "from pyspark.ml import Pipeline\n",
    "from pyspark.ml.feature import StringIndexer, OneHotEncoderEstimator\n",
    "\n",
    "indexer = StringIndexer(inputCol=\"F1\", outputCol=\"F1_idx\")\n",
    "indexed = indexer.fit(reg_mod).transform(reg_mod)\n",
    "indexer = StringIndexer(inputCol=\"F4\", outputCol=\"F4_idx\")\n",
    "indexed = indexer.fit(indexed).transform(indexed)\n",
    "\n",
    "encoder = OneHotEncoderEstimator(inputCols=['F1_idx','F4_idx'], outputCols=[\"F1_category\", \"F4_category\"])\n",
    "new_df=encoder.fit(indexed).transform(indexed)\n",
    "\n",
    "#il codice di questo chunk è finalizzato a categorizzare le variabili di input F1 ed F4, per una migliore analisi\n",
    "#esse infatti sono tranquillamente riconducibili a variabili factor, sfruttando onehot encoding"
   ]
  },
  {
   "cell_type": "code",
   "execution_count": 63,
   "metadata": {},
   "outputs": [
    {
     "name": "stdout",
     "output_type": "stream",
     "text": [
      "+---+---+---+---+---+--------------------+------+------+-------------+-------------+\n",
      "| F1| F2| F3| F4|Rep|          MODEL_TIME|F1_idx|F4_idx|  F1_category|  F4_category|\n",
      "+---+---+---+---+---+--------------------+------+------+-------------+-------------+\n",
      "| 10|400|  7|  C|  2| -1.4271163556401458|   2.0|   0.0|(3,[2],[1.0])|(4,[0],[1.0])|\n",
      "|  3|400|  7|  C|  4|-0.15082288973458366|   0.0|   0.0|(3,[0],[1.0])|(4,[0],[1.0])|\n",
      "|  3|600|  9|  F|  2|   0.712949807856125|   0.0|   2.0|(3,[0],[1.0])|(4,[2],[1.0])|\n",
      "|  3|600| 12|  F|  8|  1.5789787049493917|   0.0|   2.0|(3,[0],[1.0])|(4,[2],[1.0])|\n",
      "|  3|600| 12|  C|  9|  2.0064675417211633|   0.0|   0.0|(3,[0],[1.0])|(4,[0],[1.0])|\n",
      "|  5|500| 10|  B| 10|   1.944480556245719|   1.0|   3.0|(3,[1],[1.0])|(4,[3],[1.0])|\n",
      "| 10|500|  8|  F|  2|   3.359506954607946|   2.0|   2.0|(3,[2],[1.0])|(4,[2],[1.0])|\n",
      "|  5|600| 10|  C|  2| -1.2729656758128873|   1.0|   0.0|(3,[1],[1.0])|(4,[0],[1.0])|\n",
      "|  5|400|  9|  B|  7|  1.9090979616452883|   1.0|   3.0|(3,[1],[1.0])|(4,[3],[1.0])|\n",
      "|  3|400|  6|  F|  4|  -1.016111067156366|   0.0|   2.0|(3,[0],[1.0])|(4,[2],[1.0])|\n",
      "| 10|400|  9|  A|  3|  -0.843970070294529|   2.0|   1.0|(3,[2],[1.0])|(4,[1],[1.0])|\n",
      "| 10|400|  8|  C|  7| 0.28442677973110825|   2.0|   0.0|(3,[2],[1.0])|(4,[0],[1.0])|\n",
      "|  3|600| 10|  F|  6|  1.0922588146959344|   0.0|   2.0|(3,[0],[1.0])|(4,[2],[1.0])|\n",
      "| 10|600| 12|  C|  5| -0.9942522733438669|   2.0|   0.0|(3,[2],[1.0])|(4,[0],[1.0])|\n",
      "| 10|500|  8|  A|  5|  2.1273980251006908|   2.0|   1.0|(3,[2],[1.0])|(4,[1],[1.0])|\n",
      "|  5|500|  9|  B|  6|  2.2873699271875654|   1.0|   3.0|(3,[1],[1.0])|(4,[3],[1.0])|\n",
      "|  3|500|  9|  F|  6|  0.9162907318741551|   0.0|   2.0|(3,[0],[1.0])|(4,[2],[1.0])|\n",
      "|  5|500| 10|  A|  9|  1.3591800686283186|   1.0|   1.0|(3,[1],[1.0])|(4,[1],[1.0])|\n",
      "|  5|500|  9|  F|  1|  1.8298577578267134|   1.0|   2.0|(3,[1],[1.0])|(4,[2],[1.0])|\n",
      "|  5|500|  9|  B|  5|   2.403696594362457|   1.0|   3.0|(3,[1],[1.0])|(4,[3],[1.0])|\n",
      "|  5|600| 10|  B|  3|   3.009240623578783|   1.0|   3.0|(3,[1],[1.0])|(4,[3],[1.0])|\n",
      "|  3|500|  9|  B|  3|-0.00501254182354...|   0.0|   3.0|(3,[0],[1.0])|(4,[3],[1.0])|\n",
      "|  3|500| 10|  B|  7| 0.13714983814723367|   0.0|   3.0|(3,[0],[1.0])|(4,[3],[1.0])|\n",
      "|  5|600| 10|  F|  4|   2.687098914349278|   1.0|   2.0|(3,[1],[1.0])|(4,[2],[1.0])|\n",
      "|  3|400| 10|  F|  9| -2.4079456086518722|   0.0|   2.0|(3,[0],[1.0])|(4,[2],[1.0])|\n",
      "|  5|400|  7|  B|  3|  1.3310458868894122|   1.0|   3.0|(3,[1],[1.0])|(4,[3],[1.0])|\n",
      "| 10|400|  7|  B|  6|  2.9473295343258235|   2.0|   3.0|(3,[2],[1.0])|(4,[3],[1.0])|\n",
      "|  5|600| 12|  B|  6|   3.454390536837408|   1.0|   3.0|(3,[1],[1.0])|(4,[3],[1.0])|\n",
      "|  5|400|  9|  A|  2|  -1.171182981502945|   1.0|   1.0|(3,[1],[1.0])|(4,[1],[1.0])|\n",
      "| 10|600| 12|  C|  9|  0.7035924384214839|   2.0|   0.0|(3,[2],[1.0])|(4,[0],[1.0])|\n",
      "+---+---+---+---+---+--------------------+------+------+-------------+-------------+\n",
      "only showing top 30 rows\n",
      "\n"
     ]
    }
   ],
   "source": [
    "new_df.show(30)"
   ]
  },
  {
   "cell_type": "code",
   "execution_count": 64,
   "metadata": {},
   "outputs": [
    {
     "name": "stdout",
     "output_type": "stream",
     "text": [
      "+--------------------+--------------------+\n",
      "|            features|          MODEL_TIME|\n",
      "+--------------------+--------------------+\n",
      "|(10,[2,3,4,5,9],[...| -1.4271163556401458|\n",
      "|(10,[0,3,4,5,9],[...|-0.15082288973458366|\n",
      "|(10,[0,3,4,7,9],[...|   0.712949807856125|\n",
      "+--------------------+--------------------+\n",
      "only showing top 3 rows\n",
      "\n"
     ]
    }
   ],
   "source": [
    "#in questo chunk prepariamo il dataset alla regressione, sfruttando il vector assembler della libreria ml.feature\n",
    "\n",
    "from pyspark.ml.feature import VectorAssembler\n",
    "from pyspark.ml.regression import LinearRegression\n",
    "\n",
    "\n",
    "\n",
    "vectorAssembler = VectorAssembler(inputCols = ['F1_category','F2','F3','F4_category','Rep'], outputCol = 'features')\n",
    "vhouse_df = vectorAssembler.transform(new_df)\n",
    "vhouse_df = vhouse_df.select(['features', 'MODEL_TIME'])\n",
    "vhouse_df.show(3)"
   ]
  },
  {
   "cell_type": "code",
   "execution_count": 70,
   "metadata": {},
   "outputs": [
    {
     "name": "stdout",
     "output_type": "stream",
     "text": [
      "Coefficients: [0.60243616 1.         1.26212785 1.00273882 1.         0.34807312\n",
      " 1.         1.02796895 1.056305   1.        ]\n",
      "Intercept: 0.8833776354834825\n"
     ]
    }
   ],
   "source": [
    "from pyspark.ml.regression import LinearRegression\n",
    "lr = LinearRegression(featuresCol = 'features', labelCol='MODEL_TIME', maxIter=13, regParam=0.3, elasticNetParam=0.8)\n",
    "lr_model = lr.fit(vhouse_df)\n",
    "print(\"Coefficients: \" + str(np.exp(lr_model.coefficients)))  \n",
    "print(\"Intercept: \" + str(np.exp(lr_model.intercept)))\n",
    "\n",
    "#sfruttiamo l'esponenziale in quanto la variabile risposta è di tipo logaritmico, dunque dobbiamo riportarei risultati\n",
    "#alla realtà per favorire l'interpretazione di essi\n",
    "\n",
    "#interpretazione:\n",
    "#risulta interessante analizzare come nel passare dalla modalità baseline (F1=15) della variabile F1 alle altre sue modalità\n",
    "#(F1 = 3,5,10) si evince come aumenti l'incisività della variabile F1 sulla variabile risposta Model_TIME. I coefficienti \n",
    "#relativi alla variabile F1 sono i primi 3, e si può evincere nel codice sottostante quali siano le baseline delle\n",
    "#variabili categoriali: per F1 la baseline è 15, mentre per la F4, la baseline è D\n"
   ]
  },
  {
   "cell_type": "code",
   "execution_count": 71,
   "metadata": {},
   "outputs": [
    {
     "data": {
      "text/plain": [
       "[SparseVector(10, {2: 1.0, 3: 400.0, 4: 7.0, 5: 1.0, 9: 2.0}),\n",
       " SparseVector(10, {0: 1.0, 3: 400.0, 4: 7.0, 5: 1.0, 9: 4.0}),\n",
       " SparseVector(10, {0: 1.0, 3: 600.0, 4: 9.0, 7: 1.0, 9: 2.0}),\n",
       " SparseVector(10, {0: 1.0, 3: 600.0, 4: 12.0, 7: 1.0, 9: 8.0}),\n",
       " SparseVector(10, {0: 1.0, 3: 600.0, 4: 12.0, 5: 1.0, 9: 9.0}),\n",
       " SparseVector(10, {1: 1.0, 3: 500.0, 4: 10.0, 8: 1.0, 9: 10.0}),\n",
       " SparseVector(10, {2: 1.0, 3: 500.0, 4: 8.0, 7: 1.0, 9: 2.0}),\n",
       " SparseVector(10, {1: 1.0, 3: 600.0, 4: 10.0, 5: 1.0, 9: 2.0}),\n",
       " SparseVector(10, {1: 1.0, 3: 400.0, 4: 9.0, 8: 1.0, 9: 7.0}),\n",
       " SparseVector(10, {0: 1.0, 3: 400.0, 4: 6.0, 7: 1.0, 9: 4.0}),\n",
       " SparseVector(10, {2: 1.0, 3: 400.0, 4: 9.0, 6: 1.0, 9: 3.0}),\n",
       " SparseVector(10, {2: 1.0, 3: 400.0, 4: 8.0, 5: 1.0, 9: 7.0}),\n",
       " SparseVector(10, {0: 1.0, 3: 600.0, 4: 10.0, 7: 1.0, 9: 6.0}),\n",
       " SparseVector(10, {2: 1.0, 3: 600.0, 4: 12.0, 5: 1.0, 9: 5.0}),\n",
       " SparseVector(10, {2: 1.0, 3: 500.0, 4: 8.0, 6: 1.0, 9: 5.0}),\n",
       " SparseVector(10, {1: 1.0, 3: 500.0, 4: 9.0, 8: 1.0, 9: 6.0}),\n",
       " SparseVector(10, {0: 1.0, 3: 500.0, 4: 9.0, 7: 1.0, 9: 6.0}),\n",
       " SparseVector(10, {1: 1.0, 3: 500.0, 4: 10.0, 6: 1.0, 9: 9.0}),\n",
       " SparseVector(10, {1: 1.0, 3: 500.0, 4: 9.0, 7: 1.0, 9: 1.0}),\n",
       " SparseVector(10, {1: 1.0, 3: 500.0, 4: 9.0, 8: 1.0, 9: 5.0}),\n",
       " SparseVector(10, {1: 1.0, 3: 600.0, 4: 10.0, 8: 1.0, 9: 3.0}),\n",
       " SparseVector(10, {0: 1.0, 3: 500.0, 4: 9.0, 8: 1.0, 9: 3.0}),\n",
       " SparseVector(10, {0: 1.0, 3: 500.0, 4: 10.0, 8: 1.0, 9: 7.0}),\n",
       " SparseVector(10, {1: 1.0, 3: 600.0, 4: 10.0, 7: 1.0, 9: 4.0}),\n",
       " SparseVector(10, {0: 1.0, 3: 400.0, 4: 10.0, 7: 1.0, 9: 9.0}),\n",
       " SparseVector(10, {1: 1.0, 3: 400.0, 4: 7.0, 8: 1.0, 9: 3.0}),\n",
       " SparseVector(10, {2: 1.0, 3: 400.0, 4: 7.0, 8: 1.0, 9: 6.0}),\n",
       " SparseVector(10, {1: 1.0, 3: 600.0, 4: 12.0, 8: 1.0, 9: 6.0}),\n",
       " SparseVector(10, {1: 1.0, 3: 400.0, 4: 9.0, 6: 1.0, 9: 2.0}),\n",
       " SparseVector(10, {2: 1.0, 3: 600.0, 4: 12.0, 5: 1.0, 9: 9.0}),\n",
       " SparseVector(10, {0: 1.0, 3: 600.0, 4: 11.0, 6: 1.0, 9: 9.0}),\n",
       " SparseVector(10, {0: 1.0, 3: 600.0, 4: 12.0, 7: 1.0, 9: 1.0}),\n",
       " SparseVector(10, {2: 1.0, 3: 500.0, 4: 9.0, 6: 1.0, 9: 1.0}),\n",
       " SparseVector(10, {2: 1.0, 3: 400.0, 4: 7.0, 7: 1.0, 9: 5.0}),\n",
       " SparseVector(10, {1: 1.0, 3: 400.0, 4: 8.0, 7: 1.0, 9: 4.0}),\n",
       " SparseVector(10, {0: 1.0, 3: 600.0, 4: 12.0, 6: 1.0, 9: 1.0}),\n",
       " SparseVector(10, {0: 1.0, 3: 500.0, 4: 9.0, 5: 1.0, 9: 7.0}),\n",
       " SparseVector(10, {1: 1.0, 3: 400.0, 4: 6.0, 8: 1.0, 9: 6.0}),\n",
       " SparseVector(10, {0: 1.0, 3: 400.0, 4: 9.0, 5: 1.0, 9: 2.0}),\n",
       " SparseVector(10, {0: 1.0, 3: 600.0, 4: 10.0, 8: 1.0, 9: 7.0}),\n",
       " SparseVector(10, {2: 1.0, 3: 500.0, 4: 10.0, 6: 1.0, 9: 8.0}),\n",
       " SparseVector(10, {0: 1.0, 3: 400.0, 4: 8.0, 7: 1.0, 9: 7.0}),\n",
       " SparseVector(10, {1: 1.0, 3: 600.0, 4: 9.0, 6: 1.0, 9: 5.0}),\n",
       " SparseVector(10, {2: 1.0, 3: 500.0, 4: 8.0, 5: 1.0, 9: 6.0}),\n",
       " SparseVector(10, {1: 1.0, 3: 500.0, 4: 9.0, 6: 1.0, 9: 1.0}),\n",
       " SparseVector(10, {1: 1.0, 3: 600.0, 4: 10.0, 8: 1.0, 9: 8.0}),\n",
       " SparseVector(10, {2: 1.0, 3: 600.0, 4: 12.0, 6: 1.0, 9: 10.0}),\n",
       " SparseVector(10, {0: 1.0, 3: 600.0, 4: 10.0, 6: 1.0, 9: 3.0}),\n",
       " SparseVector(10, {1: 1.0, 3: 400.0, 4: 9.0, 6: 1.0, 9: 7.0}),\n",
       " SparseVector(10, {0: 1.0, 3: 500.0, 4: 9.0, 6: 1.0, 9: 5.0}),\n",
       " SparseVector(10, {0: 1.0, 3: 500.0, 4: 8.0, 5: 1.0, 9: 9.0}),\n",
       " SparseVector(10, {0: 1.0, 3: 600.0, 4: 11.0, 7: 1.0, 9: 9.0}),\n",
       " SparseVector(10, {0: 1.0, 3: 600.0, 4: 10.0, 8: 1.0, 9: 4.0}),\n",
       " SparseVector(10, {1: 1.0, 3: 500.0, 4: 10.0, 7: 1.0, 9: 7.0}),\n",
       " SparseVector(10, {1: 1.0, 3: 400.0, 4: 10.0, 7: 1.0, 9: 1.0}),\n",
       " SparseVector(10, {0: 1.0, 3: 400.0, 4: 8.0, 5: 1.0, 9: 5.0}),\n",
       " SparseVector(10, {1: 1.0, 3: 400.0, 4: 7.0, 6: 1.0, 9: 10.0}),\n",
       " SparseVector(10, {1: 1.0, 3: 500.0, 4: 9.0, 8: 1.0, 9: 1.0}),\n",
       " SparseVector(10, {2: 1.0, 3: 500.0, 4: 9.0, 6: 1.0, 9: 9.0}),\n",
       " SparseVector(10, {2: 1.0, 3: 400.0, 4: 8.0, 7: 1.0, 9: 4.0}),\n",
       " SparseVector(10, {1: 1.0, 3: 600.0, 4: 9.0, 7: 1.0, 9: 7.0}),\n",
       " SparseVector(10, {0: 1.0, 3: 400.0, 4: 9.0, 6: 1.0, 9: 1.0}),\n",
       " SparseVector(10, {1: 1.0, 3: 400.0, 4: 6.0, 8: 1.0, 9: 8.0}),\n",
       " SparseVector(10, {1: 1.0, 3: 400.0, 4: 7.0, 7: 1.0, 9: 3.0}),\n",
       " SparseVector(10, {0: 1.0, 3: 500.0, 4: 12.0, 5: 1.0, 9: 1.0}),\n",
       " SparseVector(10, {1: 1.0, 3: 500.0, 4: 10.0, 8: 1.0, 9: 9.0}),\n",
       " SparseVector(10, {1: 1.0, 3: 400.0, 4: 6.0, 6: 1.0, 9: 6.0}),\n",
       " SparseVector(10, {2: 1.0, 3: 400.0, 4: 7.0, 6: 1.0, 9: 2.0}),\n",
       " SparseVector(10, {0: 1.0, 3: 500.0, 4: 8.0, 6: 1.0, 9: 1.0}),\n",
       " SparseVector(10, {0: 1.0, 3: 600.0, 4: 13.0, 5: 1.0, 9: 3.0}),\n",
       " SparseVector(10, {2: 1.0, 3: 600.0, 4: 10.0, 6: 1.0, 9: 4.0}),\n",
       " SparseVector(10, {1: 1.0, 3: 500.0, 4: 8.0, 8: 1.0, 9: 2.0}),\n",
       " SparseVector(10, {2: 1.0, 3: 500.0, 4: 8.0, 7: 1.0, 9: 3.0}),\n",
       " SparseVector(10, {2: 1.0, 3: 600.0, 4: 10.0, 7: 1.0, 9: 1.0}),\n",
       " SparseVector(10, {0: 1.0, 3: 600.0, 4: 11.0, 6: 1.0, 9: 5.0}),\n",
       " SparseVector(10, {0: 1.0, 3: 600.0, 4: 11.0, 8: 1.0, 9: 9.0}),\n",
       " SparseVector(10, {2: 1.0, 3: 600.0, 4: 10.0, 6: 1.0, 9: 1.0}),\n",
       " SparseVector(10, {0: 1.0, 3: 500.0, 4: 10.0, 5: 1.0, 9: 6.0}),\n",
       " SparseVector(10, {1: 1.0, 3: 500.0, 4: 9.0, 7: 1.0, 9: 6.0}),\n",
       " SparseVector(10, {0: 1.0, 3: 500.0, 4: 9.0, 8: 1.0, 9: 5.0}),\n",
       " SparseVector(10, {1: 1.0, 3: 500.0, 4: 8.0, 5: 1.0, 9: 7.0}),\n",
       " SparseVector(10, {1: 1.0, 3: 500.0, 4: 8.0, 6: 1.0, 9: 4.0}),\n",
       " SparseVector(10, {2: 1.0, 3: 400.0, 4: 6.0, 7: 1.0, 9: 1.0}),\n",
       " SparseVector(10, {2: 1.0, 3: 500.0, 4: 9.0, 5: 1.0, 9: 4.0}),\n",
       " SparseVector(10, {0: 1.0, 3: 400.0, 4: 8.0, 7: 1.0, 9: 10.0}),\n",
       " SparseVector(10, {0: 1.0, 3: 500.0, 4: 9.0, 5: 1.0, 9: 2.0}),\n",
       " SparseVector(10, {0: 1.0, 3: 500.0, 4: 8.0, 8: 1.0, 9: 10.0}),\n",
       " SparseVector(10, {0: 1.0, 3: 400.0, 4: 10.0, 8: 1.0, 9: 9.0}),\n",
       " SparseVector(10, {1: 1.0, 3: 500.0, 4: 9.0, 5: 1.0, 9: 3.0}),\n",
       " SparseVector(10, {0: 1.0, 3: 400.0, 4: 8.0, 6: 1.0, 9: 7.0}),\n",
       " SparseVector(10, {2: 1.0, 3: 600.0, 4: 12.0, 5: 1.0, 9: 4.0}),\n",
       " SparseVector(10, {0: 1.0, 3: 400.0, 4: 7.0, 6: 1.0, 9: 6.0}),\n",
       " SparseVector(10, {0: 1.0, 3: 500.0, 4: 8.0, 7: 1.0, 9: 2.0}),\n",
       " SparseVector(10, {1: 1.0, 3: 500.0, 4: 12.0, 7: 1.0, 9: 3.0}),\n",
       " SparseVector(10, {1: 1.0, 3: 600.0, 4: 9.0, 7: 1.0, 9: 2.0}),\n",
       " SparseVector(10, {2: 1.0, 3: 600.0, 4: 12.0, 6: 1.0, 9: 2.0}),\n",
       " SparseVector(10, {2: 1.0, 3: 500.0, 4: 8.0, 6: 1.0, 9: 3.0}),\n",
       " SparseVector(10, {1: 1.0, 3: 600.0, 4: 12.0, 8: 1.0, 9: 2.0}),\n",
       " SparseVector(10, {2: 1.0, 3: 400.0, 4: 7.0, 8: 1.0, 9: 10.0}),\n",
       " SparseVector(10, {0: 1.0, 3: 500.0, 4: 10.0, 7: 1.0, 9: 7.0}),\n",
       " SparseVector(10, {1: 1.0, 3: 600.0, 4: 9.0, 8: 1.0, 9: 4.0}),\n",
       " SparseVector(10, {1: 1.0, 3: 400.0, 4: 8.0, 5: 1.0, 9: 5.0}),\n",
       " SparseVector(10, {1: 1.0, 3: 500.0, 4: 8.0, 6: 1.0, 9: 2.0}),\n",
       " SparseVector(10, {1: 1.0, 3: 400.0, 4: 7.0, 8: 1.0, 9: 10.0}),\n",
       " SparseVector(10, {0: 1.0, 3: 500.0, 4: 10.0, 8: 1.0, 9: 8.0}),\n",
       " SparseVector(10, {1: 1.0, 3: 400.0, 4: 6.0, 6: 1.0, 9: 8.0}),\n",
       " SparseVector(10, {1: 1.0, 3: 600.0, 4: 11.0, 5: 1.0, 9: 1.0}),\n",
       " SparseVector(10, {1: 1.0, 3: 400.0, 4: 9.0, 5: 1.0, 9: 9.0}),\n",
       " SparseVector(10, {2: 1.0, 3: 600.0, 4: 9.0, 7: 1.0, 9: 8.0}),\n",
       " SparseVector(10, {0: 1.0, 3: 500.0, 4: 8.0, 6: 1.0, 9: 10.0}),\n",
       " SparseVector(10, {1: 1.0, 3: 500.0, 4: 8.0, 8: 1.0, 9: 4.0}),\n",
       " SparseVector(10, {2: 1.0, 3: 600.0, 4: 9.0, 6: 1.0, 9: 8.0}),\n",
       " SparseVector(10, {2: 1.0, 3: 600.0, 4: 12.0, 5: 1.0, 9: 7.0}),\n",
       " SparseVector(10, {0: 1.0, 3: 600.0, 4: 12.0, 6: 1.0, 9: 8.0}),\n",
       " SparseVector(10, {0: 1.0, 3: 600.0, 4: 10.0, 7: 1.0, 9: 7.0}),\n",
       " SparseVector(10, {2: 1.0, 3: 400.0, 4: 6.0, 8: 1.0, 9: 1.0}),\n",
       " SparseVector(10, {2: 1.0, 3: 400.0, 4: 6.0, 5: 1.0, 9: 1.0}),\n",
       " SparseVector(10, {2: 1.0, 3: 400.0, 4: 7.0, 5: 1.0, 9: 9.0}),\n",
       " SparseVector(10, {0: 1.0, 3: 400.0, 4: 9.0, 8: 1.0, 9: 3.0}),\n",
       " SparseVector(10, {0: 1.0, 3: 500.0, 4: 9.0, 7: 1.0, 9: 5.0}),\n",
       " SparseVector(10, {1: 1.0, 3: 500.0, 4: 9.0, 8: 1.0, 9: 8.0}),\n",
       " SparseVector(10, {1: 1.0, 3: 500.0, 4: 9.0, 5: 1.0, 9: 2.0}),\n",
       " SparseVector(10, {2: 1.0, 3: 500.0, 4: 8.0, 8: 1.0, 9: 3.0}),\n",
       " SparseVector(10, {0: 1.0, 3: 400.0, 4: 8.0, 8: 1.0, 9: 7.0}),\n",
       " SparseVector(10, {1: 1.0, 3: 400.0, 4: 9.0, 8: 1.0, 9: 2.0}),\n",
       " SparseVector(10, {0: 1.0, 3: 400.0, 4: 9.0, 6: 1.0, 9: 5.0}),\n",
       " SparseVector(10, {1: 1.0, 3: 600.0, 4: 12.0, 6: 1.0, 9: 9.0}),\n",
       " SparseVector(10, {2: 1.0, 3: 400.0, 4: 7.0, 7: 1.0, 9: 10.0}),\n",
       " SparseVector(10, {0: 1.0, 3: 600.0, 4: 10.0, 6: 1.0, 9: 4.0}),\n",
       " SparseVector(10, {0: 1.0, 3: 600.0, 4: 10.0, 8: 1.0, 9: 3.0}),\n",
       " SparseVector(10, {2: 1.0, 3: 400.0, 4: 6.0, 6: 1.0, 9: 1.0}),\n",
       " SparseVector(10, {0: 1.0, 3: 400.0, 4: 8.0, 5: 1.0, 9: 8.0}),\n",
       " SparseVector(10, {2: 1.0, 3: 400.0, 4: 8.0, 5: 1.0, 9: 6.0}),\n",
       " SparseVector(10, {1: 1.0, 3: 500.0, 4: 8.0, 5: 1.0, 9: 5.0}),\n",
       " SparseVector(10, {1: 1.0, 3: 400.0, 4: 9.0, 5: 1.0, 9: 8.0}),\n",
       " SparseVector(10, {2: 1.0, 3: 600.0, 4: 11.0, 5: 1.0, 9: 3.0}),\n",
       " SparseVector(10, {0: 1.0, 3: 500.0, 4: 9.0, 6: 1.0, 9: 3.0}),\n",
       " SparseVector(10, {0: 1.0, 3: 600.0, 4: 12.0, 8: 1.0, 9: 1.0}),\n",
       " SparseVector(10, {1: 1.0, 3: 400.0, 4: 8.0, 6: 1.0, 9: 4.0}),\n",
       " SparseVector(10, {0: 1.0, 3: 600.0, 4: 11.0, 7: 1.0, 9: 5.0}),\n",
       " SparseVector(10, {1: 1.0, 3: 600.0, 4: 12.0, 8: 1.0, 9: 7.0}),\n",
       " SparseVector(10, {1: 1.0, 3: 600.0, 4: 11.0, 5: 1.0, 9: 9.0}),\n",
       " SparseVector(10, {0: 1.0, 3: 500.0, 4: 10.0, 7: 1.0, 9: 9.0}),\n",
       " SparseVector(10, {0: 1.0, 3: 500.0, 4: 10.0, 6: 1.0, 9: 4.0}),\n",
       " SparseVector(10, {1: 1.0, 3: 400.0, 4: 9.0, 7: 1.0, 9: 7.0}),\n",
       " SparseVector(10, {1: 1.0, 3: 400.0, 4: 7.0, 6: 1.0, 9: 3.0}),\n",
       " SparseVector(10, {0: 1.0, 3: 500.0, 4: 8.0, 6: 1.0, 9: 2.0}),\n",
       " SparseVector(10, {1: 1.0, 3: 500.0, 4: 8.0, 7: 1.0, 9: 4.0}),\n",
       " SparseVector(10, {2: 1.0, 3: 400.0, 4: 7.0, 7: 1.0, 9: 7.0}),\n",
       " SparseVector(10, {2: 1.0, 3: 500.0, 4: 8.0, 7: 1.0, 9: 5.0}),\n",
       " SparseVector(10, {0: 1.0, 3: 600.0, 4: 10.0, 7: 1.0, 9: 10.0}),\n",
       " SparseVector(10, {0: 1.0, 3: 400.0, 4: 7.0, 8: 1.0, 9: 6.0}),\n",
       " SparseVector(10, {2: 1.0, 3: 400.0, 4: 7.0, 6: 1.0, 9: 7.0}),\n",
       " SparseVector(10, {1: 1.0, 3: 500.0, 4: 10.0, 7: 1.0, 9: 10.0}),\n",
       " SparseVector(10, {0: 1.0, 3: 500.0, 4: 8.0, 5: 1.0, 9: 8.0}),\n",
       " SparseVector(10, {0: 1.0, 3: 600.0, 4: 10.0, 8: 1.0, 9: 6.0}),\n",
       " SparseVector(10, {1: 1.0, 3: 500.0, 4: 10.0, 7: 1.0, 9: 9.0}),\n",
       " SparseVector(10, {1: 1.0, 3: 500.0, 4: 12.0, 8: 1.0, 9: 3.0}),\n",
       " SparseVector(10, {0: 1.0, 3: 600.0, 4: 10.0, 7: 1.0, 9: 4.0}),\n",
       " SparseVector(10, {2: 1.0, 3: 400.0, 4: 7.0, 7: 1.0, 9: 6.0}),\n",
       " SparseVector(10, {0: 1.0, 3: 600.0, 4: 9.0, 5: 1.0, 9: 4.0}),\n",
       " SparseVector(10, {0: 1.0, 3: 600.0, 4: 11.0, 8: 1.0, 9: 5.0}),\n",
       " SparseVector(10, {1: 1.0, 3: 500.0, 4: 12.0, 6: 1.0, 9: 3.0}),\n",
       " SparseVector(10, {1: 1.0, 3: 400.0, 4: 8.0, 5: 1.0, 9: 6.0}),\n",
       " SparseVector(10, {2: 1.0, 3: 400.0, 4: 7.0, 6: 1.0, 9: 10.0}),\n",
       " SparseVector(10, {2: 1.0, 3: 600.0, 4: 10.0, 6: 1.0, 9: 3.0}),\n",
       " SparseVector(10, {2: 1.0, 3: 500.0, 4: 9.0, 7: 1.0, 9: 9.0}),\n",
       " SparseVector(10, {0: 1.0, 3: 400.0, 4: 9.0, 5: 1.0, 9: 9.0}),\n",
       " SparseVector(10, {1: 1.0, 3: 400.0, 4: 6.0, 7: 1.0, 9: 8.0}),\n",
       " SparseVector(10, {2: 1.0, 3: 400.0, 4: 8.0, 6: 1.0, 9: 4.0}),\n",
       " SparseVector(10, {2: 1.0, 3: 500.0, 4: 9.0, 7: 1.0, 9: 10.0}),\n",
       " SparseVector(10, {2: 1.0, 3: 600.0, 4: 10.0, 5: 1.0, 9: 8.0}),\n",
       " SparseVector(10, {1: 1.0, 3: 600.0, 4: 12.0, 7: 1.0, 9: 9.0}),\n",
       " SparseVector(10, {1: 1.0, 3: 600.0, 4: 12.0, 6: 1.0, 9: 3.0}),\n",
       " SparseVector(10, {1: 1.0, 3: 400.0, 4: 8.0, 8: 1.0, 9: 5.0}),\n",
       " SparseVector(10, {0: 1.0, 3: 400.0, 4: 7.0, 5: 1.0, 9: 3.0}),\n",
       " SparseVector(10, {0: 1.0, 3: 500.0, 4: 9.0, 5: 1.0, 9: 3.0}),\n",
       " SparseVector(10, {0: 1.0, 3: 600.0, 4: 10.0, 5: 1.0, 9: 2.0}),\n",
       " SparseVector(10, {2: 1.0, 3: 400.0, 4: 7.0, 7: 1.0, 9: 9.0}),\n",
       " SparseVector(10, {1: 1.0, 3: 400.0, 4: 7.0, 5: 1.0, 9: 2.0}),\n",
       " SparseVector(10, {0: 1.0, 3: 400.0, 4: 9.0, 7: 1.0, 9: 3.0}),\n",
       " SparseVector(10, {2: 1.0, 3: 600.0, 4: 12.0, 6: 1.0, 9: 7.0}),\n",
       " SparseVector(10, {0: 1.0, 3: 400.0, 4: 7.0, 7: 1.0, 9: 6.0}),\n",
       " SparseVector(10, {2: 1.0, 3: 500.0, 4: 9.0, 6: 1.0, 9: 4.0}),\n",
       " SparseVector(10, {3: 600.0, 4: 10.0, 9: 1.0}),\n",
       " SparseVector(10, {2: 1.0, 3: 500.0, 4: 10.0, 5: 1.0, 9: 5.0}),\n",
       " SparseVector(10, {1: 1.0, 3: 600.0, 4: 10.0, 6: 1.0, 9: 4.0}),\n",
       " SparseVector(10, {0: 1.0, 3: 500.0, 4: 10.0, 6: 1.0, 9: 7.0}),\n",
       " SparseVector(10, {0: 1.0, 3: 600.0, 4: 10.0, 6: 1.0, 9: 10.0}),\n",
       " SparseVector(10, {1: 1.0, 3: 500.0, 4: 8.0, 7: 1.0, 9: 2.0}),\n",
       " SparseVector(10, {1: 1.0, 3: 500.0, 4: 9.0, 5: 1.0, 9: 10.0}),\n",
       " SparseVector(10, {2: 1.0, 3: 600.0, 4: 12.0, 6: 1.0, 9: 5.0}),\n",
       " SparseVector(10, {2: 1.0, 3: 500.0, 4: 9.0, 8: 1.0, 9: 1.0}),\n",
       " SparseVector(10, {0: 1.0, 3: 400.0, 4: 7.0, 8: 1.0, 9: 8.0}),\n",
       " SparseVector(10, {0: 1.0, 3: 600.0, 4: 9.0, 8: 1.0, 9: 2.0}),\n",
       " SparseVector(10, {3: 600.0, 4: 10.0, 9: 1.0}),\n",
       " SparseVector(10, {2: 1.0, 3: 600.0, 4: 10.0, 6: 1.0, 9: 6.0}),\n",
       " SparseVector(10, {1: 1.0, 3: 400.0, 4: 9.0, 5: 1.0, 9: 3.0}),\n",
       " SparseVector(10, {2: 1.0, 3: 400.0, 4: 6.0, 5: 1.0, 9: 3.0}),\n",
       " SparseVector(10, {0: 1.0, 3: 500.0, 4: 9.0, 5: 1.0, 9: 5.0}),\n",
       " SparseVector(10, {1: 1.0, 3: 500.0, 4: 10.0, 5: 1.0, 9: 4.0}),\n",
       " SparseVector(10, {1: 1.0, 3: 600.0, 4: 11.0, 5: 1.0, 9: 4.0}),\n",
       " SparseVector(10, {2: 1.0, 3: 500.0, 4: 8.0, 5: 1.0, 9: 7.0}),\n",
       " SparseVector(10, {0: 1.0, 3: 500.0, 4: 10.0, 8: 1.0, 9: 4.0}),\n",
       " SparseVector(10, {1: 1.0, 3: 600.0, 4: 11.0, 5: 1.0, 9: 3.0}),\n",
       " SparseVector(10, {0: 1.0, 3: 400.0, 4: 9.0, 6: 1.0, 9: 2.0}),\n",
       " SparseVector(10, {1: 1.0, 3: 400.0, 4: 8.0, 8: 1.0, 9: 4.0}),\n",
       " SparseVector(10, {1: 1.0, 3: 500.0, 4: 9.0, 7: 1.0, 9: 8.0}),\n",
       " SparseVector(10, {1: 1.0, 3: 600.0, 4: 9.0, 7: 1.0, 9: 5.0}),\n",
       " SparseVector(10, {2: 1.0, 3: 400.0, 4: 7.0, 7: 1.0, 9: 2.0}),\n",
       " SparseVector(10, {2: 1.0, 3: 500.0, 4: 11.0, 5: 1.0, 9: 1.0}),\n",
       " SparseVector(10, {0: 1.0, 3: 400.0, 4: 7.0, 7: 1.0, 9: 8.0}),\n",
       " SparseVector(10, {0: 1.0, 3: 600.0, 4: 10.0, 5: 1.0, 9: 7.0}),\n",
       " SparseVector(10, {2: 1.0, 3: 400.0, 4: 7.0, 8: 1.0, 9: 5.0}),\n",
       " SparseVector(10, {0: 1.0, 3: 600.0, 4: 10.0, 6: 1.0, 9: 6.0}),\n",
       " SparseVector(10, {0: 1.0, 3: 400.0, 4: 10.0, 6: 1.0, 9: 9.0}),\n",
       " SparseVector(10, {1: 1.0, 3: 600.0, 4: 10.0, 5: 1.0, 9: 8.0}),\n",
       " SparseVector(10, {2: 1.0, 3: 400.0, 4: 8.0, 8: 1.0, 9: 4.0}),\n",
       " SparseVector(10, {0: 1.0, 3: 400.0, 4: 9.0, 8: 1.0, 9: 2.0}),\n",
       " SparseVector(10, {2: 1.0, 3: 500.0, 4: 11.0, 6: 1.0, 9: 6.0}),\n",
       " SparseVector(10, {0: 1.0, 3: 600.0, 4: 14.0, 5: 1.0, 9: 10.0}),\n",
       " SparseVector(10, {1: 1.0, 3: 400.0, 4: 7.0, 7: 1.0, 9: 10.0}),\n",
       " SparseVector(10, {0: 1.0, 3: 400.0, 4: 9.0, 8: 1.0, 9: 1.0}),\n",
       " SparseVector(10, {2: 1.0, 3: 400.0, 4: 7.0, 5: 1.0, 9: 8.0}),\n",
       " SparseVector(10, {1: 1.0, 3: 400.0, 4: 8.0, 7: 1.0, 9: 5.0}),\n",
       " SparseVector(10, {0: 1.0, 3: 500.0, 4: 10.0, 7: 1.0, 9: 4.0}),\n",
       " SparseVector(10, {0: 1.0, 3: 500.0, 4: 11.0, 5: 1.0, 9: 4.0}),\n",
       " SparseVector(10, {1: 1.0, 3: 600.0, 4: 11.0, 5: 1.0, 9: 7.0}),\n",
       " SparseVector(10, {2: 1.0, 3: 600.0, 4: 10.0, 7: 1.0, 9: 9.0}),\n",
       " SparseVector(10, {2: 1.0, 3: 400.0, 4: 7.0, 6: 1.0, 9: 9.0}),\n",
       " SparseVector(10, {1: 1.0, 3: 500.0, 4: 9.0, 5: 1.0, 9: 6.0}),\n",
       " SparseVector(10, {0: 1.0, 3: 600.0, 4: 10.0, 8: 1.0, 9: 10.0}),\n",
       " SparseVector(10, {0: 1.0, 3: 400.0, 4: 9.0, 7: 1.0, 9: 1.0}),\n",
       " SparseVector(10, {0: 1.0, 3: 500.0, 4: 8.0, 7: 1.0, 9: 10.0}),\n",
       " SparseVector(10, {1: 1.0, 3: 400.0, 4: 8.0, 5: 1.0, 9: 1.0}),\n",
       " SparseVector(10, {0: 1.0, 3: 600.0, 4: 10.0, 7: 1.0, 9: 3.0}),\n",
       " SparseVector(10, {0: 1.0, 3: 500.0, 4: 9.0, 8: 1.0, 9: 6.0}),\n",
       " SparseVector(10, {0: 1.0, 3: 500.0, 4: 8.0, 7: 1.0, 9: 1.0}),\n",
       " SparseVector(10, {1: 1.0, 3: 500.0, 4: 9.0, 6: 1.0, 9: 8.0}),\n",
       " SparseVector(10, {1: 1.0, 3: 400.0, 4: 10.0, 8: 1.0, 9: 1.0}),\n",
       " SparseVector(10, {0: 1.0, 3: 500.0, 4: 10.0, 6: 1.0, 9: 8.0}),\n",
       " SparseVector(10, {0: 1.0, 3: 400.0, 4: 8.0, 8: 1.0, 9: 10.0}),\n",
       " SparseVector(10, {0: 1.0, 3: 500.0, 4: 8.0, 8: 1.0, 9: 1.0}),\n",
       " SparseVector(10, {2: 1.0, 3: 400.0, 4: 7.0, 6: 1.0, 9: 8.0}),\n",
       " SparseVector(10, {2: 1.0, 3: 500.0, 4: 9.0, 5: 1.0, 9: 10.0}),\n",
       " SparseVector(10, {0: 1.0, 3: 500.0, 4: 10.0, 7: 1.0, 9: 8.0}),\n",
       " SparseVector(10, {0: 1.0, 3: 400.0, 4: 6.0, 8: 1.0, 9: 4.0}),\n",
       " SparseVector(10, {1: 1.0, 3: 500.0, 4: 10.0, 6: 1.0, 9: 7.0}),\n",
       " SparseVector(10, {2: 1.0, 3: 400.0, 4: 8.0, 5: 1.0, 9: 4.0}),\n",
       " SparseVector(10, {2: 1.0, 3: 600.0, 4: 10.0, 5: 1.0, 9: 1.0}),\n",
       " SparseVector(10, {2: 1.0, 3: 500.0, 4: 8.0, 5: 1.0, 9: 8.0}),\n",
       " SparseVector(10, {1: 1.0, 3: 400.0, 4: 6.0, 8: 1.0, 9: 9.0}),\n",
       " SparseVector(10, {1: 1.0, 3: 600.0, 4: 9.0, 7: 1.0, 9: 10.0}),\n",
       " SparseVector(10, {2: 1.0, 3: 500.0, 4: 9.0, 6: 1.0, 9: 7.0}),\n",
       " SparseVector(10, {1: 1.0, 3: 600.0, 4: 9.0, 8: 1.0, 9: 9.0}),\n",
       " SparseVector(10, {1: 1.0, 3: 600.0, 4: 10.0, 5: 1.0, 9: 10.0}),\n",
       " SparseVector(10, {1: 1.0, 3: 500.0, 4: 9.0, 6: 1.0, 9: 6.0}),\n",
       " SparseVector(10, {0: 1.0, 3: 600.0, 4: 10.0, 5: 1.0, 9: 1.0}),\n",
       " SparseVector(10, {0: 1.0, 3: 500.0, 4: 9.0, 5: 1.0, 9: 10.0}),\n",
       " SparseVector(10, {1: 1.0, 3: 500.0, 4: 10.0, 6: 1.0, 9: 10.0}),\n",
       " SparseVector(10, {0: 1.0, 3: 400.0, 4: 9.0, 6: 1.0, 9: 3.0}),\n",
       " SparseVector(10, {1: 1.0, 3: 600.0, 4: 12.0, 5: 1.0, 9: 6.0}),\n",
       " SparseVector(10, {1: 1.0, 3: 600.0, 4: 9.0, 6: 1.0, 9: 7.0}),\n",
       " SparseVector(10, {1: 1.0, 3: 600.0, 4: 9.0, 6: 1.0, 9: 10.0}),\n",
       " SparseVector(10, {0: 1.0, 3: 400.0, 4: 9.0, 8: 1.0, 9: 5.0}),\n",
       " SparseVector(10, {0: 1.0, 3: 500.0, 4: 10.0, 8: 1.0, 9: 9.0}),\n",
       " SparseVector(10, {0: 1.0, 3: 400.0, 4: 9.0, 7: 1.0, 9: 2.0}),\n",
       " SparseVector(10, {0: 1.0, 3: 500.0, 4: 9.0, 7: 1.0, 9: 3.0}),\n",
       " SparseVector(10, {1: 1.0, 3: 400.0, 4: 10.0, 6: 1.0, 9: 1.0}),\n",
       " SparseVector(10, {0: 1.0, 3: 600.0, 4: 9.0, 5: 1.0, 9: 5.0}),\n",
       " SparseVector(10, {0: 1.0, 3: 400.0, 4: 6.0, 5: 1.0, 9: 10.0}),\n",
       " SparseVector(10, {0: 1.0, 3: 400.0, 4: 8.0, 5: 1.0, 9: 7.0}),\n",
       " SparseVector(10, {1: 1.0, 3: 400.0, 4: 8.0, 6: 1.0, 9: 5.0}),\n",
       " SparseVector(10, {1: 1.0, 3: 500.0, 4: 9.0, 6: 1.0, 9: 5.0}),\n",
       " SparseVector(10, {0: 1.0, 3: 600.0, 4: 9.0, 5: 1.0, 9: 6.0}),\n",
       " SparseVector(10, {2: 1.0, 3: 400.0, 4: 7.0, 6: 1.0, 9: 6.0}),\n",
       " SparseVector(10, {0: 1.0, 3: 400.0, 4: 8.0, 6: 1.0, 9: 10.0}),\n",
       " SparseVector(10, {1: 1.0, 3: 600.0, 4: 10.0, 7: 1.0, 9: 1.0}),\n",
       " SparseVector(10, {1: 1.0, 3: 600.0, 4: 10.0, 7: 1.0, 9: 6.0}),\n",
       " SparseVector(10, {2: 1.0, 3: 600.0, 4: 10.0, 5: 1.0, 9: 10.0}),\n",
       " SparseVector(10, {2: 1.0, 3: 400.0, 4: 7.0, 6: 1.0, 9: 5.0}),\n",
       " SparseVector(10, {1: 1.0, 3: 400.0, 4: 9.0, 7: 1.0, 9: 2.0}),\n",
       " SparseVector(10, {0: 1.0, 3: 400.0, 4: 7.0, 6: 1.0, 9: 8.0}),\n",
       " SparseVector(10, {2: 1.0, 3: 400.0, 4: 7.0, 5: 1.0, 9: 5.0}),\n",
       " SparseVector(10, {1: 1.0, 3: 400.0, 4: 6.0, 6: 1.0, 9: 9.0}),\n",
       " SparseVector(10, {1: 1.0, 3: 500.0, 4: 10.0, 5: 1.0, 9: 9.0}),\n",
       " SparseVector(10, {2: 1.0, 3: 600.0, 4: 10.0, 6: 1.0, 9: 9.0}),\n",
       " SparseVector(10, {2: 1.0, 3: 600.0, 4: 12.0, 5: 1.0, 9: 6.0}),\n",
       " SparseVector(10, {0: 1.0, 3: 600.0, 4: 13.0, 5: 1.0, 9: 8.0}),\n",
       " SparseVector(10, {0: 1.0, 3: 600.0, 4: 10.0, 6: 1.0, 9: 7.0}),\n",
       " SparseVector(10, {0: 1.0, 3: 600.0, 4: 9.0, 6: 1.0, 9: 2.0}),\n",
       " SparseVector(10, {1: 1.0, 3: 600.0, 4: 9.0, 6: 1.0, 9: 2.0}),\n",
       " SparseVector(10, {1: 1.0, 3: 600.0, 4: 10.0, 6: 1.0, 9: 1.0}),\n",
       " SparseVector(10, {2: 1.0, 3: 500.0, 4: 8.0, 5: 1.0, 9: 9.0}),\n",
       " SparseVector(10, {0: 1.0, 3: 400.0, 4: 6.0, 6: 1.0, 9: 4.0}),\n",
       " SparseVector(10, {2: 1.0, 3: 500.0, 4: 8.0, 5: 1.0, 9: 3.0}),\n",
       " SparseVector(10, {2: 1.0, 3: 500.0, 4: 9.0, 5: 1.0, 9: 2.0}),\n",
       " SparseVector(10, {2: 1.0, 3: 400.0, 4: 7.0, 8: 1.0, 9: 9.0}),\n",
       " SparseVector(10, {1: 1.0, 3: 600.0, 4: 10.0, 6: 1.0, 9: 6.0}),\n",
       " SparseVector(10, {0: 1.0, 3: 400.0, 4: 9.0, 5: 1.0, 9: 6.0}),\n",
       " SparseVector(10, {2: 1.0, 3: 400.0, 4: 7.0, 8: 1.0, 9: 8.0}),\n",
       " SparseVector(10, {1: 1.0, 3: 500.0, 4: 9.0, 7: 1.0, 9: 5.0}),\n",
       " SparseVector(10, {1: 1.0, 3: 500.0, 4: 8.0, 5: 1.0, 9: 8.0}),\n",
       " SparseVector(10, {1: 1.0, 3: 400.0, 4: 8.0, 5: 1.0, 9: 7.0}),\n",
       " SparseVector(10, {1: 1.0, 3: 500.0, 4: 9.0, 5: 1.0, 9: 1.0}),\n",
       " SparseVector(10, {0: 1.0, 3: 400.0, 4: 8.0, 5: 1.0, 9: 1.0}),\n",
       " SparseVector(10, {0: 1.0, 3: 500.0, 4: 9.0, 6: 1.0, 9: 6.0}),\n",
       " SparseVector(10, {1: 1.0, 3: 600.0, 4: 11.0, 5: 1.0, 9: 5.0}),\n",
       " SparseVector(10, {0: 1.0, 3: 500.0, 4: 10.0, 6: 1.0, 9: 9.0}),\n",
       " SparseVector(10, {2: 1.0, 3: 400.0, 4: 7.0, 7: 1.0, 9: 8.0}),\n",
       " SparseVector(10, {0: 1.0, 3: 600.0, 4: 12.0, 8: 1.0, 9: 8.0}),\n",
       " SparseVector(10, {1: 1.0, 3: 600.0, 4: 11.0, 6: 1.0, 9: 8.0}),\n",
       " SparseVector(10, {2: 1.0, 3: 600.0, 4: 13.0, 5: 1.0, 9: 2.0}),\n",
       " SparseVector(10, {1: 1.0, 3: 600.0, 4: 10.0, 8: 1.0, 9: 5.0}),\n",
       " SparseVector(10, {0: 1.0, 3: 400.0, 4: 9.0, 7: 1.0, 9: 5.0}),\n",
       " SparseVector(10, {2: 1.0, 3: 500.0, 4: 8.0, 6: 1.0, 9: 2.0}),\n",
       " SparseVector(10, {3: 600.0, 4: 10.0, 9: 1.0}),\n",
       " SparseVector(10, {1: 1.0, 3: 500.0, 4: 10.0, 8: 1.0, 9: 7.0}),\n",
       " SparseVector(10, {2: 1.0, 3: 500.0, 4: 9.0, 7: 1.0, 9: 1.0}),\n",
       " SparseVector(10, {1: 1.0, 3: 400.0, 4: 6.0, 7: 1.0, 9: 6.0}),\n",
       " SparseVector(10, {2: 1.0, 3: 400.0, 4: 8.0, 5: 1.0, 9: 10.0}),\n",
       " SparseVector(10, {0: 1.0, 3: 500.0, 4: 8.0, 8: 1.0, 9: 2.0}),\n",
       " SparseVector(10, {1: 1.0, 3: 400.0, 4: 8.0, 5: 1.0, 9: 4.0}),\n",
       " SparseVector(10, {1: 1.0, 3: 400.0, 4: 8.0, 5: 1.0, 9: 10.0}),\n",
       " SparseVector(10, {1: 1.0, 3: 400.0, 4: 6.0, 7: 1.0, 9: 9.0})]"
      ]
     },
     "execution_count": 71,
     "metadata": {},
     "output_type": "execute_result"
    }
   ],
   "source": [
    "o=lr_model.transform(vhouse_df).select('features')\n",
    "features=o.select('features').rdd.map(lambda row : row.features).collect()\n",
    "features\n",
    "\n",
    "#questo chunk serve per capire come sono le features nel dataframe. Permette di effettuare commenti sulle variabili\n",
    "#factor del modello, e ci permette di capire che la baseline per F1 è =20 e la baseline per F4 è uguale a D"
   ]
  },
  {
   "cell_type": "code",
   "execution_count": 72,
   "metadata": {},
   "outputs": [
    {
     "name": "stdout",
     "output_type": "stream",
     "text": [
      "RMSE: 1.253903\n",
      "r2: 0.359662\n"
     ]
    }
   ],
   "source": [
    "trainingSummary = lr_model.summary\n",
    "print(\"RMSE: %f\" % trainingSummary.rootMeanSquaredError)\n",
    "print(\"r2: %f\" % trainingSummary.r2)\n",
    "\n",
    "#l' R quadro risulta essere basso, a documento del fatto che sono il 36% della variabilità della risposta venga spiegato\n",
    "#dalle covariate di input. In generale non ci si può ritenere del tutto soddisfatti della modellazione lineare ottenuta\n",
    "#in questo ambito, nonostante gli accorgimenti presi (gestione outlier e sistemazione normalità)"
   ]
  },
  {
   "cell_type": "code",
   "execution_count": null,
   "metadata": {},
   "outputs": [],
   "source": []
  },
  {
   "cell_type": "code",
   "execution_count": null,
   "metadata": {},
   "outputs": [],
   "source": [
    "#CBC_TIME variabile risposta"
   ]
  },
  {
   "cell_type": "code",
   "execution_count": 74,
   "metadata": {},
   "outputs": [
    {
     "name": "stdout",
     "output_type": "stream",
     "text": [
      "+--------------------+------------------+\n",
      "|            features|          CBC_TIME|\n",
      "+--------------------+------------------+\n",
      "|(10,[2,3,4,6,9],[...|-3.506557897319982|\n",
      "|(10,[0,3,4,6,9],[...|-4.605170185988091|\n",
      "|(10,[0,3,4,7,9],[...|0.5187937934151675|\n",
      "+--------------------+------------------+\n",
      "only showing top 3 rows\n",
      "\n"
     ]
    }
   ],
   "source": [
    "#in questo chunk prepariamo il dataset alla regressione, sfruttando il vector assembler della libreria ml.feature\n",
    "\n",
    "from pyspark.ml.feature import VectorAssembler\n",
    "from pyspark.ml.regression import LinearRegression\n",
    "\n",
    "indexer = StringIndexer(inputCol=\"F1\", outputCol=\"F1_idx\")\n",
    "indexed = indexer.fit(reg_cbc).transform(reg_cbc)\n",
    "indexer = StringIndexer(inputCol=\"F4\", outputCol=\"F4_idx\")\n",
    "indexed = indexer.fit(indexed).transform(indexed)\n",
    "\n",
    "encoder = OneHotEncoderEstimator(inputCols=['F1_idx','F4_idx'], outputCols=[\"F1_category\", \"F4_category\"])\n",
    "new_df=encoder.fit(indexed).transform(indexed)\n",
    "\n",
    "#il codice di questo chunk è finalizzato a categorizzare le variabili di input F1 ed F4, per una migliore analisi\n",
    "#esse infatti sono tranquillamente riconducibili a variabili factor, sfruttando onehot encoding\n",
    "\n",
    "vectorAssembler = VectorAssembler(inputCols = ['F1_category','F2','F3','F4_category','Rep'], outputCol = 'features')\n",
    "vhouse_df = vectorAssembler.transform(new_df)\n",
    "vhouse_df = vhouse_df.select(['features', 'CBC_TIME'])\n",
    "vhouse_df.show(3)"
   ]
  },
  {
   "cell_type": "code",
   "execution_count": 75,
   "metadata": {},
   "outputs": [
    {
     "name": "stdout",
     "output_type": "stream",
     "text": [
      "Coefficients: [0.41337465 1.         1.         1.0030023  1.19434868 0.58851443\n",
      " 0.34538569 2.78893545 2.34354414 1.        ]\n",
      "Intercept: 0.030553817381161946\n"
     ]
    }
   ],
   "source": [
    "from pyspark.ml.regression import LinearRegression\n",
    "lr = LinearRegression(featuresCol = 'features', labelCol='CBC_TIME', maxIter=13, regParam=0.3, elasticNetParam=0.8)\n",
    "lr_model = lr.fit(vhouse_df)\n",
    "print(\"Coefficients: \" + str(np.exp(lr_model.coefficients)))  \n",
    "print(\"Intercept: \" + str(np.exp(lr_model.intercept)))\n",
    "\n",
    "#sfruttiamo l'esponenziale in quanto la variabile risposta è di tipo logaritmico, dunque dobbiamo riportarei risultati\n",
    "#alla realtà per favorire l'interpretazione di essi\n",
    "\n",
    "#Sorprendentemente in questo caso, la maggiore influenza sul modello la si ha nel passaggio da categoria baseline \n",
    "#di F4=D alle categorie C ed F.Questi gruppi di F4 impattano più delle altre variabili sulla risposta\n"
   ]
  },
  {
   "cell_type": "code",
   "execution_count": 76,
   "metadata": {},
   "outputs": [
    {
     "name": "stdout",
     "output_type": "stream",
     "text": [
      "RMSE: 1.793121\n",
      "r2: 0.409622\n"
     ]
    }
   ],
   "source": [
    "trainingSummary = lr_model.summary\n",
    "print(\"RMSE: %f\" % trainingSummary.rootMeanSquaredError)\n",
    "print(\"r2: %f\" % trainingSummary.r2)\n",
    "\n",
    "#anche in questo caso la variabilità della risposta non è pienamente spiegata dalle covariate."
   ]
  },
  {
   "cell_type": "code",
   "execution_count": null,
   "metadata": {},
   "outputs": [],
   "source": []
  },
  {
   "cell_type": "code",
   "execution_count": null,
   "metadata": {},
   "outputs": [],
   "source": [
    "#NEWCBC_TIME variabile risposta"
   ]
  },
  {
   "cell_type": "code",
   "execution_count": 77,
   "metadata": {},
   "outputs": [
    {
     "name": "stdout",
     "output_type": "stream",
     "text": [
      "+--------------------+------------------+\n",
      "|            features|       NEWCBC_TIME|\n",
      "+--------------------+------------------+\n",
      "|(12,[0,4,5,9,11],...|-3.036554268074246|\n",
      "|(12,[2,4,5,9,11],...|-3.816712825623821|\n",
      "|(12,[2,4,5,6,11],...|-3.863232841258714|\n",
      "+--------------------+------------------+\n",
      "only showing top 3 rows\n",
      "\n"
     ]
    }
   ],
   "source": [
    "#in questo chunk prepariamo il dataset alla regressione, sfruttando il vector assembler della libreria ml.feature\n",
    "\n",
    "from pyspark.ml.feature import VectorAssembler\n",
    "from pyspark.ml.regression import LinearRegression\n",
    "\n",
    "indexer = StringIndexer(inputCol=\"F1\", outputCol=\"F1_idx\")\n",
    "indexed = indexer.fit(reg_new).transform(reg_new)\n",
    "indexer = StringIndexer(inputCol=\"F4\", outputCol=\"F4_idx\")\n",
    "indexed = indexer.fit(indexed).transform(indexed)\n",
    "\n",
    "encoder = OneHotEncoderEstimator(inputCols=['F1_idx','F4_idx'], outputCols=[\"F1_category\", \"F4_category\"])\n",
    "new_df=encoder.fit(indexed).transform(indexed)\n",
    "\n",
    "#il codice di questo chunk è finalizzato a categorizzare le variabili di input F1 ed F4, per una migliore analisi\n",
    "#esse infatti sono tranquillamente riconducibili a variabili factor, sfruttando onehot encoding\n",
    "\n",
    "vectorAssembler = VectorAssembler(inputCols = ['F1_category','F2','F3','F4_category','Rep'], outputCol = 'features')\n",
    "vhouse_df = vectorAssembler.transform(new_df)\n",
    "vhouse_df = vhouse_df.select(['features', 'NEWCBC_TIME'])\n",
    "vhouse_df.show(3)"
   ]
  },
  {
   "cell_type": "code",
   "execution_count": 78,
   "metadata": {},
   "outputs": [
    {
     "name": "stdout",
     "output_type": "stream",
     "text": [
      "Coefficients: [1.57231218 1.         0.64889989 1.         1.00042716 1.03813197\n",
      " 1.         1.         1.         1.         1.         1.        ]\n",
      "Intercept: 0.0539157058238255\n"
     ]
    }
   ],
   "source": [
    "from pyspark.ml.regression import LinearRegression\n",
    "lr = LinearRegression(featuresCol = 'features', labelCol='NEWCBC_TIME', maxIter=13, regParam=0.3, elasticNetParam=0.8)\n",
    "lr_model = lr.fit(vhouse_df)\n",
    "print(\"Coefficients: \" + str(np.exp(lr_model.coefficients)))  \n",
    "print(\"Intercept: \" + str(np.exp(lr_model.intercept)))\n",
    "\n",
    "#sfruttiamo l'esponenziale in quanto la variabile risposta è di tipo logaritmico, dunque dobbiamo riportarei risultati\n",
    "#alla realtà per favorire l'interpretazione di essi\n",
    "\n",
    "#anche in questo caso l'impatto maggiore sul modello lo ha una variabile factor, in particolare la variabiule F1, come nel \n",
    "#caso del Model_time. In particolare, a parità degli altri coefficienti,passando dalla categoria baseline di F1 (F1=15) alla categoria F1=3, si evince \n",
    "#un aumento medio del tempo di computazione impegato dell'algoritmo di 1.57-1.00 = 0.57 secondi. Si noti come quasi tutte \n",
    "# le altre variabili hanno una influenza simile sulla variabile risposta in media"
   ]
  },
  {
   "cell_type": "code",
   "execution_count": 79,
   "metadata": {},
   "outputs": [
    {
     "name": "stdout",
     "output_type": "stream",
     "text": [
      "RMSE: 0.745002\n",
      "r2: 0.426861\n"
     ]
    }
   ],
   "source": [
    "trainingSummary = lr_model.summary\n",
    "print(\"RMSE: %f\" % trainingSummary.rootMeanSquaredError)\n",
    "print(\"r2: %f\" % trainingSummary.r2)\n",
    "\n",
    "#anche in questo caso il commento è simile agli altri casi precedenti"
   ]
  },
  {
   "cell_type": "code",
   "execution_count": null,
   "metadata": {},
   "outputs": [],
   "source": [
    "#si può dunque concludere che le variabili che impattano maggiormente sul tempo di esecuzione degli algoritmi\n",
    "#sono le due variabili categoriali F1 ed F4"
   ]
  },
  {
   "cell_type": "code",
   "execution_count": null,
   "metadata": {},
   "outputs": [],
   "source": []
  },
  {
   "cell_type": "code",
   "execution_count": null,
   "metadata": {},
   "outputs": [],
   "source": [
    "#PREDICT\n"
   ]
  },
  {
   "cell_type": "code",
   "execution_count": null,
   "metadata": {},
   "outputs": [],
   "source": [
    "#per rispondere a questa domanda si decide di analizzare l'algoritmo NEWCBC per quanto concerne lo studio inerente alle\n",
    "#variabili objective function, in quanto comuqnue tutte le tre variabili di output relative alla OF hanno distribuzione\n",
    "#media e varianza approssimativamente uguali, come si evince dal test anova, dunque analizzare una equivale ad analizzare l'altra\n",
    "#in pratica. Si sceglie duqneu l'algoritmo più prestazionale in termini di tempo per effettuare questa analisi di predizione"
   ]
  },
  {
   "cell_type": "code",
   "execution_count": 80,
   "metadata": {},
   "outputs": [
    {
     "data": {
      "text/html": [
       "<div>\n",
       "<style scoped>\n",
       "    .dataframe tbody tr th:only-of-type {\n",
       "        vertical-align: middle;\n",
       "    }\n",
       "\n",
       "    .dataframe tbody tr th {\n",
       "        vertical-align: top;\n",
       "    }\n",
       "\n",
       "    .dataframe thead th {\n",
       "        text-align: right;\n",
       "    }\n",
       "</style>\n",
       "<table border=\"1\" class=\"dataframe\">\n",
       "  <thead>\n",
       "    <tr style=\"text-align: right;\">\n",
       "      <th></th>\n",
       "      <th>F1</th>\n",
       "      <th>F2</th>\n",
       "      <th>F3</th>\n",
       "      <th>F4</th>\n",
       "      <th>Rep</th>\n",
       "      <th>MODEL_OF</th>\n",
       "      <th>MODEL_OFUB</th>\n",
       "      <th>MODEL_TIME</th>\n",
       "      <th>CBC_OF</th>\n",
       "      <th>CBC_TIME</th>\n",
       "      <th>CBC_FC</th>\n",
       "      <th>CBC_PC</th>\n",
       "      <th>NEWCBC_OF</th>\n",
       "      <th>NEWCBC_TIME</th>\n",
       "      <th>NEWCBC_FC</th>\n",
       "    </tr>\n",
       "  </thead>\n",
       "  <tbody>\n",
       "    <tr>\n",
       "      <th>0</th>\n",
       "      <td>3</td>\n",
       "      <td>400</td>\n",
       "      <td>9</td>\n",
       "      <td>A</td>\n",
       "      <td>1</td>\n",
       "      <td>197</td>\n",
       "      <td>197</td>\n",
       "      <td>0.290</td>\n",
       "      <td>197</td>\n",
       "      <td>0.02</td>\n",
       "      <td>0</td>\n",
       "      <td>1</td>\n",
       "      <td>197</td>\n",
       "      <td>0.056</td>\n",
       "      <td>0</td>\n",
       "    </tr>\n",
       "    <tr>\n",
       "      <th>1</th>\n",
       "      <td>3</td>\n",
       "      <td>400</td>\n",
       "      <td>9</td>\n",
       "      <td>A</td>\n",
       "      <td>2</td>\n",
       "      <td>162</td>\n",
       "      <td>162</td>\n",
       "      <td>0.240</td>\n",
       "      <td>162</td>\n",
       "      <td>0.02</td>\n",
       "      <td>0</td>\n",
       "      <td>0</td>\n",
       "      <td>162</td>\n",
       "      <td>0.016</td>\n",
       "      <td>0</td>\n",
       "    </tr>\n",
       "    <tr>\n",
       "      <th>2</th>\n",
       "      <td>3</td>\n",
       "      <td>400</td>\n",
       "      <td>9</td>\n",
       "      <td>A</td>\n",
       "      <td>3</td>\n",
       "      <td>165</td>\n",
       "      <td>165</td>\n",
       "      <td>0.850</td>\n",
       "      <td>165</td>\n",
       "      <td>0.01</td>\n",
       "      <td>0</td>\n",
       "      <td>0</td>\n",
       "      <td>165</td>\n",
       "      <td>0.023</td>\n",
       "      <td>0</td>\n",
       "    </tr>\n",
       "    <tr>\n",
       "      <th>3</th>\n",
       "      <td>3</td>\n",
       "      <td>400</td>\n",
       "      <td>6</td>\n",
       "      <td>A</td>\n",
       "      <td>4</td>\n",
       "      <td>178</td>\n",
       "      <td>178</td>\n",
       "      <td>0.311</td>\n",
       "      <td>178</td>\n",
       "      <td>0.02</td>\n",
       "      <td>0</td>\n",
       "      <td>1</td>\n",
       "      <td>178</td>\n",
       "      <td>0.012</td>\n",
       "      <td>0</td>\n",
       "    </tr>\n",
       "    <tr>\n",
       "      <th>4</th>\n",
       "      <td>3</td>\n",
       "      <td>400</td>\n",
       "      <td>9</td>\n",
       "      <td>A</td>\n",
       "      <td>5</td>\n",
       "      <td>220</td>\n",
       "      <td>220</td>\n",
       "      <td>0.720</td>\n",
       "      <td>220</td>\n",
       "      <td>0.03</td>\n",
       "      <td>0</td>\n",
       "      <td>1</td>\n",
       "      <td>220</td>\n",
       "      <td>0.038</td>\n",
       "      <td>0</td>\n",
       "    </tr>\n",
       "  </tbody>\n",
       "</table>\n",
       "</div>"
      ],
      "text/plain": [
       "   F1   F2  F3 F4  Rep  MODEL_OF  MODEL_OFUB  MODEL_TIME  CBC_OF  CBC_TIME  CBC_FC  CBC_PC  NEWCBC_OF  NEWCBC_TIME  NEWCBC_FC\n",
       "0   3  400   9  A    1       197         197       0.290     197      0.02       0       1        197        0.056          0\n",
       "1   3  400   9  A    2       162         162       0.240     162      0.02       0       0        162        0.016          0\n",
       "2   3  400   9  A    3       165         165       0.850     165      0.01       0       0        165        0.023          0\n",
       "3   3  400   6  A    4       178         178       0.311     178      0.02       0       1        178        0.012          0\n",
       "4   3  400   9  A    5       220         220       0.720     220      0.03       0       1        220        0.038          0"
      ]
     },
     "execution_count": 80,
     "metadata": {},
     "output_type": "execute_result"
    }
   ],
   "source": [
    "kdf=pdf\n",
    "kdf.head()\n"
   ]
  },
  {
   "cell_type": "code",
   "execution_count": 81,
   "metadata": {},
   "outputs": [
    {
     "name": "stdout",
     "output_type": "stream",
     "text": [
      "Coefficients: [-14.83830901233705,11.541994263350398,1.2952002842588655,30.337712162868165,0.13227501657737487,27.331507530561527,7.2048206469125935,-56.28531768742205,81.93600904144219,24.428181526503,-69.4829773765617,-0.9552872192384486]\n",
      "Intercept: -51.529128666915994\n"
     ]
    }
   ],
   "source": [
    "kdf_OF=kdf.loc[:,[ 'F1','F2', 'F3','F4', 'Rep','NEWCBC_OF']] #filtriamo il dataset iniziale koalas tenendo solo quanto ci interessa\n",
    "kdf_OFreg=kdf_OF.to_spark()\n",
    "\n",
    "#ripetiamo tutte le operazioni di regressione precedentemente effettuate, tenendo come variabile risposta NEWCBC_OF\n",
    "indexer = StringIndexer(inputCol=\"F1\", outputCol=\"F1_idx\")\n",
    "indexed = indexer.fit(kdf_OFreg).transform(kdf_OFreg)\n",
    "indexer = StringIndexer(inputCol=\"F4\", outputCol=\"F4_idx\")\n",
    "indexed = indexer.fit(indexed).transform(indexed)\n",
    "\n",
    "encoder = OneHotEncoderEstimator(inputCols=['F1_idx','F4_idx'], outputCols=[\"F1_category\", \"F4_category\"])\n",
    "new_df=encoder.fit(indexed).transform(indexed)\n",
    "\n",
    "vectorAssembler = VectorAssembler(inputCols = ['F1_category','F2','F3','F4_category','Rep'], outputCol = 'features')\n",
    "vhouse_df = vectorAssembler.transform(new_df)\n",
    "vhouse_df = vhouse_df.select(['features', 'NEWCBC_OF'])\n",
    "\n",
    "splits = vhouse_df.randomSplit([0.7, 0.3])  #questa volta effettuamo divisione Holdout in train e test\n",
    "train_df = splits[0]\n",
    "test_df = splits[1]\n",
    "\n",
    "lr = LinearRegression(featuresCol = 'features', labelCol='NEWCBC_OF', maxIter=13, regParam=0.3, elasticNetParam=0.8)\n",
    "lr_model = lr.fit(train_df)\n",
    "print(\"Coefficients: \" + str(lr_model.coefficients))\n",
    "print(\"Intercept: \" + str(lr_model.intercept))"
   ]
  },
  {
   "cell_type": "code",
   "execution_count": 82,
   "metadata": {},
   "outputs": [
    {
     "name": "stdout",
     "output_type": "stream",
     "text": [
      "RMSE: 62.665016\n",
      "r2: 0.631300\n"
     ]
    }
   ],
   "source": [
    "trainingSummary = lr_model.summary\n",
    "print(\"RMSE: %f\" % trainingSummary.rootMeanSquaredError)\n",
    "print(\"r2: %f\" % trainingSummary.r2)"
   ]
  },
  {
   "cell_type": "code",
   "execution_count": null,
   "metadata": {},
   "outputs": [],
   "source": [
    "#analizzando i risultati sul train set ottenuto con il metodo holdout semplice 70-30, si evince un valore di rquadro \n",
    "#pari a 0.63 ed un merrore medio pari a 62.67. \n",
    "#ora ci interessa analizzare i risultati ottenuti sul test set, al fine di valutare se è possibile predire o meno\n",
    "#l' objective function in maniera attendibile e precisa"
   ]
  },
  {
   "cell_type": "code",
   "execution_count": null,
   "metadata": {},
   "outputs": [],
   "source": [
    "#test"
   ]
  },
  {
   "cell_type": "code",
   "execution_count": 83,
   "metadata": {},
   "outputs": [
    {
     "name": "stdout",
     "output_type": "stream",
     "text": [
      "+------------------+---------+--------------------+\n",
      "|        prediction|NEWCBC_OF|            features|\n",
      "+------------------+---------+--------------------+\n",
      "| 191.4190411166861|      197|(12,[2,4,5,7,11],...|\n",
      "|168.71745027071603|      177|(12,[2,4,5,7,11],...|\n",
      "|202.73596833594667|      156|(12,[2,4,5,7,11],...|\n",
      "|225.29103977031593|      172|(12,[2,4,5,7,11],...|\n",
      "|224.33575255107752|      246|(12,[2,4,5,7,11],...|\n",
      "+------------------+---------+--------------------+\n",
      "only showing top 5 rows\n",
      "\n",
      "R Squared (R2) on test data = 0.620379\n"
     ]
    }
   ],
   "source": [
    "lr_predictions = lr_model.transform(test_df)\n",
    "lr_predictions.select(\"prediction\",\"NEWCBC_OF\",\"features\").show(5)\n",
    "from pyspark.ml.evaluation import RegressionEvaluator\n",
    "lr_evaluator = RegressionEvaluator(predictionCol=\"prediction\", \\\n",
    "                 labelCol=\"NEWCBC_OF\",metricName=\"r2\")\n",
    "print(\"R Squared (R2) on test data = %g\" % lr_evaluator.evaluate(lr_predictions))"
   ]
  },
  {
   "cell_type": "code",
   "execution_count": 84,
   "metadata": {},
   "outputs": [
    {
     "name": "stdout",
     "output_type": "stream",
     "text": [
      "Root Mean Squared Error (RMSE) on test data = 60.6283\n"
     ]
    }
   ],
   "source": [
    "test_result = lr_model.evaluate(test_df)\n",
    "print(\"Root Mean Squared Error (RMSE) on test data = %g\" % test_result.rootMeanSquaredError)"
   ]
  },
  {
   "cell_type": "code",
   "execution_count": null,
   "metadata": {},
   "outputs": [],
   "source": [
    "#L'R quadro si abbassa leggermente, mentre il RMSE diminuisce leggermente. Ad ogni modo i risultati sono molto simili\n",
    "#tra test e train, a documento del fatto che sia possibile predire la variabile OF in generale. "
   ]
  },
  {
   "cell_type": "code",
   "execution_count": null,
   "metadata": {},
   "outputs": [],
   "source": []
  },
  {
   "cell_type": "code",
   "execution_count": null,
   "metadata": {},
   "outputs": [],
   "source": [
    "#per analizzare la performance di prediction delle variabili output inerenti al tempo di esecuzione, si seleziona\n",
    "#l'algoritmo NEWCBC_TIME, in quanto è risultato il migliore in termini di efficienza computazionale in fase di test statistici. Si riportano l'analisi\n",
    "#di regressione lineare fatta precedentemente, con train e test sta volta, sfruttando un metodo Holdout semplice"
   ]
  },
  {
   "cell_type": "code",
   "execution_count": 86,
   "metadata": {},
   "outputs": [],
   "source": [
    "#in questo chunk prepariamo il dataset alla regressione, sfruttando il vector assembler della libreria ml.feature\n",
    "\n",
    "from pyspark.ml.feature import VectorAssembler\n",
    "from pyspark.ml.regression import LinearRegression\n",
    "\n",
    "indexer = StringIndexer(inputCol=\"F1\", outputCol=\"F1_idx\")\n",
    "indexed = indexer.fit(reg_new).transform(reg_new)\n",
    "indexer = StringIndexer(inputCol=\"F4\", outputCol=\"F4_idx\")\n",
    "indexed = indexer.fit(indexed).transform(indexed)\n",
    "\n",
    "encoder = OneHotEncoderEstimator(inputCols=['F1_idx','F4_idx'], outputCols=[\"F1_category\", \"F4_category\"])\n",
    "new_df=encoder.fit(indexed).transform(indexed)\n",
    "\n",
    "#il codice di questo chunk è finalizzato a categorizzare le variabili di input F1 ed F4, per una migliore analisi\n",
    "#esse infatti sono tranquillamente riconducibili a variabili factor, sfruttando onehot encoding\n",
    "vectorAssembler = VectorAssembler(inputCols = ['F1_category','F2','F3','F4_category','Rep'], outputCol = 'features')\n",
    "vhouse_df = vectorAssembler.transform(new_df)\n",
    "vhouse_df = vhouse_df.select(['features', 'NEWCBC_TIME'])\n",
    "\n",
    "splits = vhouse_df.randomSplit([0.7, 0.3])  #questa volta effettuamo divisione Holdout in train e test\n",
    "train_df = splits[0]\n",
    "test_df = splits[1]"
   ]
  },
  {
   "cell_type": "code",
   "execution_count": 87,
   "metadata": {},
   "outputs": [
    {
     "name": "stdout",
     "output_type": "stream",
     "text": [
      "Coefficients: [1.55204766 1.         0.60754789 1.         1.00066744 1.02444427\n",
      " 1.         1.         1.         1.         1.         1.        ]\n",
      "Intercept: 0.055897976677989895\n"
     ]
    }
   ],
   "source": [
    "from pyspark.ml.regression import LinearRegression\n",
    "lr = LinearRegression(featuresCol = 'features', labelCol='NEWCBC_TIME', maxIter=13, regParam=0.3, elasticNetParam=0.8)\n",
    "lr_model = lr.fit(train_df)\n",
    "print(\"Coefficients: \" + str(np.exp(lr_model.coefficients)))  \n",
    "print(\"Intercept: \" + str(np.exp(lr_model.intercept)))\n",
    "\n",
    "#sfruttiamo l'esponenziale in quanto la variabile risposta è di tipo logaritmico, dunque dobbiamo riportarei risultati\n",
    "#alla realtà per favorire l'interpretazione di essi\n",
    "\n",
    "#ovviamente l'interpretazione dei risultati non cambia dall'analisi precedente effettuata senza il metodo holdout"
   ]
  },
  {
   "cell_type": "code",
   "execution_count": 88,
   "metadata": {},
   "outputs": [
    {
     "name": "stdout",
     "output_type": "stream",
     "text": [
      "RMSE: 0.735975\n",
      "r2: 0.442654\n"
     ]
    }
   ],
   "source": [
    "trainingSummary = lr_model.summary\n",
    "print(\"RMSE: %f\" % trainingSummary.rootMeanSquaredError)\n",
    "print(\"r2: %f\" % trainingSummary.r2)"
   ]
  },
  {
   "cell_type": "code",
   "execution_count": null,
   "metadata": {},
   "outputs": [],
   "source": [
    "#test:"
   ]
  },
  {
   "cell_type": "code",
   "execution_count": 89,
   "metadata": {},
   "outputs": [
    {
     "name": "stdout",
     "output_type": "stream",
     "text": [
      "+-------------------+-------------------+--------------------+\n",
      "|         prediction|        NEWCBC_TIME|            features|\n",
      "+-------------------+-------------------+--------------------+\n",
      "|-2.0087140508141648| -3.036554268074246|(12,[0,4,5,9,11],...|\n",
      "|-2.6924190627016493| -2.120263536200091|(12,[2,4,5,6,11],...|\n",
      "|-2.6924190627016493|-1.8388510767619055|(12,[2,4,5,9,11],...|\n",
      "|-2.9707637493134866|-3.0576076772720784|(12,[2,4,5,6,11],...|\n",
      "|-2.3332671259777107|-1.6450650900772514|(12,[1,4,5,8,11],...|\n",
      "+-------------------+-------------------+--------------------+\n",
      "only showing top 5 rows\n",
      "\n",
      "R Squared (R2) on test data = 0.427155\n"
     ]
    }
   ],
   "source": [
    "lr_predictions = lr_model.transform(test_df)\n",
    "lr_predictions.select(\"prediction\",\"NEWCBC_TIME\",\"features\").show(5)\n",
    "from pyspark.ml.evaluation import RegressionEvaluator\n",
    "lr_evaluator = RegressionEvaluator(predictionCol=\"prediction\", \\\n",
    "                 labelCol=\"NEWCBC_TIME\",metricName=\"r2\")\n",
    "print(\"R Squared (R2) on test data = %g\" % lr_evaluator.evaluate(lr_predictions))"
   ]
  },
  {
   "cell_type": "code",
   "execution_count": 90,
   "metadata": {},
   "outputs": [
    {
     "name": "stdout",
     "output_type": "stream",
     "text": [
      "Root Mean Squared Error (RMSE) on test data = 0.74154\n"
     ]
    }
   ],
   "source": [
    "test_result = lr_model.evaluate(test_df)\n",
    "print(\"Root Mean Squared Error (RMSE) on test data = %g\" % test_result.rootMeanSquaredError)"
   ]
  },
  {
   "cell_type": "code",
   "execution_count": null,
   "metadata": {},
   "outputs": [],
   "source": [
    "#anche in questo caso si evincono valori di Rquadro e RMSE molto simili tra train e test set, a documentare\n",
    "#che sia possibile anche in questo caso effettuare una predizione delle variabili di output inerenti al \n",
    "#tempo di esecuzione"
   ]
  },
  {
   "cell_type": "code",
   "execution_count": null,
   "metadata": {},
   "outputs": [],
   "source": []
  },
  {
   "cell_type": "code",
   "execution_count": null,
   "metadata": {},
   "outputs": [],
   "source": []
  },
  {
   "cell_type": "code",
   "execution_count": null,
   "metadata": {},
   "outputs": [],
   "source": []
  },
  {
   "cell_type": "code",
   "execution_count": null,
   "metadata": {},
   "outputs": [],
   "source": []
  },
  {
   "cell_type": "code",
   "execution_count": null,
   "metadata": {},
   "outputs": [],
   "source": []
  }
 ],
 "metadata": {
  "kernelspec": {
   "display_name": "Python 3",
   "language": "python",
   "name": "python3"
  },
  "language_info": {
   "codemirror_mode": {
    "name": "ipython",
    "version": 3
   },
   "file_extension": ".py",
   "mimetype": "text/x-python",
   "name": "python",
   "nbconvert_exporter": "python",
   "pygments_lexer": "ipython3",
   "version": "3.7.4"
  }
 },
 "nbformat": 4,
 "nbformat_minor": 4
}
